{
 "cells": [
  {
   "cell_type": "markdown",
   "metadata": {},
   "source": [
    "## Credit Card Fraud Detection\n",
    "\n",
    "In this project you will predict fraudulent credit card transactions with the help of Machine learning models. Please import the following libraries to get started."
   ]
  },
  {
   "cell_type": "code",
   "execution_count": 1,
   "metadata": {
    "scrolled": false
   },
   "outputs": [],
   "source": [
    "import numpy as np\n",
    "import pandas as pd\n",
    "import warnings\n",
    "warnings.filterwarnings('ignore')\n",
    "\n",
    "import matplotlib.pyplot as plt\n",
    "%matplotlib inline\n",
    "import seaborn as sns\n",
    "\n",
    "from sklearn import metrics\n",
    "from sklearn import preprocessing"
   ]
  },
  {
   "cell_type": "markdown",
   "metadata": {},
   "source": [
    "# DATA UNDERSTANDING"
   ]
  },
  {
   "cell_type": "markdown",
   "metadata": {},
   "source": [
    "## Exploratory data analysis"
   ]
  },
  {
   "cell_type": "markdown",
   "metadata": {},
   "source": [
    "from google.colab import drive \n",
    "drive.mount('/content/gdrive')"
   ]
  },
  {
   "cell_type": "markdown",
   "metadata": {},
   "source": [
    "df = pd.read_csv('gdrive/My Drive/creditcard.csv')\n",
    "df.head()"
   ]
  },
  {
   "cell_type": "code",
   "execution_count": 2,
   "metadata": {},
   "outputs": [
    {
     "data": {
      "text/html": [
       "<div>\n",
       "<style scoped>\n",
       "    .dataframe tbody tr th:only-of-type {\n",
       "        vertical-align: middle;\n",
       "    }\n",
       "\n",
       "    .dataframe tbody tr th {\n",
       "        vertical-align: top;\n",
       "    }\n",
       "\n",
       "    .dataframe thead th {\n",
       "        text-align: right;\n",
       "    }\n",
       "</style>\n",
       "<table border=\"1\" class=\"dataframe\">\n",
       "  <thead>\n",
       "    <tr style=\"text-align: right;\">\n",
       "      <th></th>\n",
       "      <th>Time</th>\n",
       "      <th>V1</th>\n",
       "      <th>V2</th>\n",
       "      <th>V3</th>\n",
       "      <th>V4</th>\n",
       "      <th>V5</th>\n",
       "      <th>V6</th>\n",
       "      <th>V7</th>\n",
       "      <th>V8</th>\n",
       "      <th>V9</th>\n",
       "      <th>...</th>\n",
       "      <th>V21</th>\n",
       "      <th>V22</th>\n",
       "      <th>V23</th>\n",
       "      <th>V24</th>\n",
       "      <th>V25</th>\n",
       "      <th>V26</th>\n",
       "      <th>V27</th>\n",
       "      <th>V28</th>\n",
       "      <th>Amount</th>\n",
       "      <th>Class</th>\n",
       "    </tr>\n",
       "  </thead>\n",
       "  <tbody>\n",
       "    <tr>\n",
       "      <th>0</th>\n",
       "      <td>0.0</td>\n",
       "      <td>-1.359807</td>\n",
       "      <td>-0.072781</td>\n",
       "      <td>2.536347</td>\n",
       "      <td>1.378155</td>\n",
       "      <td>-0.338321</td>\n",
       "      <td>0.462388</td>\n",
       "      <td>0.239599</td>\n",
       "      <td>0.098698</td>\n",
       "      <td>0.363787</td>\n",
       "      <td>...</td>\n",
       "      <td>-0.018307</td>\n",
       "      <td>0.277838</td>\n",
       "      <td>-0.110474</td>\n",
       "      <td>0.066928</td>\n",
       "      <td>0.128539</td>\n",
       "      <td>-0.189115</td>\n",
       "      <td>0.133558</td>\n",
       "      <td>-0.021053</td>\n",
       "      <td>149.62</td>\n",
       "      <td>0</td>\n",
       "    </tr>\n",
       "    <tr>\n",
       "      <th>1</th>\n",
       "      <td>0.0</td>\n",
       "      <td>1.191857</td>\n",
       "      <td>0.266151</td>\n",
       "      <td>0.166480</td>\n",
       "      <td>0.448154</td>\n",
       "      <td>0.060018</td>\n",
       "      <td>-0.082361</td>\n",
       "      <td>-0.078803</td>\n",
       "      <td>0.085102</td>\n",
       "      <td>-0.255425</td>\n",
       "      <td>...</td>\n",
       "      <td>-0.225775</td>\n",
       "      <td>-0.638672</td>\n",
       "      <td>0.101288</td>\n",
       "      <td>-0.339846</td>\n",
       "      <td>0.167170</td>\n",
       "      <td>0.125895</td>\n",
       "      <td>-0.008983</td>\n",
       "      <td>0.014724</td>\n",
       "      <td>2.69</td>\n",
       "      <td>0</td>\n",
       "    </tr>\n",
       "    <tr>\n",
       "      <th>2</th>\n",
       "      <td>1.0</td>\n",
       "      <td>-1.358354</td>\n",
       "      <td>-1.340163</td>\n",
       "      <td>1.773209</td>\n",
       "      <td>0.379780</td>\n",
       "      <td>-0.503198</td>\n",
       "      <td>1.800499</td>\n",
       "      <td>0.791461</td>\n",
       "      <td>0.247676</td>\n",
       "      <td>-1.514654</td>\n",
       "      <td>...</td>\n",
       "      <td>0.247998</td>\n",
       "      <td>0.771679</td>\n",
       "      <td>0.909412</td>\n",
       "      <td>-0.689281</td>\n",
       "      <td>-0.327642</td>\n",
       "      <td>-0.139097</td>\n",
       "      <td>-0.055353</td>\n",
       "      <td>-0.059752</td>\n",
       "      <td>378.66</td>\n",
       "      <td>0</td>\n",
       "    </tr>\n",
       "    <tr>\n",
       "      <th>3</th>\n",
       "      <td>1.0</td>\n",
       "      <td>-0.966272</td>\n",
       "      <td>-0.185226</td>\n",
       "      <td>1.792993</td>\n",
       "      <td>-0.863291</td>\n",
       "      <td>-0.010309</td>\n",
       "      <td>1.247203</td>\n",
       "      <td>0.237609</td>\n",
       "      <td>0.377436</td>\n",
       "      <td>-1.387024</td>\n",
       "      <td>...</td>\n",
       "      <td>-0.108300</td>\n",
       "      <td>0.005274</td>\n",
       "      <td>-0.190321</td>\n",
       "      <td>-1.175575</td>\n",
       "      <td>0.647376</td>\n",
       "      <td>-0.221929</td>\n",
       "      <td>0.062723</td>\n",
       "      <td>0.061458</td>\n",
       "      <td>123.50</td>\n",
       "      <td>0</td>\n",
       "    </tr>\n",
       "    <tr>\n",
       "      <th>4</th>\n",
       "      <td>2.0</td>\n",
       "      <td>-1.158233</td>\n",
       "      <td>0.877737</td>\n",
       "      <td>1.548718</td>\n",
       "      <td>0.403034</td>\n",
       "      <td>-0.407193</td>\n",
       "      <td>0.095921</td>\n",
       "      <td>0.592941</td>\n",
       "      <td>-0.270533</td>\n",
       "      <td>0.817739</td>\n",
       "      <td>...</td>\n",
       "      <td>-0.009431</td>\n",
       "      <td>0.798278</td>\n",
       "      <td>-0.137458</td>\n",
       "      <td>0.141267</td>\n",
       "      <td>-0.206010</td>\n",
       "      <td>0.502292</td>\n",
       "      <td>0.219422</td>\n",
       "      <td>0.215153</td>\n",
       "      <td>69.99</td>\n",
       "      <td>0</td>\n",
       "    </tr>\n",
       "  </tbody>\n",
       "</table>\n",
       "<p>5 rows × 31 columns</p>\n",
       "</div>"
      ],
      "text/plain": [
       "   Time        V1        V2        V3        V4        V5        V6        V7  \\\n",
       "0   0.0 -1.359807 -0.072781  2.536347  1.378155 -0.338321  0.462388  0.239599   \n",
       "1   0.0  1.191857  0.266151  0.166480  0.448154  0.060018 -0.082361 -0.078803   \n",
       "2   1.0 -1.358354 -1.340163  1.773209  0.379780 -0.503198  1.800499  0.791461   \n",
       "3   1.0 -0.966272 -0.185226  1.792993 -0.863291 -0.010309  1.247203  0.237609   \n",
       "4   2.0 -1.158233  0.877737  1.548718  0.403034 -0.407193  0.095921  0.592941   \n",
       "\n",
       "         V8        V9  ...       V21       V22       V23       V24       V25  \\\n",
       "0  0.098698  0.363787  ... -0.018307  0.277838 -0.110474  0.066928  0.128539   \n",
       "1  0.085102 -0.255425  ... -0.225775 -0.638672  0.101288 -0.339846  0.167170   \n",
       "2  0.247676 -1.514654  ...  0.247998  0.771679  0.909412 -0.689281 -0.327642   \n",
       "3  0.377436 -1.387024  ... -0.108300  0.005274 -0.190321 -1.175575  0.647376   \n",
       "4 -0.270533  0.817739  ... -0.009431  0.798278 -0.137458  0.141267 -0.206010   \n",
       "\n",
       "        V26       V27       V28  Amount  Class  \n",
       "0 -0.189115  0.133558 -0.021053  149.62      0  \n",
       "1  0.125895 -0.008983  0.014724    2.69      0  \n",
       "2 -0.139097 -0.055353 -0.059752  378.66      0  \n",
       "3 -0.221929  0.062723  0.061458  123.50      0  \n",
       "4  0.502292  0.219422  0.215153   69.99      0  \n",
       "\n",
       "[5 rows x 31 columns]"
      ]
     },
     "execution_count": 2,
     "metadata": {},
     "output_type": "execute_result"
    }
   ],
   "source": [
    "df = pd.read_csv('creditcard.csv')\n",
    "df.head()"
   ]
  },
  {
   "cell_type": "code",
   "execution_count": 3,
   "metadata": {},
   "outputs": [
    {
     "data": {
      "text/plain": [
       "(284807, 31)"
      ]
     },
     "execution_count": 3,
     "metadata": {},
     "output_type": "execute_result"
    }
   ],
   "source": [
    "df.shape"
   ]
  },
  {
   "cell_type": "code",
   "execution_count": 4,
   "metadata": {},
   "outputs": [
    {
     "name": "stdout",
     "output_type": "stream",
     "text": [
      "<class 'pandas.core.frame.DataFrame'>\n",
      "RangeIndex: 284807 entries, 0 to 284806\n",
      "Data columns (total 31 columns):\n",
      "Time      284807 non-null float64\n",
      "V1        284807 non-null float64\n",
      "V2        284807 non-null float64\n",
      "V3        284807 non-null float64\n",
      "V4        284807 non-null float64\n",
      "V5        284807 non-null float64\n",
      "V6        284807 non-null float64\n",
      "V7        284807 non-null float64\n",
      "V8        284807 non-null float64\n",
      "V9        284807 non-null float64\n",
      "V10       284807 non-null float64\n",
      "V11       284807 non-null float64\n",
      "V12       284807 non-null float64\n",
      "V13       284807 non-null float64\n",
      "V14       284807 non-null float64\n",
      "V15       284807 non-null float64\n",
      "V16       284807 non-null float64\n",
      "V17       284807 non-null float64\n",
      "V18       284807 non-null float64\n",
      "V19       284807 non-null float64\n",
      "V20       284807 non-null float64\n",
      "V21       284807 non-null float64\n",
      "V22       284807 non-null float64\n",
      "V23       284807 non-null float64\n",
      "V24       284807 non-null float64\n",
      "V25       284807 non-null float64\n",
      "V26       284807 non-null float64\n",
      "V27       284807 non-null float64\n",
      "V28       284807 non-null float64\n",
      "Amount    284807 non-null float64\n",
      "Class     284807 non-null int64\n",
      "dtypes: float64(30), int64(1)\n",
      "memory usage: 67.4 MB\n"
     ]
    }
   ],
   "source": [
    "df.info()"
   ]
  },
  {
   "cell_type": "code",
   "execution_count": 5,
   "metadata": {},
   "outputs": [
    {
     "data": {
      "text/html": [
       "<div>\n",
       "<style scoped>\n",
       "    .dataframe tbody tr th:only-of-type {\n",
       "        vertical-align: middle;\n",
       "    }\n",
       "\n",
       "    .dataframe tbody tr th {\n",
       "        vertical-align: top;\n",
       "    }\n",
       "\n",
       "    .dataframe thead th {\n",
       "        text-align: right;\n",
       "    }\n",
       "</style>\n",
       "<table border=\"1\" class=\"dataframe\">\n",
       "  <thead>\n",
       "    <tr style=\"text-align: right;\">\n",
       "      <th></th>\n",
       "      <th>Time</th>\n",
       "      <th>V1</th>\n",
       "      <th>V2</th>\n",
       "      <th>V3</th>\n",
       "      <th>V4</th>\n",
       "      <th>V5</th>\n",
       "      <th>V6</th>\n",
       "      <th>V7</th>\n",
       "      <th>V8</th>\n",
       "      <th>V9</th>\n",
       "      <th>...</th>\n",
       "      <th>V21</th>\n",
       "      <th>V22</th>\n",
       "      <th>V23</th>\n",
       "      <th>V24</th>\n",
       "      <th>V25</th>\n",
       "      <th>V26</th>\n",
       "      <th>V27</th>\n",
       "      <th>V28</th>\n",
       "      <th>Amount</th>\n",
       "      <th>Class</th>\n",
       "    </tr>\n",
       "  </thead>\n",
       "  <tbody>\n",
       "    <tr>\n",
       "      <th>count</th>\n",
       "      <td>284807.000000</td>\n",
       "      <td>2.848070e+05</td>\n",
       "      <td>2.848070e+05</td>\n",
       "      <td>2.848070e+05</td>\n",
       "      <td>2.848070e+05</td>\n",
       "      <td>2.848070e+05</td>\n",
       "      <td>2.848070e+05</td>\n",
       "      <td>2.848070e+05</td>\n",
       "      <td>2.848070e+05</td>\n",
       "      <td>2.848070e+05</td>\n",
       "      <td>...</td>\n",
       "      <td>2.848070e+05</td>\n",
       "      <td>2.848070e+05</td>\n",
       "      <td>2.848070e+05</td>\n",
       "      <td>2.848070e+05</td>\n",
       "      <td>2.848070e+05</td>\n",
       "      <td>2.848070e+05</td>\n",
       "      <td>2.848070e+05</td>\n",
       "      <td>2.848070e+05</td>\n",
       "      <td>284807.000000</td>\n",
       "      <td>284807.000000</td>\n",
       "    </tr>\n",
       "    <tr>\n",
       "      <th>mean</th>\n",
       "      <td>94813.859575</td>\n",
       "      <td>3.919560e-15</td>\n",
       "      <td>5.688174e-16</td>\n",
       "      <td>-8.769071e-15</td>\n",
       "      <td>2.782312e-15</td>\n",
       "      <td>-1.552563e-15</td>\n",
       "      <td>2.010663e-15</td>\n",
       "      <td>-1.694249e-15</td>\n",
       "      <td>-1.927028e-16</td>\n",
       "      <td>-3.137024e-15</td>\n",
       "      <td>...</td>\n",
       "      <td>1.537294e-16</td>\n",
       "      <td>7.959909e-16</td>\n",
       "      <td>5.367590e-16</td>\n",
       "      <td>4.458112e-15</td>\n",
       "      <td>1.453003e-15</td>\n",
       "      <td>1.699104e-15</td>\n",
       "      <td>-3.660161e-16</td>\n",
       "      <td>-1.206049e-16</td>\n",
       "      <td>88.349619</td>\n",
       "      <td>0.001727</td>\n",
       "    </tr>\n",
       "    <tr>\n",
       "      <th>std</th>\n",
       "      <td>47488.145955</td>\n",
       "      <td>1.958696e+00</td>\n",
       "      <td>1.651309e+00</td>\n",
       "      <td>1.516255e+00</td>\n",
       "      <td>1.415869e+00</td>\n",
       "      <td>1.380247e+00</td>\n",
       "      <td>1.332271e+00</td>\n",
       "      <td>1.237094e+00</td>\n",
       "      <td>1.194353e+00</td>\n",
       "      <td>1.098632e+00</td>\n",
       "      <td>...</td>\n",
       "      <td>7.345240e-01</td>\n",
       "      <td>7.257016e-01</td>\n",
       "      <td>6.244603e-01</td>\n",
       "      <td>6.056471e-01</td>\n",
       "      <td>5.212781e-01</td>\n",
       "      <td>4.822270e-01</td>\n",
       "      <td>4.036325e-01</td>\n",
       "      <td>3.300833e-01</td>\n",
       "      <td>250.120109</td>\n",
       "      <td>0.041527</td>\n",
       "    </tr>\n",
       "    <tr>\n",
       "      <th>min</th>\n",
       "      <td>0.000000</td>\n",
       "      <td>-5.640751e+01</td>\n",
       "      <td>-7.271573e+01</td>\n",
       "      <td>-4.832559e+01</td>\n",
       "      <td>-5.683171e+00</td>\n",
       "      <td>-1.137433e+02</td>\n",
       "      <td>-2.616051e+01</td>\n",
       "      <td>-4.355724e+01</td>\n",
       "      <td>-7.321672e+01</td>\n",
       "      <td>-1.343407e+01</td>\n",
       "      <td>...</td>\n",
       "      <td>-3.483038e+01</td>\n",
       "      <td>-1.093314e+01</td>\n",
       "      <td>-4.480774e+01</td>\n",
       "      <td>-2.836627e+00</td>\n",
       "      <td>-1.029540e+01</td>\n",
       "      <td>-2.604551e+00</td>\n",
       "      <td>-2.256568e+01</td>\n",
       "      <td>-1.543008e+01</td>\n",
       "      <td>0.000000</td>\n",
       "      <td>0.000000</td>\n",
       "    </tr>\n",
       "    <tr>\n",
       "      <th>25%</th>\n",
       "      <td>54201.500000</td>\n",
       "      <td>-9.203734e-01</td>\n",
       "      <td>-5.985499e-01</td>\n",
       "      <td>-8.903648e-01</td>\n",
       "      <td>-8.486401e-01</td>\n",
       "      <td>-6.915971e-01</td>\n",
       "      <td>-7.682956e-01</td>\n",
       "      <td>-5.540759e-01</td>\n",
       "      <td>-2.086297e-01</td>\n",
       "      <td>-6.430976e-01</td>\n",
       "      <td>...</td>\n",
       "      <td>-2.283949e-01</td>\n",
       "      <td>-5.423504e-01</td>\n",
       "      <td>-1.618463e-01</td>\n",
       "      <td>-3.545861e-01</td>\n",
       "      <td>-3.171451e-01</td>\n",
       "      <td>-3.269839e-01</td>\n",
       "      <td>-7.083953e-02</td>\n",
       "      <td>-5.295979e-02</td>\n",
       "      <td>5.600000</td>\n",
       "      <td>0.000000</td>\n",
       "    </tr>\n",
       "    <tr>\n",
       "      <th>50%</th>\n",
       "      <td>84692.000000</td>\n",
       "      <td>1.810880e-02</td>\n",
       "      <td>6.548556e-02</td>\n",
       "      <td>1.798463e-01</td>\n",
       "      <td>-1.984653e-02</td>\n",
       "      <td>-5.433583e-02</td>\n",
       "      <td>-2.741871e-01</td>\n",
       "      <td>4.010308e-02</td>\n",
       "      <td>2.235804e-02</td>\n",
       "      <td>-5.142873e-02</td>\n",
       "      <td>...</td>\n",
       "      <td>-2.945017e-02</td>\n",
       "      <td>6.781943e-03</td>\n",
       "      <td>-1.119293e-02</td>\n",
       "      <td>4.097606e-02</td>\n",
       "      <td>1.659350e-02</td>\n",
       "      <td>-5.213911e-02</td>\n",
       "      <td>1.342146e-03</td>\n",
       "      <td>1.124383e-02</td>\n",
       "      <td>22.000000</td>\n",
       "      <td>0.000000</td>\n",
       "    </tr>\n",
       "    <tr>\n",
       "      <th>75%</th>\n",
       "      <td>139320.500000</td>\n",
       "      <td>1.315642e+00</td>\n",
       "      <td>8.037239e-01</td>\n",
       "      <td>1.027196e+00</td>\n",
       "      <td>7.433413e-01</td>\n",
       "      <td>6.119264e-01</td>\n",
       "      <td>3.985649e-01</td>\n",
       "      <td>5.704361e-01</td>\n",
       "      <td>3.273459e-01</td>\n",
       "      <td>5.971390e-01</td>\n",
       "      <td>...</td>\n",
       "      <td>1.863772e-01</td>\n",
       "      <td>5.285536e-01</td>\n",
       "      <td>1.476421e-01</td>\n",
       "      <td>4.395266e-01</td>\n",
       "      <td>3.507156e-01</td>\n",
       "      <td>2.409522e-01</td>\n",
       "      <td>9.104512e-02</td>\n",
       "      <td>7.827995e-02</td>\n",
       "      <td>77.165000</td>\n",
       "      <td>0.000000</td>\n",
       "    </tr>\n",
       "    <tr>\n",
       "      <th>max</th>\n",
       "      <td>172792.000000</td>\n",
       "      <td>2.454930e+00</td>\n",
       "      <td>2.205773e+01</td>\n",
       "      <td>9.382558e+00</td>\n",
       "      <td>1.687534e+01</td>\n",
       "      <td>3.480167e+01</td>\n",
       "      <td>7.330163e+01</td>\n",
       "      <td>1.205895e+02</td>\n",
       "      <td>2.000721e+01</td>\n",
       "      <td>1.559499e+01</td>\n",
       "      <td>...</td>\n",
       "      <td>2.720284e+01</td>\n",
       "      <td>1.050309e+01</td>\n",
       "      <td>2.252841e+01</td>\n",
       "      <td>4.584549e+00</td>\n",
       "      <td>7.519589e+00</td>\n",
       "      <td>3.517346e+00</td>\n",
       "      <td>3.161220e+01</td>\n",
       "      <td>3.384781e+01</td>\n",
       "      <td>25691.160000</td>\n",
       "      <td>1.000000</td>\n",
       "    </tr>\n",
       "  </tbody>\n",
       "</table>\n",
       "<p>8 rows × 31 columns</p>\n",
       "</div>"
      ],
      "text/plain": [
       "                Time            V1            V2            V3            V4  \\\n",
       "count  284807.000000  2.848070e+05  2.848070e+05  2.848070e+05  2.848070e+05   \n",
       "mean    94813.859575  3.919560e-15  5.688174e-16 -8.769071e-15  2.782312e-15   \n",
       "std     47488.145955  1.958696e+00  1.651309e+00  1.516255e+00  1.415869e+00   \n",
       "min         0.000000 -5.640751e+01 -7.271573e+01 -4.832559e+01 -5.683171e+00   \n",
       "25%     54201.500000 -9.203734e-01 -5.985499e-01 -8.903648e-01 -8.486401e-01   \n",
       "50%     84692.000000  1.810880e-02  6.548556e-02  1.798463e-01 -1.984653e-02   \n",
       "75%    139320.500000  1.315642e+00  8.037239e-01  1.027196e+00  7.433413e-01   \n",
       "max    172792.000000  2.454930e+00  2.205773e+01  9.382558e+00  1.687534e+01   \n",
       "\n",
       "                 V5            V6            V7            V8            V9  \\\n",
       "count  2.848070e+05  2.848070e+05  2.848070e+05  2.848070e+05  2.848070e+05   \n",
       "mean  -1.552563e-15  2.010663e-15 -1.694249e-15 -1.927028e-16 -3.137024e-15   \n",
       "std    1.380247e+00  1.332271e+00  1.237094e+00  1.194353e+00  1.098632e+00   \n",
       "min   -1.137433e+02 -2.616051e+01 -4.355724e+01 -7.321672e+01 -1.343407e+01   \n",
       "25%   -6.915971e-01 -7.682956e-01 -5.540759e-01 -2.086297e-01 -6.430976e-01   \n",
       "50%   -5.433583e-02 -2.741871e-01  4.010308e-02  2.235804e-02 -5.142873e-02   \n",
       "75%    6.119264e-01  3.985649e-01  5.704361e-01  3.273459e-01  5.971390e-01   \n",
       "max    3.480167e+01  7.330163e+01  1.205895e+02  2.000721e+01  1.559499e+01   \n",
       "\n",
       "       ...           V21           V22           V23           V24  \\\n",
       "count  ...  2.848070e+05  2.848070e+05  2.848070e+05  2.848070e+05   \n",
       "mean   ...  1.537294e-16  7.959909e-16  5.367590e-16  4.458112e-15   \n",
       "std    ...  7.345240e-01  7.257016e-01  6.244603e-01  6.056471e-01   \n",
       "min    ... -3.483038e+01 -1.093314e+01 -4.480774e+01 -2.836627e+00   \n",
       "25%    ... -2.283949e-01 -5.423504e-01 -1.618463e-01 -3.545861e-01   \n",
       "50%    ... -2.945017e-02  6.781943e-03 -1.119293e-02  4.097606e-02   \n",
       "75%    ...  1.863772e-01  5.285536e-01  1.476421e-01  4.395266e-01   \n",
       "max    ...  2.720284e+01  1.050309e+01  2.252841e+01  4.584549e+00   \n",
       "\n",
       "                V25           V26           V27           V28         Amount  \\\n",
       "count  2.848070e+05  2.848070e+05  2.848070e+05  2.848070e+05  284807.000000   \n",
       "mean   1.453003e-15  1.699104e-15 -3.660161e-16 -1.206049e-16      88.349619   \n",
       "std    5.212781e-01  4.822270e-01  4.036325e-01  3.300833e-01     250.120109   \n",
       "min   -1.029540e+01 -2.604551e+00 -2.256568e+01 -1.543008e+01       0.000000   \n",
       "25%   -3.171451e-01 -3.269839e-01 -7.083953e-02 -5.295979e-02       5.600000   \n",
       "50%    1.659350e-02 -5.213911e-02  1.342146e-03  1.124383e-02      22.000000   \n",
       "75%    3.507156e-01  2.409522e-01  9.104512e-02  7.827995e-02      77.165000   \n",
       "max    7.519589e+00  3.517346e+00  3.161220e+01  3.384781e+01   25691.160000   \n",
       "\n",
       "               Class  \n",
       "count  284807.000000  \n",
       "mean        0.001727  \n",
       "std         0.041527  \n",
       "min         0.000000  \n",
       "25%         0.000000  \n",
       "50%         0.000000  \n",
       "75%         0.000000  \n",
       "max         1.000000  \n",
       "\n",
       "[8 rows x 31 columns]"
      ]
     },
     "execution_count": 5,
     "metadata": {},
     "output_type": "execute_result"
    }
   ],
   "source": [
    "df.describe()"
   ]
  },
  {
   "cell_type": "code",
   "execution_count": 6,
   "metadata": {},
   "outputs": [
    {
     "name": "stdout",
     "output_type": "stream",
     "text": [
      "SHAPE : \n",
      " (284807, 31)\n",
      "FEATURES : \n",
      " ['Time' 'V1' 'V2' 'V3' 'V4' 'V5' 'V6' 'V7' 'V8' 'V9' 'V10' 'V11' 'V12'\n",
      " 'V13' 'V14' 'V15' 'V16' 'V17' 'V18' 'V19' 'V20' 'V21' 'V22' 'V23' 'V24'\n",
      " 'V25' 'V26' 'V27' 'V28' 'Amount' 'Class']\n",
      "FEATURE DATAYPES: \n",
      " float64    30\n",
      "int64       1\n",
      "dtype: int64\n"
     ]
    }
   ],
   "source": [
    "#observe the different feature type present in the data\n",
    "print ('SHAPE : \\n', df.shape)\n",
    "print('FEATURES : \\n' , df.columns.values)\n",
    "print('FEATURE DATAYPES: \\n', df.dtypes.value_counts())"
   ]
  },
  {
   "cell_type": "markdown",
   "metadata": {},
   "source": [
    "Here we will observe the distribution of our classes"
   ]
  },
  {
   "cell_type": "code",
   "execution_count": 7,
   "metadata": {},
   "outputs": [
    {
     "data": {
      "text/plain": [
       "0    284315\n",
       "1       492\n",
       "Name: Class, dtype: int64"
      ]
     },
     "execution_count": 7,
     "metadata": {},
     "output_type": "execute_result"
    }
   ],
   "source": [
    "df['Class'].value_counts()"
   ]
  },
  {
   "cell_type": "code",
   "execution_count": 8,
   "metadata": {},
   "outputs": [],
   "source": [
    "normal_trans=df[df['Class']==0]\n",
    "fraud_trans=df[df['Class']==1]"
   ]
  },
  {
   "cell_type": "code",
   "execution_count": 9,
   "metadata": {},
   "outputs": [
    {
     "name": "stdout",
     "output_type": "stream",
     "text": [
      "Fraudulent Transactions : 0.1727485630620034\n",
      "Non-Fraudulent Transactions : 99.82725143693798\n"
     ]
    }
   ],
   "source": [
    "classes=df['Class'].value_counts()\n",
    "normal_share=classes[0]/df['Class'].count()*100\n",
    "fraud_share=classes[1]/df['Class'].count()*100\n",
    "print('Fraudulent Transactions :' , fraud_share)\n",
    "print('Non-Fraudulent Transactions :' , normal_share)\n"
   ]
  },
  {
   "cell_type": "code",
   "execution_count": 10,
   "metadata": {},
   "outputs": [],
   "source": [
    "# Create a bar plot for the number and percentage of fraudulent vs non-fraudulent transcations\n",
    "from matplotlib.pyplot import xticks\n",
    "%matplotlib inline\n",
    "\n",
    "# Data display coustomization\n",
    "pd.set_option('display.max_rows', 100)\n",
    "pd.set_option('display.max_columns', 100)"
   ]
  },
  {
   "cell_type": "code",
   "execution_count": 11,
   "metadata": {},
   "outputs": [
    {
     "data": {
      "text/plain": [
       "<matplotlib.axes._subplots.AxesSubplot at 0x2bbbdd49a90>"
      ]
     },
     "execution_count": 11,
     "metadata": {},
     "output_type": "execute_result"
    },
    {
     "data": {
      "image/png": "[encoded data removed]",
      "text/plain": [
       "<Figure size 360x360 with 1 Axes>"
      ]
     },
     "metadata": {
      "needs_background": "light"
     },
     "output_type": "display_data"
    }
   ],
   "source": [
    "fig, axs = plt.subplots(figsize = (5,5))\n",
    "sns.countplot(x=\"Class\", data=df)\n"
   ]
  },
  {
   "cell_type": "code",
   "execution_count": 12,
   "metadata": {},
   "outputs": [
    {
     "data": {
      "text/plain": [
       "[Text(0, 0.5, 'Percent')]"
      ]
     },
     "execution_count": 12,
     "metadata": {},
     "output_type": "execute_result"
    },
    {
     "data": {
      "image/png": "[encoded data removed]",
      "text/plain": [
       "<Figure size 360x360 with 1 Axes>"
      ]
     },
     "metadata": {
      "needs_background": "light"
     },
     "output_type": "display_data"
    }
   ],
   "source": [
    "fig, axs = plt.subplots(figsize = (5,5))\n",
    "ax = sns.barplot(x=\"Class\", y=\"Class\", data=df, estimator=lambda x: len(x) / len(df) * 100)\n",
    "ax.set(ylabel=\"Percent\")"
   ]
  },
  {
   "cell_type": "code",
   "execution_count": null,
   "metadata": {},
   "outputs": [],
   "source": []
  },
  {
   "cell_type": "code",
   "execution_count": 13,
   "metadata": {},
   "outputs": [
    {
     "data": {
      "text/plain": [
       "<matplotlib.axes._subplots.AxesSubplot at 0x2bbbde57588>"
      ]
     },
     "execution_count": 13,
     "metadata": {},
     "output_type": "execute_result"
    },
    {
     "data": {
      "image/png": "[encoded data removed]",
      "text/plain": [
       "<Figure size 432x288 with 1 Axes>"
      ]
     },
     "metadata": {
      "needs_background": "light"
     },
     "output_type": "display_data"
    }
   ],
   "source": [
    "# Create a scatter plot to observe the distribution of classes with time\n",
    "sns.scatterplot(x=\"Class\", y=\"Time\", data=df)"
   ]
  },
  {
   "cell_type": "code",
   "execution_count": 14,
   "metadata": {},
   "outputs": [
    {
     "data": {
      "text/plain": [
       "<matplotlib.axes._subplots.AxesSubplot at 0x2bbbde951d0>"
      ]
     },
     "execution_count": 14,
     "metadata": {},
     "output_type": "execute_result"
    },
    {
     "data": {
      "image/png": "[encoded data removed]",
      "text/plain": [
       "<Figure size 432x288 with 1 Axes>"
      ]
     },
     "metadata": {
      "needs_background": "light"
     },
     "output_type": "display_data"
    }
   ],
   "source": [
    "# Create a scatter plot to observe the distribution of classes with Amount\n",
    "sns.scatterplot(x=\"Class\", y=\"Amount\", data=df)\n",
    "\n"
   ]
  },
  {
   "cell_type": "markdown",
   "metadata": {},
   "source": [
    "### CORRELATION -HEATMAP"
   ]
  },
  {
   "cell_type": "code",
   "execution_count": 15,
   "metadata": {},
   "outputs": [
    {
     "data": {
      "image/png": "[encoded data removed]",
      "text/plain": [
       "<Figure size 720x504 with 2 Axes>"
      ]
     },
     "metadata": {
      "needs_background": "light"
     },
     "output_type": "display_data"
    }
   ],
   "source": [
    "f, ax = plt.subplots(figsize=(10,7))\n",
    "sns.heatmap(df.corr())\n",
    "plt.show()\n",
    "#sns.heatmap(df_highvalue_cust.corr())"
   ]
  },
  {
   "cell_type": "code",
   "execution_count": 16,
   "metadata": {},
   "outputs": [],
   "source": [
    "# Drop unnecessary columns"
   ]
  },
  {
   "cell_type": "code",
   "execution_count": 17,
   "metadata": {},
   "outputs": [
    {
     "data": {
      "text/plain": [
       "(284807, 30)"
      ]
     },
     "execution_count": 17,
     "metadata": {},
     "output_type": "execute_result"
    }
   ],
   "source": [
    "df_imbal= df.drop(['Time'],axis=1)\n",
    "df_imbal.shape"
   ]
  },
  {
   "cell_type": "markdown",
   "metadata": {},
   "source": [
    "Time features is of not that much importance. Hence CoUld be dropped"
   ]
  },
  {
   "cell_type": "markdown",
   "metadata": {},
   "source": [
    "### Splitting the data into train & test data"
   ]
  },
  {
   "cell_type": "code",
   "execution_count": 18,
   "metadata": {},
   "outputs": [],
   "source": [
    "from sklearn.model_selection import train_test_split\n",
    "\n",
    "y=df_imbal['Class'] #class variable\n",
    "X=df_imbal.drop(['Class'],axis=1)"
   ]
  },
  {
   "cell_type": "code",
   "execution_count": 19,
   "metadata": {},
   "outputs": [],
   "source": [
    "from sklearn import model_selection\n",
    "\n",
    "X_train, X_test, y_train, y_test =  train_test_split(X, y ,\n",
    "                                                    train_size=0.7,\n",
    "                                                    test_size = 0.3,\n",
    "                                                    random_state=100)"
   ]
  },
  {
   "cell_type": "code",
   "execution_count": 20,
   "metadata": {},
   "outputs": [
    {
     "data": {
      "text/html": [
       "<div>\n",
       "<style scoped>\n",
       "    .dataframe tbody tr th:only-of-type {\n",
       "        vertical-align: middle;\n",
       "    }\n",
       "\n",
       "    .dataframe tbody tr th {\n",
       "        vertical-align: top;\n",
       "    }\n",
       "\n",
       "    .dataframe thead th {\n",
       "        text-align: right;\n",
       "    }\n",
       "</style>\n",
       "<table border=\"1\" class=\"dataframe\">\n",
       "  <thead>\n",
       "    <tr style=\"text-align: right;\">\n",
       "      <th></th>\n",
       "      <th>V1</th>\n",
       "      <th>V2</th>\n",
       "      <th>V3</th>\n",
       "      <th>V4</th>\n",
       "      <th>V5</th>\n",
       "      <th>V6</th>\n",
       "      <th>V7</th>\n",
       "      <th>V8</th>\n",
       "      <th>V9</th>\n",
       "      <th>V10</th>\n",
       "      <th>V11</th>\n",
       "      <th>V12</th>\n",
       "      <th>V13</th>\n",
       "      <th>V14</th>\n",
       "      <th>V15</th>\n",
       "      <th>V16</th>\n",
       "      <th>V17</th>\n",
       "      <th>V18</th>\n",
       "      <th>V19</th>\n",
       "      <th>V20</th>\n",
       "      <th>V21</th>\n",
       "      <th>V22</th>\n",
       "      <th>V23</th>\n",
       "      <th>V24</th>\n",
       "      <th>V25</th>\n",
       "      <th>V26</th>\n",
       "      <th>V27</th>\n",
       "      <th>V28</th>\n",
       "      <th>Amount</th>\n",
       "    </tr>\n",
       "  </thead>\n",
       "  <tbody>\n",
       "    <tr>\n",
       "      <th>7610</th>\n",
       "      <td>1.160485</td>\n",
       "      <td>0.010653</td>\n",
       "      <td>0.731921</td>\n",
       "      <td>-0.083757</td>\n",
       "      <td>-0.204162</td>\n",
       "      <td>0.309873</td>\n",
       "      <td>-0.503116</td>\n",
       "      <td>0.130077</td>\n",
       "      <td>1.279474</td>\n",
       "      <td>-0.528215</td>\n",
       "      <td>3.021936</td>\n",
       "      <td>-0.953080</td>\n",
       "      <td>2.523534</td>\n",
       "      <td>1.642896</td>\n",
       "      <td>0.223514</td>\n",
       "      <td>-0.059052</td>\n",
       "      <td>0.630296</td>\n",
       "      <td>-0.664479</td>\n",
       "      <td>-0.614659</td>\n",
       "      <td>-0.109200</td>\n",
       "      <td>-0.167768</td>\n",
       "      <td>-0.142183</td>\n",
       "      <td>0.148065</td>\n",
       "      <td>-0.261307</td>\n",
       "      <td>-0.052688</td>\n",
       "      <td>0.904879</td>\n",
       "      <td>-0.061990</td>\n",
       "      <td>-0.012372</td>\n",
       "      <td>0.26</td>\n",
       "    </tr>\n",
       "    <tr>\n",
       "      <th>190214</th>\n",
       "      <td>2.054237</td>\n",
       "      <td>-0.078678</td>\n",
       "      <td>-1.233161</td>\n",
       "      <td>0.183785</td>\n",
       "      <td>0.187539</td>\n",
       "      <td>-0.605905</td>\n",
       "      <td>0.102048</td>\n",
       "      <td>-0.183363</td>\n",
       "      <td>0.245017</td>\n",
       "      <td>0.229607</td>\n",
       "      <td>0.610062</td>\n",
       "      <td>1.214313</td>\n",
       "      <td>0.521753</td>\n",
       "      <td>0.351972</td>\n",
       "      <td>-0.676072</td>\n",
       "      <td>0.208449</td>\n",
       "      <td>-0.738125</td>\n",
       "      <td>-0.275378</td>\n",
       "      <td>0.612126</td>\n",
       "      <td>-0.169517</td>\n",
       "      <td>-0.263893</td>\n",
       "      <td>-0.636424</td>\n",
       "      <td>0.263862</td>\n",
       "      <td>-0.480128</td>\n",
       "      <td>-0.249245</td>\n",
       "      <td>0.206509</td>\n",
       "      <td>-0.072079</td>\n",
       "      <td>-0.074044</td>\n",
       "      <td>1.29</td>\n",
       "    </tr>\n",
       "    <tr>\n",
       "      <th>130590</th>\n",
       "      <td>1.434517</td>\n",
       "      <td>-1.560173</td>\n",
       "      <td>-0.783968</td>\n",
       "      <td>-2.432927</td>\n",
       "      <td>0.578638</td>\n",
       "      <td>3.528638</td>\n",
       "      <td>-1.814737</td>\n",
       "      <td>0.859190</td>\n",
       "      <td>-1.680052</td>\n",
       "      <td>1.451927</td>\n",
       "      <td>-0.311041</td>\n",
       "      <td>-1.048697</td>\n",
       "      <td>0.620637</td>\n",
       "      <td>-0.406962</td>\n",
       "      <td>1.014342</td>\n",
       "      <td>0.189104</td>\n",
       "      <td>-0.129896</td>\n",
       "      <td>0.835635</td>\n",
       "      <td>-0.120798</td>\n",
       "      <td>-0.068984</td>\n",
       "      <td>-0.020924</td>\n",
       "      <td>0.089320</td>\n",
       "      <td>-0.120671</td>\n",
       "      <td>1.009913</td>\n",
       "      <td>0.510411</td>\n",
       "      <td>-0.038200</td>\n",
       "      <td>0.047306</td>\n",
       "      <td>0.031218</td>\n",
       "      <td>71.99</td>\n",
       "    </tr>\n",
       "    <tr>\n",
       "      <th>247916</th>\n",
       "      <td>-0.112311</td>\n",
       "      <td>1.235492</td>\n",
       "      <td>-0.312905</td>\n",
       "      <td>-0.502613</td>\n",
       "      <td>0.699869</td>\n",
       "      <td>-1.028247</td>\n",
       "      <td>0.964615</td>\n",
       "      <td>-0.112966</td>\n",
       "      <td>0.082123</td>\n",
       "      <td>-0.539202</td>\n",
       "      <td>-0.183169</td>\n",
       "      <td>0.161022</td>\n",
       "      <td>0.112076</td>\n",
       "      <td>-1.092514</td>\n",
       "      <td>-0.231143</td>\n",
       "      <td>0.111046</td>\n",
       "      <td>0.566802</td>\n",
       "      <td>-0.491726</td>\n",
       "      <td>-0.501441</td>\n",
       "      <td>0.135098</td>\n",
       "      <td>-0.334646</td>\n",
       "      <td>-0.734681</td>\n",
       "      <td>0.161824</td>\n",
       "      <td>0.984857</td>\n",
       "      <td>-0.439226</td>\n",
       "      <td>0.093359</td>\n",
       "      <td>0.332998</td>\n",
       "      <td>0.149541</td>\n",
       "      <td>0.89</td>\n",
       "    </tr>\n",
       "    <tr>\n",
       "      <th>55518</th>\n",
       "      <td>1.123477</td>\n",
       "      <td>-0.093882</td>\n",
       "      <td>0.988880</td>\n",
       "      <td>0.533433</td>\n",
       "      <td>-0.769281</td>\n",
       "      <td>-0.068741</td>\n",
       "      <td>-0.575773</td>\n",
       "      <td>0.257399</td>\n",
       "      <td>0.235960</td>\n",
       "      <td>0.066642</td>\n",
       "      <td>1.635221</td>\n",
       "      <td>0.595421</td>\n",
       "      <td>-0.843761</td>\n",
       "      <td>0.467763</td>\n",
       "      <td>0.944421</td>\n",
       "      <td>0.460752</td>\n",
       "      <td>-0.391411</td>\n",
       "      <td>-0.042388</td>\n",
       "      <td>-0.463772</td>\n",
       "      <td>-0.170440</td>\n",
       "      <td>-0.003975</td>\n",
       "      <td>-0.052800</td>\n",
       "      <td>0.145628</td>\n",
       "      <td>0.219496</td>\n",
       "      <td>0.000863</td>\n",
       "      <td>0.215796</td>\n",
       "      <td>0.000743</td>\n",
       "      <td>0.013160</td>\n",
       "      <td>5.99</td>\n",
       "    </tr>\n",
       "  </tbody>\n",
       "</table>\n",
       "</div>"
      ],
      "text/plain": [
       "              V1        V2        V3        V4        V5        V6        V7  \\\n",
       "7610    1.160485  0.010653  0.731921 -0.083757 -0.204162  0.309873 -0.503116   \n",
       "190214  2.054237 -0.078678 -1.233161  0.183785  0.187539 -0.605905  0.102048   \n",
       "130590  1.434517 -1.560173 -0.783968 -2.432927  0.578638  3.528638 -1.814737   \n",
       "247916 -0.112311  1.235492 -0.312905 -0.502613  0.699869 -1.028247  0.964615   \n",
       "55518   1.123477 -0.093882  0.988880  0.533433 -0.769281 -0.068741 -0.575773   \n",
       "\n",
       "              V8        V9       V10       V11       V12       V13       V14  \\\n",
       "7610    0.130077  1.279474 -0.528215  3.021936 -0.953080  2.523534  1.642896   \n",
       "190214 -0.183363  0.245017  0.229607  0.610062  1.214313  0.521753  0.351972   \n",
       "130590  0.859190 -1.680052  1.451927 -0.311041 -1.048697  0.620637 -0.406962   \n",
       "247916 -0.112966  0.082123 -0.539202 -0.183169  0.161022  0.112076 -1.092514   \n",
       "55518   0.257399  0.235960  0.066642  1.635221  0.595421 -0.843761  0.467763   \n",
       "\n",
       "             V15       V16       V17       V18       V19       V20       V21  \\\n",
       "7610    0.223514 -0.059052  0.630296 -0.664479 -0.614659 -0.109200 -0.167768   \n",
       "190214 -0.676072  0.208449 -0.738125 -0.275378  0.612126 -0.169517 -0.263893   \n",
       "130590  1.014342  0.189104 -0.129896  0.835635 -0.120798 -0.068984 -0.020924   \n",
       "247916 -0.231143  0.111046  0.566802 -0.491726 -0.501441  0.135098 -0.334646   \n",
       "55518   0.944421  0.460752 -0.391411 -0.042388 -0.463772 -0.170440 -0.003975   \n",
       "\n",
       "             V22       V23       V24       V25       V26       V27       V28  \\\n",
       "7610   -0.142183  0.148065 -0.261307 -0.052688  0.904879 -0.061990 -0.012372   \n",
       "190214 -0.636424  0.263862 -0.480128 -0.249245  0.206509 -0.072079 -0.074044   \n",
       "130590  0.089320 -0.120671  1.009913  0.510411 -0.038200  0.047306  0.031218   \n",
       "247916 -0.734681  0.161824  0.984857 -0.439226  0.093359  0.332998  0.149541   \n",
       "55518  -0.052800  0.145628  0.219496  0.000863  0.215796  0.000743  0.013160   \n",
       "\n",
       "        Amount  \n",
       "7610      0.26  \n",
       "190214    1.29  \n",
       "130590   71.99  \n",
       "247916    0.89  \n",
       "55518     5.99  "
      ]
     },
     "execution_count": 20,
     "metadata": {},
     "output_type": "execute_result"
    }
   ],
   "source": [
    "X_train.head()"
   ]
  },
  {
   "cell_type": "code",
   "execution_count": 21,
   "metadata": {},
   "outputs": [
    {
     "data": {
      "text/plain": [
       "(199364, 29)"
      ]
     },
     "execution_count": 21,
     "metadata": {},
     "output_type": "execute_result"
    }
   ],
   "source": [
    "X_train.shape"
   ]
  },
  {
   "cell_type": "code",
   "execution_count": 22,
   "metadata": {},
   "outputs": [
    {
     "data": {
      "text/plain": [
       "(85443, 29)"
      ]
     },
     "execution_count": 22,
     "metadata": {},
     "output_type": "execute_result"
    }
   ],
   "source": [
    "X_test.shape"
   ]
  },
  {
   "cell_type": "markdown",
   "metadata": {},
   "source": [
    "#### Preserving X_test[Amount] "
   ]
  },
  {
   "cell_type": "code",
   "execution_count": 23,
   "metadata": {},
   "outputs": [
    {
     "data": {
      "text/plain": [
       "count    85443.000000\n",
       "mean        87.028563\n",
       "std        250.746101\n",
       "min          0.000000\n",
       "25%          5.520000\n",
       "50%         21.900000\n",
       "75%         76.070000\n",
       "max      25691.160000\n",
       "Name: Amount, dtype: float64"
      ]
     },
     "execution_count": 23,
     "metadata": {},
     "output_type": "execute_result"
    }
   ],
   "source": [
    "X_test['Amount'].describe()"
   ]
  },
  {
   "cell_type": "code",
   "execution_count": 24,
   "metadata": {},
   "outputs": [],
   "source": [
    "test_amount_df=X_test['Amount'].copy()"
   ]
  },
  {
   "cell_type": "code",
   "execution_count": 25,
   "metadata": {},
   "outputs": [
    {
     "data": {
      "text/plain": [
       "count    85443.000000\n",
       "mean        87.028563\n",
       "std        250.746101\n",
       "min          0.000000\n",
       "25%          5.520000\n",
       "50%         21.900000\n",
       "75%         76.070000\n",
       "max      25691.160000\n",
       "Name: Amount, dtype: float64"
      ]
     },
     "execution_count": 25,
     "metadata": {},
     "output_type": "execute_result"
    }
   ],
   "source": [
    "test_amount_df.describe()"
   ]
  },
  {
   "cell_type": "markdown",
   "metadata": {},
   "source": [
    "##### Preserve X_test & y_test to evaluate on the test data once you build the model"
   ]
  },
  {
   "cell_type": "code",
   "execution_count": 26,
   "metadata": {},
   "outputs": [
    {
     "name": "stdout",
     "output_type": "stream",
     "text": [
      "492\n",
      "350\n",
      "142\n"
     ]
    }
   ],
   "source": [
    "print(np.sum(y))\n",
    "print(np.sum(y_train))\n",
    "print(np.sum(y_test))"
   ]
  },
  {
   "cell_type": "markdown",
   "metadata": {},
   "source": [
    "### Plotting the distribution of a variable"
   ]
  },
  {
   "cell_type": "code",
   "execution_count": 27,
   "metadata": {},
   "outputs": [],
   "source": [
    "# plot the histogram of a variable from the dataset to see the skewness"
   ]
  },
  {
   "cell_type": "code",
   "execution_count": 28,
   "metadata": {},
   "outputs": [
    {
     "data": {
      "text/plain": [
       "array(['V1', 'V2', 'V3', 'V4', 'V5', 'V6', 'V7', 'V8', 'V9', 'V10', 'V11',\n",
       "       'V12', 'V13', 'V14', 'V15', 'V16', 'V17', 'V18', 'V19', 'V20',\n",
       "       'V21', 'V22', 'V23', 'V24', 'V25', 'V26', 'V27', 'V28', 'Amount'],\n",
       "      dtype=object)"
      ]
     },
     "execution_count": 28,
     "metadata": {},
     "output_type": "execute_result"
    }
   ],
   "source": [
    "X.columns.values"
   ]
  },
  {
   "cell_type": "code",
   "execution_count": 29,
   "metadata": {},
   "outputs": [
    {
     "data": {
      "image/png": "[encoded data removed]",
      "text/plain": [
       "<Figure size 720x720 with 4 Axes>"
      ]
     },
     "metadata": {
      "needs_background": "light"
     },
     "output_type": "display_data"
    }
   ],
   "source": [
    "# Set up the matplotlib figure\n",
    "f, axes = plt.subplots(2, 2, figsize=(10, 10), sharex=True)\n",
    "sns.despine(left=True)\n",
    "\n",
    "sns.distplot(X_train['V1'], kde=False, rug=True,ax=axes[0,0]);\n",
    "sns.distplot(X_test['V1'], kde=False, rug=True,ax=axes[0,1]);\n",
    "sns.distplot(X_train['V14'], kde=False, rug=True,ax=axes[1,0]);\n",
    "sns.distplot(X_test['V14'], kde=False, rug=True,ax=axes[1,1]);\n"
   ]
  },
  {
   "cell_type": "code",
   "execution_count": 30,
   "metadata": {},
   "outputs": [
    {
     "data": {
      "image/png": "[encoded data removed]",
      "text/plain": [
       "<Figure size 360x360 with 2 Axes>"
      ]
     },
     "metadata": {
      "needs_background": "light"
     },
     "output_type": "display_data"
    }
   ],
   "source": [
    "# Set up the matplotlib figure\n",
    "f, axes = plt.subplots(1,2, figsize=(5, 5), sharex=True)\n",
    "sns.despine(left=True)\n",
    "\n",
    "sns.distplot(X_train['Amount'], kde=False, rug=True,ax=axes[0]);\n",
    "sns.distplot(X_test['Amount'], kde=False, rug=True,ax=axes[1]);\n"
   ]
  },
  {
   "cell_type": "markdown",
   "metadata": {},
   "source": [
    "### If there is skewness present in the distribution use:\n",
    "- <b>Power Transformer</b> package present in the <b>preprocessing library provided by sklearn</b> to make distribution more gaussian"
   ]
  },
  {
   "cell_type": "code",
   "execution_count": 31,
   "metadata": {},
   "outputs": [],
   "source": [
    "# - Apply : preprocessing.PowerTransformer(copy=False) to fit & transform the train & test data"
   ]
  },
  {
   "cell_type": "code",
   "execution_count": 32,
   "metadata": {},
   "outputs": [],
   "source": [
    "from sklearn.preprocessing import PowerTransformer\n",
    "pt= PowerTransformer(copy=False)"
   ]
  },
  {
   "cell_type": "code",
   "execution_count": 33,
   "metadata": {},
   "outputs": [
    {
     "name": "stdout",
     "output_type": "stream",
     "text": [
      "PowerTransformer(copy=False, method='yeo-johnson', standardize=True)\n"
     ]
    }
   ],
   "source": [
    "print(pt.fit(X_train))"
   ]
  },
  {
   "cell_type": "code",
   "execution_count": 34,
   "metadata": {},
   "outputs": [
    {
     "name": "stdout",
     "output_type": "stream",
     "text": [
      "[[ 0.59847004 -0.07663472  0.41436418 ... -0.18048148 -0.02782542\n",
      "  -1.8534669 ]\n",
      " [ 1.44556451 -0.13437333 -0.90268967 ... -0.2060558  -0.22088604\n",
      "  -1.44666202]\n",
      " [ 0.84304949 -0.98741143 -0.65297019 ...  0.09939728  0.10789915\n",
      "   0.70649056]\n",
      " ...\n",
      " [-1.08183925 -0.41771323 -0.33444227 ... -0.61867143  0.23464063\n",
      "   1.89544803]\n",
      " [-0.46037622  0.58231303  0.03161119 ... -0.73313856  0.06488077\n",
      "  -1.268556  ]\n",
      " [ 0.16855185 -0.62610289  0.85576608 ...  0.1228928   0.23395345\n",
      "   1.36337636]]\n"
     ]
    }
   ],
   "source": [
    "print(pt.transform(X_train))"
   ]
  },
  {
   "cell_type": "code",
   "execution_count": 35,
   "metadata": {},
   "outputs": [
    {
     "name": "stdout",
     "output_type": "stream",
     "text": [
      "[[ 0.65868887 -0.23327558 -0.5608948  ...  0.13237704  0.06713176\n",
      "  -1.268556  ]\n",
      " [ 1.40742355 -0.14081654 -1.74859321 ... -0.14738456 -0.12302681\n",
      "  -0.63038742]\n",
      " [ 0.09662144 -0.93897071  0.53153202 ... -0.23461413  0.17389761\n",
      "   1.50617595]\n",
      " ...\n",
      " [-1.6272232  -0.72991207  0.30339367 ...  1.79570829  0.83532569\n",
      "   1.61121607]\n",
      " [-0.10017992  0.69444611  0.02021457 ... -0.02658043  0.03453504\n",
      "  -1.60928514]\n",
      " [ 1.30344261 -0.73791418 -1.29304509 ... -0.09919904 -0.13758938\n",
      "   0.69059443]]\n"
     ]
    }
   ],
   "source": [
    "print(pt.transform(X_test))"
   ]
  },
  {
   "cell_type": "code",
   "execution_count": 36,
   "metadata": {},
   "outputs": [],
   "source": [
    "# plot the histogram of a variable from the dataset again to see the result "
   ]
  },
  {
   "cell_type": "code",
   "execution_count": 37,
   "metadata": {},
   "outputs": [
    {
     "data": {
      "image/png": "[encoded data removed]",
      "text/plain": [
       "<Figure size 720x720 with 4 Axes>"
      ]
     },
     "metadata": {
      "needs_background": "light"
     },
     "output_type": "display_data"
    }
   ],
   "source": [
    "# Set up the matplotlib figure\n",
    "f, axes = plt.subplots(2, 2, figsize=(10, 10), sharex=True)\n",
    "sns.despine(left=True)\n",
    "\n",
    "sns.distplot(X_train['V1'], kde=False, rug=True,ax=axes[0,0]);\n",
    "sns.distplot(X_test['V1'], kde=False, rug=True,ax=axes[0,1]);\n",
    "sns.distplot(X_train['V14'], kde=False, rug=True,ax=axes[1,0]);\n",
    "sns.distplot(X_test['V14'], kde=False, rug=True,ax=axes[1,1]);\n"
   ]
  },
  {
   "cell_type": "code",
   "execution_count": 38,
   "metadata": {},
   "outputs": [
    {
     "data": {
      "image/png": "[encoded data removed]",
      "text/plain": [
       "<Figure size 360x360 with 2 Axes>"
      ]
     },
     "metadata": {
      "needs_background": "light"
     },
     "output_type": "display_data"
    }
   ],
   "source": [
    "# Set up the matplotlib figure\n",
    "f, axes = plt.subplots(1,2, figsize=(5, 5), sharex=True)\n",
    "sns.despine(left=True)\n",
    "\n",
    "sns.distplot(X_train['Amount'], kde=False, rug=True,ax=axes[0]);\n",
    "sns.distplot(X_test['Amount'], kde=False, rug=True,ax=axes[1]);\n"
   ]
  },
  {
   "cell_type": "code",
   "execution_count": 39,
   "metadata": {},
   "outputs": [
    {
     "data": {
      "text/html": [
       "<div>\n",
       "<style scoped>\n",
       "    .dataframe tbody tr th:only-of-type {\n",
       "        vertical-align: middle;\n",
       "    }\n",
       "\n",
       "    .dataframe tbody tr th {\n",
       "        vertical-align: top;\n",
       "    }\n",
       "\n",
       "    .dataframe thead th {\n",
       "        text-align: right;\n",
       "    }\n",
       "</style>\n",
       "<table border=\"1\" class=\"dataframe\">\n",
       "  <thead>\n",
       "    <tr style=\"text-align: right;\">\n",
       "      <th></th>\n",
       "      <th>V1</th>\n",
       "      <th>V2</th>\n",
       "      <th>V3</th>\n",
       "      <th>V4</th>\n",
       "      <th>V5</th>\n",
       "      <th>V6</th>\n",
       "      <th>V7</th>\n",
       "      <th>V8</th>\n",
       "      <th>V9</th>\n",
       "      <th>V10</th>\n",
       "      <th>V11</th>\n",
       "      <th>V12</th>\n",
       "      <th>V13</th>\n",
       "      <th>V14</th>\n",
       "      <th>V15</th>\n",
       "      <th>V16</th>\n",
       "      <th>V17</th>\n",
       "      <th>V18</th>\n",
       "      <th>V19</th>\n",
       "      <th>V20</th>\n",
       "      <th>V21</th>\n",
       "      <th>V22</th>\n",
       "      <th>V23</th>\n",
       "      <th>V24</th>\n",
       "      <th>V25</th>\n",
       "      <th>V26</th>\n",
       "      <th>V27</th>\n",
       "      <th>V28</th>\n",
       "      <th>Amount</th>\n",
       "    </tr>\n",
       "  </thead>\n",
       "  <tbody>\n",
       "    <tr>\n",
       "      <th>7610</th>\n",
       "      <td>0.598470</td>\n",
       "      <td>-0.076635</td>\n",
       "      <td>0.414364</td>\n",
       "      <td>0.017924</td>\n",
       "      <td>-0.150960</td>\n",
       "      <td>0.345395</td>\n",
       "      <td>-0.423005</td>\n",
       "      <td>0.053042</td>\n",
       "      <td>1.152344</td>\n",
       "      <td>-0.468132</td>\n",
       "      <td>2.711653</td>\n",
       "      <td>-1.044975</td>\n",
       "      <td>2.490859</td>\n",
       "      <td>1.988839</td>\n",
       "      <td>0.192412</td>\n",
       "      <td>-0.153792</td>\n",
       "      <td>0.752506</td>\n",
       "      <td>-0.799254</td>\n",
       "      <td>-0.752043</td>\n",
       "      <td>-0.142787</td>\n",
       "      <td>-0.217742</td>\n",
       "      <td>-0.215110</td>\n",
       "      <td>0.229615</td>\n",
       "      <td>-0.518220</td>\n",
       "      <td>-0.140181</td>\n",
       "      <td>1.711153</td>\n",
       "      <td>-0.180481</td>\n",
       "      <td>-0.027825</td>\n",
       "      <td>-1.853467</td>\n",
       "    </tr>\n",
       "    <tr>\n",
       "      <th>190214</th>\n",
       "      <td>1.445565</td>\n",
       "      <td>-0.134373</td>\n",
       "      <td>-0.902690</td>\n",
       "      <td>0.208193</td>\n",
       "      <td>0.136115</td>\n",
       "      <td>-0.409005</td>\n",
       "      <td>0.073299</td>\n",
       "      <td>-0.252318</td>\n",
       "      <td>0.277355</td>\n",
       "      <td>0.257359</td>\n",
       "      <td>0.627815</td>\n",
       "      <td>1.546125</td>\n",
       "      <td>0.529601</td>\n",
       "      <td>0.317871</td>\n",
       "      <td>-0.765034</td>\n",
       "      <td>0.165528</td>\n",
       "      <td>-0.886526</td>\n",
       "      <td>-0.347125</td>\n",
       "      <td>0.754667</td>\n",
       "      <td>-0.220963</td>\n",
       "      <td>-0.355324</td>\n",
       "      <td>-0.881595</td>\n",
       "      <td>0.418801</td>\n",
       "      <td>-0.841362</td>\n",
       "      <td>-0.510193</td>\n",
       "      <td>0.511993</td>\n",
       "      <td>-0.206056</td>\n",
       "      <td>-0.220886</td>\n",
       "      <td>-1.446662</td>\n",
       "    </tr>\n",
       "    <tr>\n",
       "      <th>130590</th>\n",
       "      <td>0.843049</td>\n",
       "      <td>-0.987411</td>\n",
       "      <td>-0.652970</td>\n",
       "      <td>-1.919788</td>\n",
       "      <td>0.423178</td>\n",
       "      <td>2.278265</td>\n",
       "      <td>-1.478071</td>\n",
       "      <td>0.853644</td>\n",
       "      <td>-1.629738</td>\n",
       "      <td>1.315947</td>\n",
       "      <td>-0.265160</td>\n",
       "      <td>-1.117650</td>\n",
       "      <td>0.627704</td>\n",
       "      <td>-0.502524</td>\n",
       "      <td>1.139137</td>\n",
       "      <td>0.141712</td>\n",
       "      <td>-0.192826</td>\n",
       "      <td>1.001148</td>\n",
       "      <td>-0.138704</td>\n",
       "      <td>-0.090662</td>\n",
       "      <td>-0.009865</td>\n",
       "      <td>0.104342</td>\n",
       "      <td>-0.203779</td>\n",
       "      <td>1.917859</td>\n",
       "      <td>0.990486</td>\n",
       "      <td>0.014536</td>\n",
       "      <td>0.099397</td>\n",
       "      <td>0.107899</td>\n",
       "      <td>0.706491</td>\n",
       "    </tr>\n",
       "    <tr>\n",
       "      <th>247916</th>\n",
       "      <td>-0.326321</td>\n",
       "      <td>0.805913</td>\n",
       "      <td>-0.366669</td>\n",
       "      <td>-0.296532</td>\n",
       "      <td>0.512231</td>\n",
       "      <td>-0.805682</td>\n",
       "      <td>0.794658</td>\n",
       "      <td>-0.185940</td>\n",
       "      <td>0.130993</td>\n",
       "      <td>-0.479100</td>\n",
       "      <td>-0.135555</td>\n",
       "      <td>0.007221</td>\n",
       "      <td>0.121092</td>\n",
       "      <td>-1.148253</td>\n",
       "      <td>-0.307278</td>\n",
       "      <td>0.046717</td>\n",
       "      <td>0.670351</td>\n",
       "      <td>-0.599578</td>\n",
       "      <td>-0.610739</td>\n",
       "      <td>0.173877</td>\n",
       "      <td>-0.457294</td>\n",
       "      <td>-1.012077</td>\n",
       "      <td>0.252022</td>\n",
       "      <td>1.861162</td>\n",
       "      <td>-0.857357</td>\n",
       "      <td>0.288656</td>\n",
       "      <td>0.854371</td>\n",
       "      <td>0.473371</td>\n",
       "      <td>-1.576187</td>\n",
       "    </tr>\n",
       "    <tr>\n",
       "      <th>55518</th>\n",
       "      <td>0.566536</td>\n",
       "      <td>-0.144094</td>\n",
       "      <td>0.637616</td>\n",
       "      <td>0.445581</td>\n",
       "      <td>-0.564414</td>\n",
       "      <td>0.053504</td>\n",
       "      <td>-0.482081</td>\n",
       "      <td>0.184401</td>\n",
       "      <td>0.269297</td>\n",
       "      <td>0.107031</td>\n",
       "      <td>1.543871</td>\n",
       "      <td>0.577842</td>\n",
       "      <td>-0.847218</td>\n",
       "      <td>0.455308</td>\n",
       "      <td>1.052225</td>\n",
       "      <td>0.485489</td>\n",
       "      <td>-0.496743</td>\n",
       "      <td>-0.071757</td>\n",
       "      <td>-0.563810</td>\n",
       "      <td>-0.222159</td>\n",
       "      <td>0.013937</td>\n",
       "      <td>-0.092414</td>\n",
       "      <td>0.225649</td>\n",
       "      <td>0.287704</td>\n",
       "      <td>-0.037162</td>\n",
       "      <td>0.529867</td>\n",
       "      <td>-0.020486</td>\n",
       "      <td>0.051746</td>\n",
       "      <td>-0.715547</td>\n",
       "    </tr>\n",
       "  </tbody>\n",
       "</table>\n",
       "</div>"
      ],
      "text/plain": [
       "              V1        V2        V3        V4        V5        V6        V7  \\\n",
       "7610    0.598470 -0.076635  0.414364  0.017924 -0.150960  0.345395 -0.423005   \n",
       "190214  1.445565 -0.134373 -0.902690  0.208193  0.136115 -0.409005  0.073299   \n",
       "130590  0.843049 -0.987411 -0.652970 -1.919788  0.423178  2.278265 -1.478071   \n",
       "247916 -0.326321  0.805913 -0.366669 -0.296532  0.512231 -0.805682  0.794658   \n",
       "55518   0.566536 -0.144094  0.637616  0.445581 -0.564414  0.053504 -0.482081   \n",
       "\n",
       "              V8        V9       V10       V11       V12       V13       V14  \\\n",
       "7610    0.053042  1.152344 -0.468132  2.711653 -1.044975  2.490859  1.988839   \n",
       "190214 -0.252318  0.277355  0.257359  0.627815  1.546125  0.529601  0.317871   \n",
       "130590  0.853644 -1.629738  1.315947 -0.265160 -1.117650  0.627704 -0.502524   \n",
       "247916 -0.185940  0.130993 -0.479100 -0.135555  0.007221  0.121092 -1.148253   \n",
       "55518   0.184401  0.269297  0.107031  1.543871  0.577842 -0.847218  0.455308   \n",
       "\n",
       "             V15       V16       V17       V18       V19       V20       V21  \\\n",
       "7610    0.192412 -0.153792  0.752506 -0.799254 -0.752043 -0.142787 -0.217742   \n",
       "190214 -0.765034  0.165528 -0.886526 -0.347125  0.754667 -0.220963 -0.355324   \n",
       "130590  1.139137  0.141712 -0.192826  1.001148 -0.138704 -0.090662 -0.009865   \n",
       "247916 -0.307278  0.046717  0.670351 -0.599578 -0.610739  0.173877 -0.457294   \n",
       "55518   1.052225  0.485489 -0.496743 -0.071757 -0.563810 -0.222159  0.013937   \n",
       "\n",
       "             V22       V23       V24       V25       V26       V27       V28  \\\n",
       "7610   -0.215110  0.229615 -0.518220 -0.140181  1.711153 -0.180481 -0.027825   \n",
       "190214 -0.881595  0.418801 -0.841362 -0.510193  0.511993 -0.206056 -0.220886   \n",
       "130590  0.104342 -0.203779  1.917859  0.990486  0.014536  0.099397  0.107899   \n",
       "247916 -1.012077  0.252022  1.861162 -0.857357  0.288656  0.854371  0.473371   \n",
       "55518  -0.092414  0.225649  0.287704 -0.037162  0.529867 -0.020486  0.051746   \n",
       "\n",
       "          Amount  \n",
       "7610   -1.853467  \n",
       "190214 -1.446662  \n",
       "130590  0.706491  \n",
       "247916 -1.576187  \n",
       "55518  -0.715547  "
      ]
     },
     "execution_count": 39,
     "metadata": {},
     "output_type": "execute_result"
    }
   ],
   "source": [
    "X_train.head()"
   ]
  },
  {
   "cell_type": "code",
   "execution_count": 40,
   "metadata": {},
   "outputs": [
    {
     "data": {
      "text/html": [
       "<div>\n",
       "<style scoped>\n",
       "    .dataframe tbody tr th:only-of-type {\n",
       "        vertical-align: middle;\n",
       "    }\n",
       "\n",
       "    .dataframe tbody tr th {\n",
       "        vertical-align: top;\n",
       "    }\n",
       "\n",
       "    .dataframe thead th {\n",
       "        text-align: right;\n",
       "    }\n",
       "</style>\n",
       "<table border=\"1\" class=\"dataframe\">\n",
       "  <thead>\n",
       "    <tr style=\"text-align: right;\">\n",
       "      <th></th>\n",
       "      <th>V1</th>\n",
       "      <th>V2</th>\n",
       "      <th>V3</th>\n",
       "      <th>V4</th>\n",
       "      <th>V5</th>\n",
       "      <th>V6</th>\n",
       "      <th>V7</th>\n",
       "      <th>V8</th>\n",
       "      <th>V9</th>\n",
       "      <th>V10</th>\n",
       "      <th>V11</th>\n",
       "      <th>V12</th>\n",
       "      <th>V13</th>\n",
       "      <th>V14</th>\n",
       "      <th>V15</th>\n",
       "      <th>V16</th>\n",
       "      <th>V17</th>\n",
       "      <th>V18</th>\n",
       "      <th>V19</th>\n",
       "      <th>V20</th>\n",
       "      <th>V21</th>\n",
       "      <th>V22</th>\n",
       "      <th>V23</th>\n",
       "      <th>V24</th>\n",
       "      <th>V25</th>\n",
       "      <th>V26</th>\n",
       "      <th>V27</th>\n",
       "      <th>V28</th>\n",
       "      <th>Amount</th>\n",
       "    </tr>\n",
       "  </thead>\n",
       "  <tbody>\n",
       "    <tr>\n",
       "      <th>49089</th>\n",
       "      <td>0.658689</td>\n",
       "      <td>-0.233276</td>\n",
       "      <td>-0.560895</td>\n",
       "      <td>0.369676</td>\n",
       "      <td>1.319280</td>\n",
       "      <td>2.555125</td>\n",
       "      <td>-0.741600</td>\n",
       "      <td>1.063597</td>\n",
       "      <td>0.711001</td>\n",
       "      <td>-0.095232</td>\n",
       "      <td>-0.828848</td>\n",
       "      <td>0.306255</td>\n",
       "      <td>-0.253320</td>\n",
       "      <td>-0.371748</td>\n",
       "      <td>-0.855520</td>\n",
       "      <td>-0.314360</td>\n",
       "      <td>-0.435584</td>\n",
       "      <td>-0.014002</td>\n",
       "      <td>0.591853</td>\n",
       "      <td>-0.076324</td>\n",
       "      <td>-0.221009</td>\n",
       "      <td>-0.414727</td>\n",
       "      <td>-0.219108</td>\n",
       "      <td>1.954270</td>\n",
       "      <td>1.710725</td>\n",
       "      <td>-0.512722</td>\n",
       "      <td>0.132377</td>\n",
       "      <td>0.067132</td>\n",
       "      <td>-1.268556</td>\n",
       "    </tr>\n",
       "    <tr>\n",
       "      <th>154704</th>\n",
       "      <td>1.407424</td>\n",
       "      <td>-0.140817</td>\n",
       "      <td>-1.748593</td>\n",
       "      <td>-0.025081</td>\n",
       "      <td>1.966521</td>\n",
       "      <td>2.175507</td>\n",
       "      <td>-0.544233</td>\n",
       "      <td>0.730088</td>\n",
       "      <td>1.695301</td>\n",
       "      <td>-0.974184</td>\n",
       "      <td>1.097030</td>\n",
       "      <td>-2.004819</td>\n",
       "      <td>1.248858</td>\n",
       "      <td>-0.141118</td>\n",
       "      <td>-0.825584</td>\n",
       "      <td>-0.067886</td>\n",
       "      <td>2.468963</td>\n",
       "      <td>0.381756</td>\n",
       "      <td>-0.547158</td>\n",
       "      <td>-0.192581</td>\n",
       "      <td>-0.241112</td>\n",
       "      <td>-0.143108</td>\n",
       "      <td>0.130718</td>\n",
       "      <td>0.969659</td>\n",
       "      <td>0.160017</td>\n",
       "      <td>1.254289</td>\n",
       "      <td>-0.147385</td>\n",
       "      <td>-0.123027</td>\n",
       "      <td>-0.630387</td>\n",
       "    </tr>\n",
       "    <tr>\n",
       "      <th>67247</th>\n",
       "      <td>0.096621</td>\n",
       "      <td>-0.938971</td>\n",
       "      <td>0.531532</td>\n",
       "      <td>0.346459</td>\n",
       "      <td>-1.053717</td>\n",
       "      <td>0.388041</td>\n",
       "      <td>-0.419957</td>\n",
       "      <td>0.233140</td>\n",
       "      <td>0.958128</td>\n",
       "      <td>-0.377715</td>\n",
       "      <td>1.113745</td>\n",
       "      <td>1.044915</td>\n",
       "      <td>-1.105159</td>\n",
       "      <td>-0.139909</td>\n",
       "      <td>-0.710575</td>\n",
       "      <td>-0.303358</td>\n",
       "      <td>0.345974</td>\n",
       "      <td>-0.584381</td>\n",
       "      <td>0.292725</td>\n",
       "      <td>0.566168</td>\n",
       "      <td>0.058740</td>\n",
       "      <td>-0.544458</td>\n",
       "      <td>-0.216084</td>\n",
       "      <td>0.412355</td>\n",
       "      <td>-0.299816</td>\n",
       "      <td>1.725113</td>\n",
       "      <td>-0.234614</td>\n",
       "      <td>0.173898</td>\n",
       "      <td>1.506176</td>\n",
       "    </tr>\n",
       "    <tr>\n",
       "      <th>251657</th>\n",
       "      <td>1.522070</td>\n",
       "      <td>-0.158956</td>\n",
       "      <td>-1.050062</td>\n",
       "      <td>0.196123</td>\n",
       "      <td>0.261972</td>\n",
       "      <td>-0.349599</td>\n",
       "      <td>0.084866</td>\n",
       "      <td>-0.282835</td>\n",
       "      <td>0.655353</td>\n",
       "      <td>0.119447</td>\n",
       "      <td>-1.765857</td>\n",
       "      <td>-0.314866</td>\n",
       "      <td>-0.200860</td>\n",
       "      <td>0.266315</td>\n",
       "      <td>0.180992</td>\n",
       "      <td>0.109783</td>\n",
       "      <td>-0.718288</td>\n",
       "      <td>-0.680176</td>\n",
       "      <td>0.586084</td>\n",
       "      <td>-0.295822</td>\n",
       "      <td>-0.491068</td>\n",
       "      <td>-1.237037</td>\n",
       "      <td>0.352663</td>\n",
       "      <td>-1.630590</td>\n",
       "      <td>-0.397150</td>\n",
       "      <td>0.628529</td>\n",
       "      <td>-0.205181</td>\n",
       "      <td>-0.215216</td>\n",
       "      <td>-1.541291</td>\n",
       "    </tr>\n",
       "    <tr>\n",
       "      <th>201903</th>\n",
       "      <td>0.113947</td>\n",
       "      <td>1.083883</td>\n",
       "      <td>-1.467842</td>\n",
       "      <td>3.067119</td>\n",
       "      <td>1.595326</td>\n",
       "      <td>-0.314158</td>\n",
       "      <td>0.875044</td>\n",
       "      <td>-0.318009</td>\n",
       "      <td>-1.929774</td>\n",
       "      <td>0.892192</td>\n",
       "      <td>-0.241852</td>\n",
       "      <td>-1.086679</td>\n",
       "      <td>0.478501</td>\n",
       "      <td>-2.535899</td>\n",
       "      <td>0.190638</td>\n",
       "      <td>0.348483</td>\n",
       "      <td>3.497318</td>\n",
       "      <td>1.323253</td>\n",
       "      <td>0.822159</td>\n",
       "      <td>0.322130</td>\n",
       "      <td>-0.029732</td>\n",
       "      <td>0.359377</td>\n",
       "      <td>0.612500</td>\n",
       "      <td>0.498160</td>\n",
       "      <td>-0.667617</td>\n",
       "      <td>0.958808</td>\n",
       "      <td>0.415974</td>\n",
       "      <td>0.026197</td>\n",
       "      <td>0.209908</td>\n",
       "    </tr>\n",
       "  </tbody>\n",
       "</table>\n",
       "</div>"
      ],
      "text/plain": [
       "              V1        V2        V3        V4        V5        V6        V7  \\\n",
       "49089   0.658689 -0.233276 -0.560895  0.369676  1.319280  2.555125 -0.741600   \n",
       "154704  1.407424 -0.140817 -1.748593 -0.025081  1.966521  2.175507 -0.544233   \n",
       "67247   0.096621 -0.938971  0.531532  0.346459 -1.053717  0.388041 -0.419957   \n",
       "251657  1.522070 -0.158956 -1.050062  0.196123  0.261972 -0.349599  0.084866   \n",
       "201903  0.113947  1.083883 -1.467842  3.067119  1.595326 -0.314158  0.875044   \n",
       "\n",
       "              V8        V9       V10       V11       V12       V13       V14  \\\n",
       "49089   1.063597  0.711001 -0.095232 -0.828848  0.306255 -0.253320 -0.371748   \n",
       "154704  0.730088  1.695301 -0.974184  1.097030 -2.004819  1.248858 -0.141118   \n",
       "67247   0.233140  0.958128 -0.377715  1.113745  1.044915 -1.105159 -0.139909   \n",
       "251657 -0.282835  0.655353  0.119447 -1.765857 -0.314866 -0.200860  0.266315   \n",
       "201903 -0.318009 -1.929774  0.892192 -0.241852 -1.086679  0.478501 -2.535899   \n",
       "\n",
       "             V15       V16       V17       V18       V19       V20       V21  \\\n",
       "49089  -0.855520 -0.314360 -0.435584 -0.014002  0.591853 -0.076324 -0.221009   \n",
       "154704 -0.825584 -0.067886  2.468963  0.381756 -0.547158 -0.192581 -0.241112   \n",
       "67247  -0.710575 -0.303358  0.345974 -0.584381  0.292725  0.566168  0.058740   \n",
       "251657  0.180992  0.109783 -0.718288 -0.680176  0.586084 -0.295822 -0.491068   \n",
       "201903  0.190638  0.348483  3.497318  1.323253  0.822159  0.322130 -0.029732   \n",
       "\n",
       "             V22       V23       V24       V25       V26       V27       V28  \\\n",
       "49089  -0.414727 -0.219108  1.954270  1.710725 -0.512722  0.132377  0.067132   \n",
       "154704 -0.143108  0.130718  0.969659  0.160017  1.254289 -0.147385 -0.123027   \n",
       "67247  -0.544458 -0.216084  0.412355 -0.299816  1.725113 -0.234614  0.173898   \n",
       "251657 -1.237037  0.352663 -1.630590 -0.397150  0.628529 -0.205181 -0.215216   \n",
       "201903  0.359377  0.612500  0.498160 -0.667617  0.958808  0.415974  0.026197   \n",
       "\n",
       "          Amount  \n",
       "49089  -1.268556  \n",
       "154704 -0.630387  \n",
       "67247   1.506176  \n",
       "251657 -1.541291  \n",
       "201903  0.209908  "
      ]
     },
     "execution_count": 40,
     "metadata": {},
     "output_type": "execute_result"
    }
   ],
   "source": [
    "X_test.head()"
   ]
  },
  {
   "cell_type": "code",
   "execution_count": 41,
   "metadata": {},
   "outputs": [
    {
     "name": "stdout",
     "output_type": "stream",
     "text": [
      "Train and test sizes, respectively: 199364 199364 | 85443 85443\n",
      "Total number of frauds: 492 0.001727485630620034\n",
      "Number of frauds on y_test: 142 0.001661926664559999\n",
      "Number of frauds on y_train: 350 0.001755582753155033\n"
     ]
    }
   ],
   "source": [
    "print(\"Train and test sizes, respectively:\", len(X_train), len(y_train), \"|\", len(X_test), len(y_test))\n",
    "print(\"Total number of frauds:\", len(y.loc[df['Class'] == 1]), len(y.loc[df['Class'] == 1])/len(y))\n",
    "print(\"Number of frauds on y_test:\", len(y_test.loc[df['Class'] == 1]), len(y_test.loc[df['Class'] == 1]) / len(y_test))\n",
    "print(\"Number of frauds on y_train:\", len(y_train.loc[df['Class'] == 1]), len(y_train.loc[df['Class'] == 1])/len(y_train))\n"
   ]
  },
  {
   "cell_type": "markdown",
   "metadata": {},
   "source": [
    "## Model Building\n",
    "- Build different models on the imbalanced dataset and see the result"
   ]
  },
  {
   "cell_type": "code",
   "execution_count": 42,
   "metadata": {},
   "outputs": [],
   "source": [
    "from sklearn import linear_model\n",
    "from sklearn.linear_model import LogisticRegression\n",
    "\n",
    "from sklearn.metrics import confusion_matrix\n",
    "\n",
    "from sklearn.model_selection import cross_val_score\n",
    "from sklearn.model_selection import StratifiedKFold\n",
    "from sklearn.model_selection import RandomizedSearchCV,GridSearchCV\n",
    "\n",
    "from sklearn.tree import DecisionTreeClassifier\n",
    "from sklearn.ensemble import RandomForestClassifier\n",
    "from xgboost import XGBClassifier"
   ]
  },
  {
   "cell_type": "markdown",
   "metadata": {},
   "source": [
    "#### Function to draw ROC curve"
   ]
  },
  {
   "cell_type": "code",
   "execution_count": 43,
   "metadata": {},
   "outputs": [],
   "source": [
    "\n",
    "def draw_roc( actual, probs ):\n",
    "    fpr, tpr, thresholds = metrics.roc_curve( actual, probs,\n",
    "                                              drop_intermediate = False )\n",
    "    auc_score = metrics.roc_auc_score( actual, probs )\n",
    "    plt.figure(figsize=(6, 6))\n",
    "    plt.plot( fpr, tpr, label='ROC curve (area = %0.2f)' % auc_score )\n",
    "    plt.plot([0, 1], [0, 1], 'k--')\n",
    "    plt.xlim([0.0, 1.0])\n",
    "    plt.ylim([0.0, 1.05])\n",
    "    plt.xlabel('False Positive Rate or [1 - True Negative Rate]')\n",
    "    plt.ylabel('True Positive Rate')\n",
    "    plt.title('Receiver operating characteristic example')\n",
    "    plt.legend(loc=\"lower right\")\n",
    "    plt.show()\n",
    "\n",
    "    return fpr, tpr, thresholds"
   ]
  },
  {
   "cell_type": "markdown",
   "metadata": {},
   "source": [
    "#### Function to get model evaluation metrics\n"
   ]
  },
  {
   "cell_type": "code",
   "execution_count": 44,
   "metadata": {},
   "outputs": [],
   "source": [
    "def getModelMetrics(actual_fraud,pred_fraud,fraud_prob):\n",
    "\n",
    "    confusion = metrics.confusion_matrix(actual_fraud, pred_fraud)\n",
    "\n",
    "    TP = confusion[1,1] # true positive \n",
    "    TN = confusion[0,0] # true negatives\n",
    "    FP = confusion[0,1] # false positives\n",
    "    FN = confusion[1,0] # false negatives\n",
    "\n",
    "    print(\"***SKLEARN METRICS***\")\n",
    "    print (\"ROC_AUC Score: %f\" % metrics.roc_auc_score(actual_fraud, fraud_prob))\n",
    "    # sklearn accuracy score value \n",
    "    print('sklearn accuracy score value: {}'.format(metrics.accuracy_score(actual_fraud, pred_fraud )))\n",
    "    # sklearn recall score value \n",
    "    print('sklearn recall score value: {}'.format(metrics.recall_score(actual_fraud, pred_fraud )))\n",
    "    # sklearn precision score value \n",
    "    print('sklearn precision score value: {}'.format(metrics.precision_score(actual_fraud, pred_fraud )))\n",
    "    # sklearn F1 score value \n",
    "    print('sklearn F1 score value: {}'.format(metrics.f1_score(actual_fraud, pred_fraud )))"
   ]
  },
  {
   "cell_type": "markdown",
   "metadata": {},
   "source": [
    "### Finding optimal cut off  from accuracy, sensitivity, specificity curve"
   ]
  },
  {
   "cell_type": "code",
   "execution_count": 45,
   "metadata": {},
   "outputs": [],
   "source": [
    "def findOptimalCutoff(df):\n",
    "    #Function to find the optimal cutoff for classifing as fraud/non-fraud\n",
    "    # Let's create columns with different probability cutoffs \n",
    "    numbers = [float(x)/10 for x in range(10)]\n",
    "    for i in numbers:\n",
    "        df[i] = df.fraud_Prob.map( lambda x: 1 if x > i else 0)\n",
    "    #print(df.head())\n",
    "    \n",
    "    # Now let's calculate accuracy sensitivity and specificity for various probability cutoffs.\n",
    "    cutoff_df = pd.DataFrame( columns = ['prob','accuracy','sensi','speci'])\n",
    "    \n",
    "    \n",
    "    # TP = confusion[1,1] # true positive \n",
    "    # TN = confusion[0,0] # true negatives\n",
    "    # FP = confusion[0,1] # false positives\n",
    "    # FN = confusion[1,0] # false negatives\n",
    "    \n",
    "    num = [0.0,0.1,0.2,0.3,0.4,0.5,0.6,0.7,0.8,0.9]\n",
    "    for i in num:\n",
    "        cm1 = metrics.confusion_matrix(df.fraud, df[i] )\n",
    "        total1=sum(sum(cm1))\n",
    "        accuracy = (cm1[0,0]+cm1[1,1])/total1\n",
    "        \n",
    "        speci = cm1[0,0]/(cm1[0,0]+cm1[0,1])\n",
    "        sensi = cm1[1,1]/(cm1[1,0]+cm1[1,1])\n",
    "        cutoff_df.loc[i] =[ i ,accuracy,sensi,speci]\n",
    "    print(cutoff_df)\n",
    "    # Let's plot accuracy sensitivity and specificity for various probabilities.\n",
    "    \n",
    "    cutoff_df.plot.line(x='prob', y=['accuracy','sensi','speci'])\n",
    "    plt.show()"
   ]
  },
  {
   "cell_type": "markdown",
   "metadata": {},
   "source": [
    "### Function to fit the model"
   ]
  },
  {
   "cell_type": "code",
   "execution_count": 46,
   "metadata": {},
   "outputs": [],
   "source": [
    "def modelfit(alg, X_train, y_train, performCV=True, cv_folds=5):\n",
    "    #Fit the algorithm on the data\n",
    "    alg.fit(X_train, y_train)\n",
    "        \n",
    "    #Predict training set:\n",
    "    dtrain_predictions = alg.predict(X_train)\n",
    "    dtrain_predprob = alg.predict_proba(X_train)[:,1]\n",
    "    #Print model report:\n",
    "    print (\"\\nModel Report\")\n",
    "    print (\"AUC Score (Train): %f\" % metrics.roc_auc_score(y_train, dtrain_predprob))\n",
    "    print (\"Accuracy : %.4g\" % metrics.accuracy_score(y_train, dtrain_predictions))\n",
    "    print (\"Recall/Sensitivity : %.4g\" % metrics.recall_score(y_train, dtrain_predictions))\n",
    "    print(\"Precision: %.4g\" % metrics.precision_score(y_train, dtrain_predictions))\n",
    "    \n",
    "    \n",
    "    #Perform cross-validation:\n",
    "    #if performCV:\n",
    "        #cv_score = cross_val_score(alg, X_train, y_train, cv=cv_folds, scoring='roc_auc')\n",
    "        #print(\"Mean _score: %.2f%%\" % (cv_score.mean()*100.0))\n",
    "        #print (\"CV Score : Mean - %.7g | Std - %.7g | Min - %.7g | Max - %.7g\" % (np.mean(cv_score),np.std(cv_score),np.min(cv_score),np.max(cv_score)))#"
   ]
  },
  {
   "cell_type": "markdown",
   "metadata": {},
   "source": [
    "### Funtion to predict the fraud using the input probability cut-off"
   ]
  },
  {
   "cell_type": "code",
   "execution_count": 47,
   "metadata": {},
   "outputs": [],
   "source": [
    "def predictFraudWithProb(model,X,y,prob):\n",
    "    # Funtion to predict the fraud using the input probability cut-off\n",
    "    # Input arguments: model instance, x and y to predict using model and cut-off probability\n",
    "    \n",
    "    # predict\n",
    "    pred_probs = model.predict_proba(X)[:,1]\n",
    "    \n",
    "    y_df= pd.DataFrame({'fraud':y, 'fraud_Prob':pred_probs})\n",
    "    # Creating new column 'predicted' with 1 if fraud_Prob>0.5 else 0\n",
    "    y_df['final_predicted'] = y_df.fraud_Prob.map( lambda x: 1 if x > prob else 0)\n",
    "    # Let's see the metrices\n",
    "    getModelMetrics(y_df.fraud,y_df.final_predicted,y_df.fraud_Prob)\n",
    "    return y_df"
   ]
  },
  {
   "cell_type": "markdown",
   "metadata": {},
   "source": [
    "## Logistic Regression - Imbalanced"
   ]
  },
  {
   "cell_type": "code",
   "execution_count": 48,
   "metadata": {},
   "outputs": [
    {
     "name": "stdout",
     "output_type": "stream",
     "text": [
      "\n",
      "Model Report\n",
      "AUC Score (Train): 0.984591\n",
      "Accuracy : 0.9993\n",
      "Recall/Sensitivity : 0.7\n",
      "Precision: 0.9041\n"
     ]
    }
   ],
   "source": [
    "logistic_reg=LogisticRegression()\n",
    "\n",
    "modelfit(logistic_reg,X_train, y_train)\n"
   ]
  },
  {
   "cell_type": "code",
   "execution_count": 49,
   "metadata": {},
   "outputs": [
    {
     "name": "stdout",
     "output_type": "stream",
     "text": [
      "***SKLEARN METRICS***\n",
      "ROC_AUC Score: 0.967176\n",
      "sklearn accuracy score value: 0.9991807403766253\n",
      "sklearn recall score value: 0.6549295774647887\n",
      "sklearn precision score value: 0.8157894736842105\n",
      "sklearn F1 score value: 0.7265625000000001\n"
     ]
    }
   ],
   "source": [
    "# make predictions\n",
    "pred_probs_test = logistic_reg.predict(X_test)\n",
    "pred_proba=logistic_reg.predict_proba(X_test)[:,1]\n",
    "#Let's check the model metrices.\n",
    "getModelMetrics(y_test,pred_probs_test,pred_proba)"
   ]
  },
  {
   "cell_type": "markdown",
   "metadata": {},
   "source": [
    "#### perfom cross validation on the X_train & y_train to create:\n",
    "- X_train_cv\n",
    "- X_test_cv \n",
    "- y_train_cv\n",
    "- y_test_cv "
   ]
  },
  {
   "cell_type": "markdown",
   "metadata": {},
   "source": [
    "### StratifiedKFold Cross Validation"
   ]
  },
  {
   "cell_type": "code",
   "execution_count": 50,
   "metadata": {},
   "outputs": [
    {
     "name": "stdout",
     "output_type": "stream",
     "text": [
      "auc_score: 0.98314\n"
     ]
    }
   ],
   "source": [
    "cv = StratifiedKFold(n_splits=5,shuffle=True,random_state=42)\n",
    "scores = cross_val_score(logistic_reg,X_train, y_train, scoring='roc_auc', cv=cv, n_jobs=-1)\n",
    "score = np.mean(scores)\n",
    "print('auc_score: %.5f' % score)\n"
   ]
  },
  {
   "cell_type": "code",
   "execution_count": 51,
   "metadata": {},
   "outputs": [
    {
     "name": "stdout",
     "output_type": "stream",
     "text": [
      "1 of KFold 5\n",
      "ROC AUC score: 0.9780946159837198\n",
      "2 of KFold 5\n",
      "ROC AUC score: 0.9917170636814885\n",
      "3 of KFold 5\n",
      "ROC AUC score: 0.9783939473334746\n",
      "4 of KFold 5\n",
      "ROC AUC score: 0.9867152870745565\n",
      "5 of KFold 5\n",
      "ROC AUC score: 0.9807931403303496\n",
      "\n",
      "mean_auc_score: 0.98314\n"
     ]
    }
   ],
   "source": [
    "skf = StratifiedKFold(n_splits=5,shuffle=True,random_state=42)\n",
    "pred_test_full =0\n",
    "cv_score =[]\n",
    "i=1\n",
    "for train_index,test_index in skf.split(X_train,y_train):\n",
    "    print('{} of KFold {}'.format(i,skf.n_splits))\n",
    "    X_train_cv,X_test_cv = X_train.iloc[train_index],X_train.iloc[test_index]\n",
    "    y_train_cv,y_test_cv = y_train.iloc[train_index],y_train.iloc[test_index]\n",
    "    #model\n",
    "    logistic_reg.fit(X_train_cv,y_train_cv)\n",
    "    score = metrics.roc_auc_score(y_test_cv,logistic_reg.predict_proba(X_test_cv)[:,1])\n",
    "    print('ROC AUC score:',score)\n",
    "    cv_score.append(score)    \n",
    "    pred_test = logistic_reg.predict_proba(X_test)[:,1]\n",
    "    pred_test_full +=pred_test\n",
    "    i+=1\n",
    "    \n",
    "print('\\nmean_auc_score: %.5f' % np.mean(cv_score))   "
   ]
  },
  {
   "cell_type": "code",
   "execution_count": 52,
   "metadata": {},
   "outputs": [
    {
     "data": {
      "text/plain": [
       "(85443,)"
      ]
     },
     "execution_count": 52,
     "metadata": {},
     "output_type": "execute_result"
    }
   ],
   "source": [
    "y_test.shape"
   ]
  },
  {
   "cell_type": "code",
   "execution_count": 53,
   "metadata": {},
   "outputs": [
    {
     "data": {
      "text/plain": [
       "(85443,)"
      ]
     },
     "execution_count": 53,
     "metadata": {},
     "output_type": "execute_result"
    }
   ],
   "source": [
    "pred_test_full.shape"
   ]
  },
  {
   "cell_type": "markdown",
   "metadata": {},
   "source": [
    "### Predicting on test data"
   ]
  },
  {
   "cell_type": "code",
   "execution_count": 54,
   "metadata": {},
   "outputs": [],
   "source": [
    "pred_probs = pred_test_full/5\n",
    "y_df= pd.DataFrame({'fraud':y_test, 'fraud_Prob':pred_probs})\n",
    "# Creating new column 'predicted' with 1 if fraud_Prob>0.1 else 0\n",
    "y_df['final_predicted'] = y_df.fraud_Prob.map( lambda x: 1 if x > 0.5 else 0)"
   ]
  },
  {
   "cell_type": "markdown",
   "metadata": {},
   "source": [
    "#### EVALUATION METRICES"
   ]
  },
  {
   "cell_type": "code",
   "execution_count": 55,
   "metadata": {},
   "outputs": [
    {
     "name": "stdout",
     "output_type": "stream",
     "text": [
      "***SKLEARN METRICS***\n",
      "ROC_AUC Score: 0.966977\n",
      "sklearn accuracy score value: 0.9991807403766253\n",
      "sklearn recall score value: 0.6549295774647887\n",
      "sklearn precision score value: 0.8157894736842105\n",
      "sklearn F1 score value: 0.7265625000000001\n"
     ]
    }
   ],
   "source": [
    "# Let's see the metrices\n",
    "getModelMetrics(y_df.fraud,y_df.final_predicted,y_df.fraud_Prob)"
   ]
  },
  {
   "cell_type": "markdown",
   "metadata": {},
   "source": [
    "##### perform hyperparameter tuning\n",
    "\n",
    "#### print the evaluation result by choosing a evaluation metric\n",
    "\n",
    "#### print the optimum value of hyperparameters"
   ]
  },
  {
   "cell_type": "markdown",
   "metadata": {},
   "source": [
    "#### HYPER PARAMETER TUNING -LOGISTIC REGRESSION=IMBALANCED"
   ]
  },
  {
   "cell_type": "code",
   "execution_count": 56,
   "metadata": {},
   "outputs": [],
   "source": [
    "num_C = [0.001,0.003,0.005,0.01,0.03,0.05,0.1,0.3,0.5,1,2,3,3,4,5] #--> list of values\n",
    "cv_num =10 #--> list of values"
   ]
  },
  {
   "cell_type": "code",
   "execution_count": 57,
   "metadata": {},
   "outputs": [
    {
     "name": "stdout",
     "output_type": "stream",
     "text": [
      "Best roc_auc: 0.9828, with best C: {'C': 0.001}\n"
     ]
    }
   ],
   "source": [
    "#Grid Search\n",
    "logreg = LogisticRegression(class_weight='balanced')\n",
    "#param = {'C':[0.001,0.003,0.005,0.01,0.03,0.05,0.1,0.3,0.5,1,2,3,3,4,5]}\n",
    "param= {'C' : num_C}\n",
    "clf = RandomizedSearchCV(logreg,param,scoring='roc_auc',refit=True,cv=cv_num)\n",
    "clf.fit(X_train,y_train)\n",
    "print('Best roc_auc: {:.4}, with best C: {}'.format(clf.best_score_, clf.best_params_))"
   ]
  },
  {
   "cell_type": "code",
   "execution_count": 58,
   "metadata": {},
   "outputs": [
    {
     "name": "stdout",
     "output_type": "stream",
     "text": [
      "0.001\n"
     ]
    }
   ],
   "source": [
    "best_C_value=clf.best_params_.get('C')\n",
    "print(best_C_value)"
   ]
  },
  {
   "cell_type": "code",
   "execution_count": 59,
   "metadata": {},
   "outputs": [
    {
     "data": {
      "text/plain": [
       "LogisticRegression(C=0.001, class_weight='balanced', dual=False,\n",
       "          fit_intercept=True, intercept_scaling=1, max_iter=100,\n",
       "          multi_class='warn', n_jobs=None, penalty='l2', random_state=None,\n",
       "          solver='warn', tol=0.0001, verbose=0, warm_start=False)"
      ]
     },
     "execution_count": 59,
     "metadata": {},
     "output_type": "execute_result"
    }
   ],
   "source": [
    "logistic_hpt=LogisticRegression(class_weight='balanced',C=best_C_value)\n",
    "logistic_hpt.fit(X_train,y_train)"
   ]
  },
  {
   "cell_type": "markdown",
   "metadata": {},
   "source": [
    "### TRAINING METRICES"
   ]
  },
  {
   "cell_type": "code",
   "execution_count": 60,
   "metadata": {},
   "outputs": [
    {
     "name": "stdout",
     "output_type": "stream",
     "text": [
      "***SKLEARN METRICS***\n",
      "ROC_AUC Score: 0.989728\n",
      "sklearn accuracy score value: 0.9792991713649405\n",
      "sklearn recall score value: 0.9228571428571428\n",
      "sklearn precision score value: 0.073027356997513\n",
      "sklearn F1 score value: 0.13534464697255394\n"
     ]
    }
   ],
   "source": [
    "# make predictions\n",
    "pred_train = logistic_hpt.predict(X_train)\n",
    "pred_proba_train=logistic_hpt.predict_proba(X_train)[:,1]\n",
    "#Let's check the model metrices.\n",
    "getModelMetrics(y_train,pred_train,pred_proba_train)"
   ]
  },
  {
   "cell_type": "markdown",
   "metadata": {},
   "source": [
    "### TESTING METRICES"
   ]
  },
  {
   "cell_type": "code",
   "execution_count": 61,
   "metadata": {},
   "outputs": [
    {
     "name": "stdout",
     "output_type": "stream",
     "text": [
      "***SKLEARN METRICS***\n",
      "ROC_AUC Score: 0.970867\n",
      "sklearn accuracy score value: 0.9785822127032057\n",
      "sklearn recall score value: 0.8661971830985915\n",
      "sklearn precision score value: 0.06359875904860393\n",
      "sklearn F1 score value: 0.1184971098265896\n"
     ]
    }
   ],
   "source": [
    "# make predictions\n",
    "pred_test = logistic_hpt.predict(X_test)\n",
    "pred_proba_test=logistic_hpt.predict_proba(X_test)[:,1]\n",
    "#Let's check the model metrices.\n",
    "getModelMetrics(y_test,pred_test,pred_proba_test)"
   ]
  },
  {
   "cell_type": "markdown",
   "metadata": {},
   "source": [
    "### Similarly explore other algorithms by building models like:\n",
    "- Decision Tree\n",
    "- Random Forest\n",
    "- XGBoost"
   ]
  },
  {
   "cell_type": "markdown",
   "metadata": {},
   "source": [
    "### Decision tree- Imbalanced"
   ]
  },
  {
   "cell_type": "code",
   "execution_count": 62,
   "metadata": {},
   "outputs": [
    {
     "name": "stdout",
     "output_type": "stream",
     "text": [
      "\n",
      "Model Report\n",
      "AUC Score (Train): 0.995071\n",
      "Accuracy : 0.9818\n",
      "Recall/Sensitivity : 0.9686\n",
      "Precision: 0.08563\n"
     ]
    }
   ],
   "source": [
    "dt0 = DecisionTreeClassifier(class_weight='balanced',\n",
    "                             max_features='auto',\n",
    "                             min_samples_split=100,\n",
    "                             min_samples_leaf=100,\n",
    "                             max_depth=10,\n",
    "                             random_state=10)\n",
    "modelfit(dt0, X_train, y_train)"
   ]
  },
  {
   "cell_type": "code",
   "execution_count": 63,
   "metadata": {},
   "outputs": [
    {
     "name": "stdout",
     "output_type": "stream",
     "text": [
      "***SKLEARN METRICS***\n",
      "ROC_AUC Score: 0.889855\n",
      "sklearn accuracy score value: 0.9801622134054282\n",
      "sklearn recall score value: 0.8028169014084507\n",
      "sklearn precision score value: 0.06400898371701291\n",
      "sklearn F1 score value: 0.11856474258970358\n"
     ]
    }
   ],
   "source": [
    "# make predictions\n",
    "pred_probs_test = dt0.predict(X_test)\n",
    "pred_proba=dt0.predict_proba(X_test)[:,1]\n",
    "#Let's check the model metrices.\n",
    "getModelMetrics(y_test,pred_probs_test,pred_proba)"
   ]
  },
  {
   "cell_type": "markdown",
   "metadata": {},
   "source": [
    "### StratifiedKfold Cross Validation"
   ]
  },
  {
   "cell_type": "code",
   "execution_count": 64,
   "metadata": {},
   "outputs": [
    {
     "name": "stdout",
     "output_type": "stream",
     "text": [
      "auc_score: 0.90199\n"
     ]
    }
   ],
   "source": [
    "cv = StratifiedKFold(n_splits=5,shuffle=True,random_state=42)\n",
    "scores = cross_val_score(dt0,X_train, y_train, scoring='roc_auc', cv=cv, n_jobs=-1)\n",
    "score = np.mean(scores)\n",
    "print('auc_score: %.5f' % score)\n"
   ]
  },
  {
   "cell_type": "code",
   "execution_count": 65,
   "metadata": {},
   "outputs": [
    {
     "name": "stdout",
     "output_type": "stream",
     "text": [
      "1 of KFold 5\n",
      "ROC AUC score: 0.9232590149342657\n",
      "2 of KFold 5\n",
      "ROC AUC score: 0.8770227298014148\n",
      "3 of KFold 5\n",
      "ROC AUC score: 0.8874458493796231\n",
      "4 of KFold 5\n",
      "ROC AUC score: 0.9310028676948258\n",
      "5 of KFold 5\n",
      "ROC AUC score: 0.8912062925768267\n",
      "\n",
      "mean_auc_score: 0.90199\n"
     ]
    }
   ],
   "source": [
    "skf = StratifiedKFold(n_splits=5,shuffle=True,random_state=42)\n",
    "pred_test_full =0\n",
    "cv_score =[]\n",
    "i=1\n",
    "for train_index,test_index in skf.split(X_train,y_train):\n",
    "    print('{} of KFold {}'.format(i,skf.n_splits))\n",
    "    X_train_cv,X_test_cv = X_train.iloc[train_index],X_train.iloc[test_index]\n",
    "    y_train_cv,y_test_cv = y_train.iloc[train_index],y_train.iloc[test_index]\n",
    "    \n",
    "    #model\n",
    "\n",
    "    dt0.fit(X_train_cv,y_train_cv)\n",
    "    score = metrics.roc_auc_score(y_test_cv,dt0.predict_proba(X_test_cv)[:,1])\n",
    "    print('ROC AUC score:',score)\n",
    "    cv_score.append(score)    \n",
    "    pred_test = dt0.predict_proba(X_test)[:,1]\n",
    "    pred_test_full +=pred_test\n",
    "    i+=1\n",
    "    \n",
    "print('\\nmean_auc_score: %.5f' % np.mean(cv_score))"
   ]
  },
  {
   "cell_type": "markdown",
   "metadata": {},
   "source": [
    "### Predicting on test data"
   ]
  },
  {
   "cell_type": "code",
   "execution_count": 66,
   "metadata": {},
   "outputs": [],
   "source": [
    "pred_probs = pred_test_full/5\n",
    "y_df= pd.DataFrame({'fraud':y_test, 'fraud_Prob':pred_probs})\n",
    "# Creating new column 'predicted' with 1 if fraud_Prob>0.1 else 0\n",
    "y_df['final_predicted'] = y_df.fraud_Prob.map( lambda x: 1 if x > 0.1 else 0)"
   ]
  },
  {
   "cell_type": "markdown",
   "metadata": {},
   "source": [
    "### Evaluation Metrices"
   ]
  },
  {
   "cell_type": "code",
   "execution_count": 67,
   "metadata": {},
   "outputs": [
    {
     "name": "stdout",
     "output_type": "stream",
     "text": [
      "***SKLEARN METRICS***\n",
      "ROC_AUC Score: 0.932097\n",
      "sklearn accuracy score value: 0.9132287021757195\n",
      "sklearn recall score value: 0.8732394366197183\n",
      "sklearn precision score value: 0.01648936170212766\n",
      "sklearn F1 score value: 0.0323675280605586\n"
     ]
    }
   ],
   "source": [
    "# Let's see the head\n",
    "getModelMetrics(y_df.fraud,y_df.final_predicted,y_df.fraud_Prob)"
   ]
  },
  {
   "cell_type": "markdown",
   "metadata": {},
   "source": [
    "### Hyper parameter Tuning"
   ]
  },
  {
   "cell_type": "code",
   "execution_count": 68,
   "metadata": {},
   "outputs": [],
   "source": [
    "# Create the parameter grid based on the results of random search \n",
    "param_grid = {\n",
    "    'max_depth': range(5,15,3),\n",
    "    'min_samples_leaf': range(10, 200, 20),\n",
    "    'min_samples_split': range(50, 200, 20),\n",
    "    'max_features': [8,10,12,15]\n",
    "}\n",
    "# Create a based model\n",
    "dt = DecisionTreeClassifier(class_weight='balanced',random_state=10)\n",
    "# Instantiate the grid search model\n",
    "grid_search = RandomizedSearchCV(estimator = dt, param_distributions = param_grid, \n",
    "                          cv = 3, n_jobs = -1,verbose = 1,scoring=\"roc_auc\")"
   ]
  },
  {
   "cell_type": "code",
   "execution_count": 69,
   "metadata": {},
   "outputs": [
    {
     "name": "stdout",
     "output_type": "stream",
     "text": [
      "Fitting 3 folds for each of 10 candidates, totalling 30 fits\n"
     ]
    },
    {
     "name": "stderr",
     "output_type": "stream",
     "text": [
      "[Parallel(n_jobs=-1)]: Using backend LokyBackend with 8 concurrent workers.\n",
      "[Parallel(n_jobs=-1)]: Done  30 out of  30 | elapsed:   16.5s finished\n"
     ]
    },
    {
     "data": {
      "text/plain": [
       "RandomizedSearchCV(cv=3, error_score='raise-deprecating',\n",
       "          estimator=DecisionTreeClassifier(class_weight='balanced', criterion='gini',\n",
       "            max_depth=None, max_features=None, max_leaf_nodes=None,\n",
       "            min_impurity_decrease=0.0, min_impurity_split=None,\n",
       "            min_samples_leaf=1, min_samples_split=2,\n",
       "            min_weight_fraction_leaf=0.0, presort=False, random_state=10,\n",
       "            splitter='best'),\n",
       "          fit_params=None, iid='warn', n_iter=10, n_jobs=-1,\n",
       "          param_distributions={'max_depth': range(5, 15, 3), 'min_samples_leaf': range(10, 200, 20), 'min_samples_split': range(50, 200, 20), 'max_features': [8, 10, 12, 15]},\n",
       "          pre_dispatch='2*n_jobs', random_state=None, refit=True,\n",
       "          return_train_score='warn', scoring='roc_auc', verbose=1)"
      ]
     },
     "execution_count": 69,
     "metadata": {},
     "output_type": "execute_result"
    }
   ],
   "source": [
    "# Fit the grid search to the data\n",
    "grid_search.fit(X_train, y_train)"
   ]
  },
  {
   "cell_type": "code",
   "execution_count": 70,
   "metadata": {},
   "outputs": [
    {
     "name": "stdout",
     "output_type": "stream",
     "text": [
      "We can get score of 0.924731785769231 using {'min_samples_split': 130, 'min_samples_leaf': 30, 'max_features': 12, 'max_depth': 5}\n"
     ]
    }
   ],
   "source": [
    "# printing the optimal accuracy score and hyperparameters\n",
    "print('We can get score of',grid_search.best_score_,'using',grid_search.best_params_)"
   ]
  },
  {
   "cell_type": "code",
   "execution_count": 71,
   "metadata": {},
   "outputs": [
    {
     "name": "stdout",
     "output_type": "stream",
     "text": [
      "5\n",
      "30\n",
      "130\n",
      "12\n"
     ]
    }
   ],
   "source": [
    "max_depth_best=grid_search.best_params_.get('max_depth')\n",
    "print(max_depth_best)\n",
    "min_samples_leaf_best=grid_search.best_params_.get('min_samples_leaf')\n",
    "print(min_samples_leaf_best)\n",
    "min_samples_split_best=grid_search.best_params_.get('min_samples_split')\n",
    "print(min_samples_split_best)\n",
    "max_features_best=grid_search.best_params_.get('max_features')\n",
    "print(max_features_best)"
   ]
  },
  {
   "cell_type": "markdown",
   "metadata": {},
   "source": [
    "#### Hypertuned Model"
   ]
  },
  {
   "cell_type": "code",
   "execution_count": 72,
   "metadata": {},
   "outputs": [],
   "source": [
    "### MODEL FIT with optimal hyper parameters\n",
    "\n",
    "# model with the best hyperparameters\n",
    "dt_hpt = DecisionTreeClassifier(class_weight='balanced',\n",
    "                             max_depth=max_depth_best,\n",
    "                             min_samples_leaf=min_samples_leaf_best, \n",
    "                             min_samples_split=min_samples_split_best,\n",
    "                             max_features=max_features_best,\n",
    "                             random_state=10)"
   ]
  },
  {
   "cell_type": "code",
   "execution_count": 73,
   "metadata": {},
   "outputs": [
    {
     "data": {
      "text/plain": [
       "DecisionTreeClassifier(class_weight='balanced', criterion='gini', max_depth=5,\n",
       "            max_features=12, max_leaf_nodes=None,\n",
       "            min_impurity_decrease=0.0, min_impurity_split=None,\n",
       "            min_samples_leaf=30, min_samples_split=130,\n",
       "            min_weight_fraction_leaf=0.0, presort=False, random_state=10,\n",
       "            splitter='best')"
      ]
     },
     "execution_count": 73,
     "metadata": {},
     "output_type": "execute_result"
    }
   ],
   "source": [
    "dt_hpt.fit(X_train,y_train)"
   ]
  },
  {
   "cell_type": "markdown",
   "metadata": {},
   "source": [
    "### TRAINING METRICES"
   ]
  },
  {
   "cell_type": "code",
   "execution_count": 74,
   "metadata": {},
   "outputs": [
    {
     "name": "stdout",
     "output_type": "stream",
     "text": [
      "***SKLEARN METRICS***\n",
      "ROC_AUC Score: 0.988075\n",
      "sklearn accuracy score value: 0.9756174635340382\n",
      "sklearn recall score value: 0.9628571428571429\n",
      "sklearn precision score value: 0.06499517839922854\n",
      "sklearn F1 score value: 0.12177055103884371\n"
     ]
    }
   ],
   "source": [
    "# make predictions\n",
    "pred_train = dt_hpt.predict(X_train)\n",
    "pred_proba_train=dt_hpt.predict_proba(X_train)[:,1]\n",
    "#Let's check the model metrices.\n",
    "getModelMetrics(y_train,pred_train,pred_proba_train)"
   ]
  },
  {
   "cell_type": "markdown",
   "metadata": {},
   "source": [
    "### TESTING METRICES"
   ]
  },
  {
   "cell_type": "code",
   "execution_count": 75,
   "metadata": {},
   "outputs": [
    {
     "name": "stdout",
     "output_type": "stream",
     "text": [
      "***SKLEARN METRICS***\n",
      "ROC_AUC Score: 0.888340\n",
      "sklearn accuracy score value: 0.9740411736479291\n",
      "sklearn recall score value: 0.8169014084507042\n",
      "sklearn precision score value: 0.05025996533795494\n",
      "sklearn F1 score value: 0.0946938775510204\n"
     ]
    }
   ],
   "source": [
    "# make predictions\n",
    "pred_test = dt_hpt.predict(X_test)\n",
    "pred_proba_test=dt_hpt.predict_proba(X_test)[:,1]\n",
    "#Let's check the model metrices.\n",
    "getModelMetrics(y_test,pred_test,pred_proba_test)"
   ]
  },
  {
   "cell_type": "markdown",
   "metadata": {},
   "source": [
    "### Random Forest - Imbalanced"
   ]
  },
  {
   "cell_type": "code",
   "execution_count": 76,
   "metadata": {
    "scrolled": true
   },
   "outputs": [
    {
     "name": "stdout",
     "output_type": "stream",
     "text": [
      "\n",
      "Model Report\n",
      "AUC Score (Train): 0.999708\n",
      "Accuracy : 0.999\n",
      "Recall/Sensitivity : 0.9743\n",
      "Precision: 0.6338\n"
     ]
    }
   ],
   "source": [
    "rf0=RandomForestClassifier(class_weight='balanced',\n",
    "                             max_depth=15,\n",
    "                             min_samples_leaf=100, \n",
    "                             min_samples_split=100,\n",
    "                             max_features='auto',\n",
    "                             random_state=10)\n",
    "modelfit(rf0, X_train, y_train)"
   ]
  },
  {
   "cell_type": "code",
   "execution_count": 77,
   "metadata": {},
   "outputs": [
    {
     "name": "stdout",
     "output_type": "stream",
     "text": [
      "***SKLEARN METRICS***\n",
      "ROC_AUC Score: 0.956880\n",
      "sklearn accuracy score value: 0.9982912584998186\n",
      "sklearn recall score value: 0.8028169014084507\n",
      "sklearn precision score value: 0.49137931034482757\n",
      "sklearn F1 score value: 0.6096256684491979\n"
     ]
    }
   ],
   "source": [
    "# make predictions\n",
    "pred_probs_test = rf0.predict(X_test)\n",
    "pred_proba=rf0.predict_proba(X_test)[:,1]\n",
    "#Let's check the model metrices.\n",
    "getModelMetrics(y_test,pred_probs_test,pred_proba)"
   ]
  },
  {
   "cell_type": "markdown",
   "metadata": {},
   "source": [
    "### StratifiedKFold Cross Validation"
   ]
  },
  {
   "cell_type": "code",
   "execution_count": 78,
   "metadata": {},
   "outputs": [
    {
     "name": "stdout",
     "output_type": "stream",
     "text": [
      "auc_score: 0.96806\n"
     ]
    }
   ],
   "source": [
    "cv = StratifiedKFold(n_splits=5,shuffle=True,random_state=42)\n",
    "scores = cross_val_score(rf0,X_train, y_train, scoring='roc_auc', cv=cv, n_jobs=-1)\n",
    "score = np.mean(scores)\n",
    "print('auc_score: %.5f' % score)\n"
   ]
  },
  {
   "cell_type": "code",
   "execution_count": 79,
   "metadata": {},
   "outputs": [
    {
     "name": "stdout",
     "output_type": "stream",
     "text": [
      "1 of KFold 5\n",
      "ROC AUC score: 0.9663119434644195\n",
      "2 of KFold 5\n",
      "ROC AUC score: 0.9784743432835287\n",
      "3 of KFold 5\n",
      "ROC AUC score: 0.9498008046773215\n",
      "4 of KFold 5\n",
      "ROC AUC score: 0.9655094196058444\n",
      "5 of KFold 5\n",
      "ROC AUC score: 0.9801826182460323\n",
      "\n",
      "mean_auc_score: 0.96806\n"
     ]
    }
   ],
   "source": [
    "skf = StratifiedKFold(n_splits=5,shuffle=True,random_state=42)\n",
    "pred_test_full =0\n",
    "cv_score =[]\n",
    "i=1\n",
    "for train_index,test_index in skf.split(X_train,y_train):\n",
    "    print('{} of KFold {}'.format(i,skf.n_splits))\n",
    "    X_train_cv,X_test_cv = X_train.iloc[train_index],X_train.iloc[test_index]\n",
    "    y_train_cv,y_test_cv = y_train.iloc[train_index],y_train.iloc[test_index]\n",
    "    #print(X_train_cv)\n",
    "    #print(X_test_cv)\n",
    "    #print(y_train_cv)\n",
    "    #print(y_test_cv)\n",
    "    #model\n",
    "    rf0.fit(X_train_cv,y_train_cv)\n",
    "    score = metrics.roc_auc_score(y_test_cv,rf0.predict_proba(X_test_cv)[:,1])\n",
    "    print('ROC AUC score:',score)\n",
    "    cv_score.append(score)    \n",
    "    pred_test = rf0.predict_proba(X_test)[:,1]\n",
    "    pred_test_full +=pred_test\n",
    "    i+=1\n",
    "    \n",
    "print('\\nmean_auc_score: %.5f' % np.mean(cv_score))   "
   ]
  },
  {
   "cell_type": "markdown",
   "metadata": {},
   "source": [
    "### Predicting on test data"
   ]
  },
  {
   "cell_type": "code",
   "execution_count": 80,
   "metadata": {},
   "outputs": [],
   "source": [
    "pred_probs = pred_test_full/5\n",
    "y_df= pd.DataFrame({'fraud':y_test, 'fraud_Prob':pred_probs})\n",
    "# Creating new column 'predicted' with 1 if fraud_Prob>0.1 else 0\n",
    "y_df['final_predicted'] = y_df.fraud_Prob.map( lambda x: 1 if x > 0.5 else 0)"
   ]
  },
  {
   "cell_type": "markdown",
   "metadata": {},
   "source": [
    "#### Evaluation Metrices"
   ]
  },
  {
   "cell_type": "code",
   "execution_count": 81,
   "metadata": {},
   "outputs": [
    {
     "name": "stdout",
     "output_type": "stream",
     "text": [
      "***SKLEARN METRICS***\n",
      "ROC_AUC Score: 0.970408\n",
      "sklearn accuracy score value: 0.9984551104244935\n",
      "sklearn recall score value: 0.8098591549295775\n",
      "sklearn precision score value: 0.5227272727272727\n",
      "sklearn F1 score value: 0.6353591160220995\n"
     ]
    }
   ],
   "source": [
    "# Let's see the metrices\n",
    "getModelMetrics(y_df.fraud,y_df.final_predicted,y_df.fraud_Prob)"
   ]
  },
  {
   "cell_type": "markdown",
   "metadata": {},
   "source": [
    "### Hyper parameter Tuning"
   ]
  },
  {
   "cell_type": "code",
   "execution_count": 82,
   "metadata": {},
   "outputs": [],
   "source": [
    "# Create the parameter grid based on the results of random search \n",
    "param_grid = {\n",
    "    'max_depth': range(5,15,3),\n",
    "    'min_samples_leaf': range(10, 100, 20),\n",
    "    'min_samples_split': range(50, 200, 50),\n",
    "    'max_features': [8,10,12,15]\n",
    "}\n",
    "# Create a based model\n",
    "rf = RandomForestClassifier(class_weight='balanced',random_state=10)\n",
    "# Instantiate the grid search model\n",
    "#grid_search = GridSearchCV(estimator = rf, param_grid = param_grid, \n",
    "                            #cv = 3, n_jobs = -1,verbose = 1,scoring=\"roc_auc\")\n",
    "grid_search = RandomizedSearchCV(estimator = rf, param_distributions = param_grid, \n",
    "                            cv = 3, n_jobs = -1,verbose = 1,scoring=\"roc_auc\")"
   ]
  },
  {
   "cell_type": "code",
   "execution_count": 83,
   "metadata": {},
   "outputs": [
    {
     "name": "stdout",
     "output_type": "stream",
     "text": [
      "Fitting 3 folds for each of 10 candidates, totalling 30 fits\n"
     ]
    },
    {
     "name": "stderr",
     "output_type": "stream",
     "text": [
      "[Parallel(n_jobs=-1)]: Using backend LokyBackend with 8 concurrent workers.\n",
      "[Parallel(n_jobs=-1)]: Done  30 out of  30 | elapsed:  1.2min finished\n"
     ]
    },
    {
     "data": {
      "text/plain": [
       "RandomizedSearchCV(cv=3, error_score='raise-deprecating',\n",
       "          estimator=RandomForestClassifier(bootstrap=True, class_weight='balanced',\n",
       "            criterion='gini', max_depth=None, max_features='auto',\n",
       "            max_leaf_nodes=None, min_impurity_decrease=0.0,\n",
       "            min_impurity_split=None, min_samples_leaf=1,\n",
       "            min_samples_split=2, min_weight_fraction_leaf=0.0,\n",
       "            n_estimators='warn', n_jobs=None, oob_score=False,\n",
       "            random_state=10, verbose=0, warm_start=False),\n",
       "          fit_params=None, iid='warn', n_iter=10, n_jobs=-1,\n",
       "          param_distributions={'max_depth': range(5, 15, 3), 'min_samples_leaf': range(10, 100, 20), 'min_samples_split': range(50, 200, 50), 'max_features': [8, 10, 12, 15]},\n",
       "          pre_dispatch='2*n_jobs', random_state=None, refit=True,\n",
       "          return_train_score='warn', scoring='roc_auc', verbose=1)"
      ]
     },
     "execution_count": 83,
     "metadata": {},
     "output_type": "execute_result"
    }
   ],
   "source": [
    "# Fit the grid search to the data\n",
    "grid_search.fit(X_train, y_train)"
   ]
  },
  {
   "cell_type": "code",
   "execution_count": 84,
   "metadata": {},
   "outputs": [
    {
     "name": "stdout",
     "output_type": "stream",
     "text": [
      "We can get recall of 0.9685409747986531 using {'min_samples_split': 150, 'min_samples_leaf': 70, 'max_features': 15, 'max_depth': 5}\n"
     ]
    }
   ],
   "source": [
    "# printing the optimal accuracy score and hyperparameters\n",
    "print('We can get recall of',grid_search.best_score_,'using',grid_search.best_params_)"
   ]
  },
  {
   "cell_type": "code",
   "execution_count": 85,
   "metadata": {},
   "outputs": [
    {
     "name": "stdout",
     "output_type": "stream",
     "text": [
      "5\n",
      "70\n",
      "150\n",
      "15\n"
     ]
    }
   ],
   "source": [
    "max_depth_best=grid_search.best_params_.get('max_depth')\n",
    "print(max_depth_best)\n",
    "min_samples_leaf_best=grid_search.best_params_.get('min_samples_leaf')\n",
    "print(min_samples_leaf_best)\n",
    "min_samples_split_best=grid_search.best_params_.get('min_samples_split')\n",
    "print(min_samples_split_best)\n",
    "max_features_best=grid_search.best_params_.get('max_features')\n",
    "print(max_features_best)"
   ]
  },
  {
   "cell_type": "code",
   "execution_count": 86,
   "metadata": {},
   "outputs": [],
   "source": [
    "# model with the best hyperparameters\n",
    "rf_hpt = RandomForestClassifier(class_weight='balanced',\n",
    "                             max_depth=max_depth_best,\n",
    "                             min_samples_leaf=min_samples_leaf_best, \n",
    "                             min_samples_split=min_samples_split_best,\n",
    "                             max_features=max_features_best,\n",
    "                             random_state=10)"
   ]
  },
  {
   "cell_type": "code",
   "execution_count": 87,
   "metadata": {},
   "outputs": [
    {
     "data": {
      "text/plain": [
       "RandomForestClassifier(bootstrap=True, class_weight='balanced',\n",
       "            criterion='gini', max_depth=5, max_features=15,\n",
       "            max_leaf_nodes=None, min_impurity_decrease=0.0,\n",
       "            min_impurity_split=None, min_samples_leaf=70,\n",
       "            min_samples_split=150, min_weight_fraction_leaf=0.0,\n",
       "            n_estimators=10, n_jobs=None, oob_score=False, random_state=10,\n",
       "            verbose=0, warm_start=False)"
      ]
     },
     "execution_count": 87,
     "metadata": {},
     "output_type": "execute_result"
    }
   ],
   "source": [
    "rf_hpt.fit(X_train,y_train)"
   ]
  },
  {
   "cell_type": "markdown",
   "metadata": {},
   "source": [
    "### TRAINING METRICES"
   ]
  },
  {
   "cell_type": "code",
   "execution_count": 88,
   "metadata": {},
   "outputs": [
    {
     "name": "stdout",
     "output_type": "stream",
     "text": [
      "***SKLEARN METRICS***\n",
      "ROC_AUC Score: 0.991187\n",
      "sklearn accuracy score value: 0.9976826307658354\n",
      "sklearn recall score value: 0.92\n",
      "sklearn precision score value: 0.42592592592592593\n",
      "sklearn F1 score value: 0.5822784810126582\n"
     ]
    }
   ],
   "source": [
    "# make predictions\n",
    "pred_train = rf_hpt.predict(X_train)\n",
    "pred_proba_train=rf_hpt.predict_proba(X_train)[:,1]\n",
    "#Let's check the model metrices.\n",
    "getModelMetrics(y_train,pred_train,pred_proba_train)"
   ]
  },
  {
   "cell_type": "markdown",
   "metadata": {},
   "source": [
    "### TESTING METRICES"
   ]
  },
  {
   "cell_type": "code",
   "execution_count": 89,
   "metadata": {},
   "outputs": [
    {
     "name": "stdout",
     "output_type": "stream",
     "text": [
      "***SKLEARN METRICS***\n",
      "ROC_AUC Score: 0.958211\n",
      "sklearn accuracy score value: 0.9971794061538102\n",
      "sklearn recall score value: 0.8098591549295775\n",
      "sklearn precision score value: 0.3495440729483283\n",
      "sklearn F1 score value: 0.4883227176220806\n"
     ]
    }
   ],
   "source": [
    "# make predictions\n",
    "pred_test = rf_hpt.predict(X_test)\n",
    "pred_proba_test=rf_hpt.predict_proba(X_test)[:,1]\n",
    "#Let's check the model metrices.\n",
    "getModelMetrics(y_test,pred_test,pred_proba_test)"
   ]
  },
  {
   "cell_type": "markdown",
   "metadata": {},
   "source": [
    "### XGBOOST -Imbalanced"
   ]
  },
  {
   "cell_type": "code",
   "execution_count": 90,
   "metadata": {},
   "outputs": [
    {
     "name": "stdout",
     "output_type": "stream",
     "text": [
      "\n",
      "Model Report\n",
      "AUC Score (Train): 0.938668\n",
      "Accuracy : 0.9995\n",
      "Recall/Sensitivity : 0.7371\n",
      "Precision: 0.9451\n"
     ]
    }
   ],
   "source": [
    "modelxgb = XGBClassifier(silent=False, \n",
    "                      scale_pos_weight=1,\n",
    "                      learning_rate=0.01,  \n",
    "                      colsample_bytree = 0.4,\n",
    "                      subsample = 0.8,\n",
    "                      objective='binary:logistic', \n",
    "                      n_estimators=100, \n",
    "                      min_child_weight=6,\n",
    "                      reg_alpha = 0.3,\n",
    "                      max_depth=6, \n",
    "                      gamma=.01)\n",
    "\n",
    "modelfit(modelxgb,X_train, y_train)"
   ]
  },
  {
   "cell_type": "code",
   "execution_count": 91,
   "metadata": {},
   "outputs": [
    {
     "name": "stdout",
     "output_type": "stream",
     "text": [
      "***SKLEARN METRICS***\n",
      "ROC_AUC Score: 0.920827\n",
      "sklearn accuracy score value: 0.9992158515033414\n",
      "sklearn recall score value: 0.6830985915492958\n",
      "sklearn precision score value: 0.8151260504201681\n",
      "sklearn F1 score value: 0.7432950191570882\n"
     ]
    }
   ],
   "source": [
    "# make predictions\n",
    "pred_probs_test = modelxgb.predict(X_test)\n",
    "pred_proba=modelxgb.predict_proba(X_test)[:,1]\n",
    "#Let's check the model metrices.\n",
    "getModelMetrics(y_test,pred_probs_test,pred_proba)"
   ]
  },
  {
   "cell_type": "markdown",
   "metadata": {},
   "source": [
    "### StratifiedKFold Cross Validation"
   ]
  },
  {
   "cell_type": "code",
   "execution_count": 92,
   "metadata": {},
   "outputs": [
    {
     "name": "stdout",
     "output_type": "stream",
     "text": [
      "mean auc_score: 0.93109\n"
     ]
    }
   ],
   "source": [
    "cv = StratifiedKFold(n_splits=5,shuffle=True,random_state=42)\n",
    "scores = cross_val_score(modelxgb,X_train, y_train, scoring='roc_auc', cv=cv, n_jobs=-1)\n",
    "score = np.mean(scores)\n",
    "print('mean auc_score: %.5f' % score)"
   ]
  },
  {
   "cell_type": "code",
   "execution_count": 93,
   "metadata": {},
   "outputs": [
    {
     "name": "stdout",
     "output_type": "stream",
     "text": [
      "1 of KFold 5\n",
      "ROC AUC score: 0.9411178626162421\n",
      "2 of KFold 5\n",
      "ROC AUC score: 0.9270238065328888\n",
      "3 of KFold 5\n",
      "ROC AUC score: 0.9044628725042262\n",
      "4 of KFold 5\n",
      "ROC AUC score: 0.9341835324688376\n",
      "5 of KFold 5\n",
      "ROC AUC score: 0.9486624864507884\n",
      "\n",
      "mean_auc_score: 0.93109\n"
     ]
    }
   ],
   "source": [
    "skf = StratifiedKFold(n_splits=5,shuffle=True,random_state=42)\n",
    "pred_test_full =0\n",
    "cv_score =[]\n",
    "i=1\n",
    "for train_index,test_index in skf.split(X_train,y_train):\n",
    "    print('{} of KFold {}'.format(i,skf.n_splits))\n",
    "    X_train_cv,X_test_cv = X_train.iloc[train_index],X_train.iloc[test_index]\n",
    "    y_train_cv,y_test_cv = y_train.iloc[train_index],y_train.iloc[test_index]\n",
    "    #model\n",
    "    modelxgb.fit(X_train_cv,y_train_cv)\n",
    "    score = metrics.roc_auc_score(y_test_cv,modelxgb.predict_proba(X_test_cv)[:,1])\n",
    "    print('ROC AUC score:',score)\n",
    "    cv_score.append(score)    \n",
    "    pred_test = modelxgb.predict_proba(X_test)[:,1]\n",
    "    pred_test_full +=pred_test\n",
    "    i+=1\n",
    "    \n",
    "print('\\nmean_auc_score: %.5f' % np.mean(cv_score))   "
   ]
  },
  {
   "cell_type": "markdown",
   "metadata": {},
   "source": [
    "### Predicting on test data"
   ]
  },
  {
   "cell_type": "code",
   "execution_count": 94,
   "metadata": {},
   "outputs": [],
   "source": [
    "pred_probs = pred_test_full/5\n",
    "y_df= pd.DataFrame({'fraud':y_test, 'fraud_Prob':pred_probs})\n",
    "# Creating new column 'predicted' with 1 if fraud_Prob>0.1 else 0\n",
    "y_df['final_predicted'] = y_df.fraud_Prob.map( lambda x: 1 if x > 0.1 else 0)"
   ]
  },
  {
   "cell_type": "markdown",
   "metadata": {},
   "source": [
    "### Evaluation Metrices"
   ]
  },
  {
   "cell_type": "code",
   "execution_count": 95,
   "metadata": {},
   "outputs": [
    {
     "name": "stdout",
     "output_type": "stream",
     "text": [
      "***SKLEARN METRICS***\n",
      "ROC_AUC Score: 0.912107\n",
      "sklearn accuracy score value: 0.001661926664559999\n",
      "sklearn recall score value: 1.0\n",
      "sklearn precision score value: 0.001661926664559999\n",
      "sklearn F1 score value: 0.0033183384938949576\n"
     ]
    }
   ],
   "source": [
    "# Let's see the head\n",
    "getModelMetrics(y_df.fraud,y_df.final_predicted,y_df.fraud_Prob)"
   ]
  },
  {
   "cell_type": "markdown",
   "metadata": {},
   "source": [
    "### HYper parameter Tuning"
   ]
  },
  {
   "cell_type": "code",
   "execution_count": 96,
   "metadata": {},
   "outputs": [],
   "source": [
    "# Create the parameter grid based on the results of random search \n",
    "param_grid = {\n",
    "    'learning_rate' : [0.05, 0.10, 0.15, 0.20, 0.25, 0.30 ] ,\n",
    "    'max_depth':range(3,15,2),\n",
    "     'min_child_weight':[1,4,6,8,10,12],\n",
    "     #'subsample' :[i/10.0 for i in range(6,10)],\n",
    "     #'reg_alpha':[0, 0.001, 0.005, 0.01, 0.05],\n",
    "     'gamma':[i/10.0 for i in range(1,5)]}\n",
    "     #'colsample_bytree' : [ 0.3, 0.4, 0.5 , 0.7 ]}\n",
    "# Create a based model\n",
    "model = XGBClassifier(silent=False, \n",
    "                      scale_pos_weight=1,\n",
    "                      learning_rate=0.01,  \n",
    "                      colsample_bytree = 0.4,\n",
    "                      subsample = 0.8,\n",
    "                      objective='binary:logistic', \n",
    "                      n_estimators=100, \n",
    "                      min_child_weight=6,\n",
    "                      reg_alpha = 0.3,\n",
    "                      max_depth=4, \n",
    "                      gamma=10)\n",
    "\n",
    "# Instantiate the grid search model\n",
    "grid_search = RandomizedSearchCV(estimator = model, param_distributions = param_grid, \n",
    "                            cv = 3, n_jobs = 4,verbose = 1,scoring=\"roc_auc\")"
   ]
  },
  {
   "cell_type": "code",
   "execution_count": 97,
   "metadata": {
    "scrolled": true
   },
   "outputs": [
    {
     "name": "stdout",
     "output_type": "stream",
     "text": [
      "Fitting 3 folds for each of 10 candidates, totalling 30 fits\n"
     ]
    },
    {
     "name": "stderr",
     "output_type": "stream",
     "text": [
      "[Parallel(n_jobs=4)]: Using backend LokyBackend with 4 concurrent workers.\n",
      "[Parallel(n_jobs=4)]: Done  30 out of  30 | elapsed:  2.5min finished\n"
     ]
    },
    {
     "data": {
      "text/plain": [
       "RandomizedSearchCV(cv=3, error_score='raise-deprecating',\n",
       "          estimator=XGBClassifier(base_score=0.5, booster='gbtree', colsample_bylevel=1,\n",
       "       colsample_bynode=1, colsample_bytree=0.4, gamma=10,\n",
       "       learning_rate=0.01, max_delta_step=0, max_depth=4,\n",
       "       min_child_weight=6, missing=None, n_estimators=100, n_jobs=1,\n",
       "       nthread=None, objective='binary:logistic', random_state=0,\n",
       "       reg_alpha=0.3, reg_lambda=1, scale_pos_weight=1, seed=None,\n",
       "       silent=False, subsample=0.8, verbosity=1),\n",
       "          fit_params=None, iid='warn', n_iter=10, n_jobs=4,\n",
       "          param_distributions={'learning_rate': [0.05, 0.1, 0.15, 0.2, 0.25, 0.3], 'max_depth': range(3, 15, 2), 'min_child_weight': [1, 4, 6, 8, 10, 12], 'gamma': [0.1, 0.2, 0.3, 0.4]},\n",
       "          pre_dispatch='2*n_jobs', random_state=None, refit=True,\n",
       "          return_train_score='warn', scoring='roc_auc', verbose=1)"
      ]
     },
     "execution_count": 97,
     "metadata": {},
     "output_type": "execute_result"
    }
   ],
   "source": [
    "# Fit the grid search to the data\n",
    "grid_search.fit(X_train, y_train)"
   ]
  },
  {
   "cell_type": "code",
   "execution_count": 98,
   "metadata": {},
   "outputs": [
    {
     "name": "stdout",
     "output_type": "stream",
     "text": [
      "We can get score of 0.9796753700553681 using {'min_child_weight': 4, 'max_depth': 5, 'learning_rate': 0.1, 'gamma': 0.3}\n"
     ]
    }
   ],
   "source": [
    "# printing the optimal accuracy score and hyperparameters\n",
    "print('We can get score of',grid_search.best_score_,'using',grid_search.best_params_)"
   ]
  },
  {
   "cell_type": "code",
   "execution_count": 99,
   "metadata": {},
   "outputs": [],
   "source": [
    "learning_rate_best=grid_search.best_params_.get('learning_rate')\n",
    "max_depth_best=grid_search.best_params_.get('max_depth')\n",
    "min_child_weight_best=grid_search.best_params_.get('min_child_weight')\n",
    "#subsample_best=grid_search.best_params_.get('subsample')\n",
    "#reg_alpha_best=grid_search.best_params_.get('reg_alpha')\n",
    "gamma_best=grid_search.best_params_.get('gamma')\n",
    "#colsample_bytree_best=grid_search.best_params_.get('colsample_bytree')\n",
    "\n"
   ]
  },
  {
   "cell_type": "code",
   "execution_count": 100,
   "metadata": {},
   "outputs": [],
   "source": [
    "model_xgb_hpt = XGBClassifier(silent=False, \n",
    "                      scale_pos_weight=1,\n",
    "                     learning_rate=learning_rate_best,  \n",
    "                     colsample_bytree = 0.4,\n",
    "                      subsample = 0.8,\n",
    "                      objective='binary:logistic', \n",
    "                      n_estimators=200, \n",
    "                      min_child_weight=min_child_weight_best,\n",
    "                      reg_alpha = 0.3,\n",
    "                      max_depth=max_depth_best, \n",
    "                      gamma=gamma_best)\n"
   ]
  },
  {
   "cell_type": "code",
   "execution_count": 101,
   "metadata": {},
   "outputs": [
    {
     "data": {
      "text/plain": [
       "XGBClassifier(base_score=0.5, booster='gbtree', colsample_bylevel=1,\n",
       "       colsample_bynode=1, colsample_bytree=0.4, gamma=0.3,\n",
       "       learning_rate=0.1, max_delta_step=0, max_depth=5,\n",
       "       min_child_weight=4, missing=None, n_estimators=200, n_jobs=1,\n",
       "       nthread=None, objective='binary:logistic', random_state=0,\n",
       "       reg_alpha=0.3, reg_lambda=1, scale_pos_weight=1, seed=None,\n",
       "       silent=False, subsample=0.8, verbosity=1)"
      ]
     },
     "execution_count": 101,
     "metadata": {},
     "output_type": "execute_result"
    }
   ],
   "source": [
    "model_xgb_hpt.fit(X_train,y_train)"
   ]
  },
  {
   "cell_type": "markdown",
   "metadata": {},
   "source": [
    "### TRAINING METRICES"
   ]
  },
  {
   "cell_type": "code",
   "execution_count": 102,
   "metadata": {},
   "outputs": [
    {
     "name": "stdout",
     "output_type": "stream",
     "text": [
      "***SKLEARN METRICS***\n",
      "ROC_AUC Score: 0.999967\n",
      "sklearn accuracy score value: 0.9998144098232379\n",
      "sklearn recall score value: 0.8971428571428571\n",
      "sklearn precision score value: 0.9968253968253968\n",
      "sklearn F1 score value: 0.944360902255639\n"
     ]
    }
   ],
   "source": [
    "# make predictions\n",
    "pred_train = model_xgb_hpt.predict(X_train)\n",
    "pred_proba_train=model_xgb_hpt.predict_proba(X_train)[:,1]\n",
    "#Let's check the model metrices.\n",
    "getModelMetrics(y_train,pred_train,pred_proba_train)"
   ]
  },
  {
   "cell_type": "markdown",
   "metadata": {},
   "source": [
    "### TESTING METRICES"
   ]
  },
  {
   "cell_type": "code",
   "execution_count": 103,
   "metadata": {},
   "outputs": [
    {
     "name": "stdout",
     "output_type": "stream",
     "text": [
      "***SKLEARN METRICS***\n",
      "ROC_AUC Score: 0.982383\n",
      "sklearn accuracy score value: 0.9994967405170698\n",
      "sklearn recall score value: 0.7605633802816901\n",
      "sklearn precision score value: 0.9230769230769231\n",
      "sklearn F1 score value: 0.833976833976834\n"
     ]
    }
   ],
   "source": [
    "# make predictions\n",
    "pred_test = model_xgb_hpt.predict(X_test)\n",
    "pred_proba_test=model_xgb_hpt.predict_proba(X_test)[:,1]\n",
    "#Let's check the model metrices.\n",
    "getModelMetrics(y_test,pred_test,pred_proba_test)"
   ]
  },
  {
   "cell_type": "markdown",
   "metadata": {},
   "source": [
    "## BEST MODEL ON IMBALANCED DATA"
   ]
  },
  {
   "cell_type": "markdown",
   "metadata": {},
   "source": [
    "#### Proceed with the model which shows the best result \n",
    "- Apply the best hyperparameter on the model\n",
    "- Predict on the test dataset"
   ]
  },
  {
   "cell_type": "raw",
   "metadata": {},
   "source": [
    "            mean_AUC_SCORE   Imbalanced\t\n",
    "                               TRAIN\tTEST\n",
    "Logistic Regression\t          0.98315   0.966977\n",
    "Decision Tree\t              0.90199   0.932097\n",
    "Random Forest\t              0.96806   0.970408\n",
    "XGBoost\t                      0.98367   0.978213\n",
    "Logistic Regression-HPTuned\t  0.98972   0.970867\n",
    "Decision Tree -HPTuned\t      0.998178\t0.920721\n",
    "Random Forest-HPTuned\t      0.999398\t0.978536\n",
    "XGBoost-HPTuned\t              0.9999\t0.98548\n"
   ]
  },
  {
   "cell_type": "markdown",
   "metadata": {},
   "source": [
    "#### XGBOOST- HYPER PARAMETER TUNED gives the best results for Imbalanced data"
   ]
  },
  {
   "cell_type": "code",
   "execution_count": 104,
   "metadata": {},
   "outputs": [
    {
     "data": {
      "text/plain": [
       "XGBClassifier(base_score=0.5, booster='gbtree', colsample_bylevel=1,\n",
       "       colsample_bynode=1, colsample_bytree=0.4, gamma=0.3,\n",
       "       learning_rate=0.1, max_delta_step=0, max_depth=5,\n",
       "       min_child_weight=4, missing=None, n_estimators=200, n_jobs=1,\n",
       "       nthread=None, objective='binary:logistic', random_state=0,\n",
       "       reg_alpha=0.3, reg_lambda=1, scale_pos_weight=1, seed=None,\n",
       "       silent=False, subsample=0.8, verbosity=1)"
      ]
     },
     "execution_count": 104,
     "metadata": {},
     "output_type": "execute_result"
    }
   ],
   "source": [
    "clf = model_xgb_hpt  #initialise the model with optimum hyperparameters\n",
    "clf.fit(X_train, y_train)\n",
    "#print --> #print the evaluation score on the X_test by choosing the best evaluation metric"
   ]
  },
  {
   "cell_type": "markdown",
   "metadata": {},
   "source": [
    "### TRAINING METRICES"
   ]
  },
  {
   "cell_type": "code",
   "execution_count": 105,
   "metadata": {},
   "outputs": [
    {
     "name": "stdout",
     "output_type": "stream",
     "text": [
      "***SKLEARN METRICS***\n",
      "ROC_AUC Score: 0.999967\n",
      "sklearn accuracy score value: 0.9998144098232379\n",
      "sklearn recall score value: 0.8971428571428571\n",
      "sklearn precision score value: 0.9968253968253968\n",
      "sklearn F1 score value: 0.944360902255639\n"
     ]
    }
   ],
   "source": [
    "# make predictions\n",
    "pred_train = clf.predict(X_train)\n",
    "pred_proba_train=clf.predict_proba(X_train)[:,1]\n",
    "#Let's check the model metrices.\n",
    "getModelMetrics(y_train,pred_train,pred_proba_train)"
   ]
  },
  {
   "cell_type": "markdown",
   "metadata": {},
   "source": [
    "### TESTING METRICES"
   ]
  },
  {
   "cell_type": "code",
   "execution_count": 106,
   "metadata": {},
   "outputs": [
    {
     "name": "stdout",
     "output_type": "stream",
     "text": [
      "***SKLEARN METRICS***\n",
      "ROC_AUC Score: 0.982383\n",
      "sklearn accuracy score value: 0.9994967405170698\n",
      "sklearn recall score value: 0.7605633802816901\n",
      "sklearn precision score value: 0.9230769230769231\n",
      "sklearn F1 score value: 0.833976833976834\n"
     ]
    }
   ],
   "source": [
    "# make predictions\n",
    "pred_test = clf.predict(X_test)\n",
    "pred_proba_test=clf.predict_proba(X_test)[:,1]\n",
    "#Let's check the model metrices.\n",
    "getModelMetrics(y_test,pred_test,pred_proba_test)"
   ]
  },
  {
   "cell_type": "markdown",
   "metadata": {},
   "source": [
    "### Print the important features of the best model to understand the dataset\n",
    "- This will not give much explanation on the already transformed dataset\n",
    "- But it will help us in understanding if the dataset is not PCA transformed"
   ]
  },
  {
   "cell_type": "code",
   "execution_count": 107,
   "metadata": {},
   "outputs": [
    {
     "name": "stdout",
     "output_type": "stream",
     "text": [
      "Top var = 17\n",
      "2nd Top var = 14\n",
      "3rd Top var = 16\n"
     ]
    },
    {
     "data": {
      "text/plain": [
       "<matplotlib.legend.Legend at 0x2bbdd31bf60>"
      ]
     },
     "execution_count": 107,
     "metadata": {},
     "output_type": "execute_result"
    },
    {
     "data": {
      "image/png": "[encoded data removed]",
      "text/plain": [
       "<Figure size 1440x1440 with 1 Axes>"
      ]
     },
     "metadata": {
      "needs_background": "light"
     },
     "output_type": "display_data"
    }
   ],
   "source": [
    "var_imp = []\n",
    "for i in clf.feature_importances_:\n",
    "    var_imp.append(i)\n",
    "print('Top var =', var_imp.index(np.sort(clf.feature_importances_)[-1])+1)\n",
    "print('2nd Top var =', var_imp.index(np.sort(clf.feature_importances_)[-2])+1)\n",
    "print('3rd Top var =', var_imp.index(np.sort(clf.feature_importances_)[-3])+1)\n",
    "\n",
    "# Variable on Index-16 and Index-13 seems to be the top 2 variables\n",
    "top_var_index = var_imp.index(np.sort(clf.feature_importances_)[-1])\n",
    "second_top_var_index = var_imp.index(np.sort(clf.feature_importances_)[-2])\n",
    "\n",
    "X_train_1 = X_train.to_numpy()[np.where(y_train==1.0)]\n",
    "X_train_0 = X_train.to_numpy()[np.where(y_train==0.0)]\n",
    "\n",
    "np.random.shuffle(X_train_0)\n",
    "\n",
    "import matplotlib.pyplot as plt\n",
    "%matplotlib inline\n",
    "plt.rcParams['figure.figsize'] = [20, 20]\n",
    "\n",
    "plt.scatter(X_train_1[:, top_var_index], X_train_1[:, second_top_var_index], label='Actual Class-1 Examples')\n",
    "plt.scatter(X_train_0[:X_train_1.shape[0], top_var_index], X_train_0[:X_train_1.shape[0], second_top_var_index],\n",
    "            label='Actual Class-0 Examples')\n",
    "plt.legend()"
   ]
  },
  {
   "cell_type": "markdown",
   "metadata": {},
   "source": [
    "### DRAW ROC CURVE with best model"
   ]
  },
  {
   "cell_type": "markdown",
   "metadata": {},
   "source": [
    "#### Print the FPR,TPR & select the best threshold from the roc curve"
   ]
  },
  {
   "cell_type": "code",
   "execution_count": 108,
   "metadata": {},
   "outputs": [
    {
     "name": "stdout",
     "output_type": "stream",
     "text": [
      "Train auc = 0.9999670231383577\n",
      "0.020791147\n"
     ]
    }
   ],
   "source": [
    "print('Train auc =', metrics.roc_auc_score(y_train,clf.predict_proba(X_train)[:,1]))\n",
    "fpr, tpr, thresholds = metrics.roc_curve(y_train,clf.predict_proba(X_train)[:,1])\n",
    "best_threshold = thresholds[np.argmax(tpr-fpr)]\n",
    "print(best_threshold)"
   ]
  },
  {
   "cell_type": "code",
   "execution_count": 109,
   "metadata": {},
   "outputs": [
    {
     "name": "stdout",
     "output_type": "stream",
     "text": [
      "***SKLEARN METRICS***\n",
      "ROC_AUC Score: 0.999967\n",
      "sklearn accuracy score value: 0.9990620172147429\n",
      "sklearn recall score value: 0.9942857142857143\n",
      "sklearn precision score value: 0.6529080675422139\n",
      "sklearn F1 score value: 0.7882219705549264\n"
     ]
    },
    {
     "data": {
      "text/html": [
       "<div>\n",
       "<style scoped>\n",
       "    .dataframe tbody tr th:only-of-type {\n",
       "        vertical-align: middle;\n",
       "    }\n",
       "\n",
       "    .dataframe tbody tr th {\n",
       "        vertical-align: top;\n",
       "    }\n",
       "\n",
       "    .dataframe thead th {\n",
       "        text-align: right;\n",
       "    }\n",
       "</style>\n",
       "<table border=\"1\" class=\"dataframe\">\n",
       "  <thead>\n",
       "    <tr style=\"text-align: right;\">\n",
       "      <th></th>\n",
       "      <th>fraud</th>\n",
       "      <th>fraud_Prob</th>\n",
       "      <th>final_predicted</th>\n",
       "    </tr>\n",
       "  </thead>\n",
       "  <tbody>\n",
       "    <tr>\n",
       "      <th>7610</th>\n",
       "      <td>0</td>\n",
       "      <td>0.000192</td>\n",
       "      <td>0</td>\n",
       "    </tr>\n",
       "    <tr>\n",
       "      <th>190214</th>\n",
       "      <td>0</td>\n",
       "      <td>0.000025</td>\n",
       "      <td>0</td>\n",
       "    </tr>\n",
       "    <tr>\n",
       "      <th>130590</th>\n",
       "      <td>0</td>\n",
       "      <td>0.000010</td>\n",
       "      <td>0</td>\n",
       "    </tr>\n",
       "    <tr>\n",
       "      <th>247916</th>\n",
       "      <td>0</td>\n",
       "      <td>0.000058</td>\n",
       "      <td>0</td>\n",
       "    </tr>\n",
       "    <tr>\n",
       "      <th>55518</th>\n",
       "      <td>0</td>\n",
       "      <td>0.000015</td>\n",
       "      <td>0</td>\n",
       "    </tr>\n",
       "  </tbody>\n",
       "</table>\n",
       "</div>"
      ],
      "text/plain": [
       "        fraud  fraud_Prob  final_predicted\n",
       "7610        0    0.000192                0\n",
       "190214      0    0.000025                0\n",
       "130590      0    0.000010                0\n",
       "247916      0    0.000058                0\n",
       "55518       0    0.000015                0"
      ]
     },
     "execution_count": 109,
     "metadata": {},
     "output_type": "execute_result"
    }
   ],
   "source": [
    "# predicting fraud with default cut-off 0.5\n",
    "cut_off_prob = best_threshold\n",
    "y_train_df = predictFraudWithProb(clf,X_train,y_train,cut_off_prob)\n",
    "y_train_df.head()"
   ]
  },
  {
   "cell_type": "code",
   "execution_count": 110,
   "metadata": {},
   "outputs": [
    {
     "name": "stdout",
     "output_type": "stream",
     "text": [
      "     prob  accuracy     sensi     speci\n",
      "0.0   0.0  0.001756  1.000000  0.000000\n",
      "0.1   0.1  0.999799  0.960000  0.999869\n",
      "0.2   0.2  0.999829  0.934286  0.999945\n",
      "0.3   0.3  0.999839  0.925714  0.999970\n",
      "0.4   0.4  0.999845  0.920000  0.999985\n",
      "0.5   0.5  0.999814  0.897143  0.999995\n",
      "0.6   0.6  0.999779  0.874286  1.000000\n",
      "0.7   0.7  0.999749  0.857143  1.000000\n",
      "0.8   0.8  0.999704  0.831429  1.000000\n",
      "0.9   0.9  0.999629  0.788571  1.000000\n"
     ]
    },
    {
     "data": {
      "image/png": "[encoded data removed]",
      "text/plain": [
       "<Figure size 1440x1440 with 1 Axes>"
      ]
     },
     "metadata": {
      "needs_background": "light"
     },
     "output_type": "display_data"
    }
   ],
   "source": [
    "# finding cut-off with the right balance of the metrices\n",
    "findOptimalCutoff(y_train_df)"
   ]
  },
  {
   "cell_type": "code",
   "execution_count": 111,
   "metadata": {},
   "outputs": [
    {
     "name": "stdout",
     "output_type": "stream",
     "text": [
      "***SKLEARN METRICS***\n",
      "ROC_AUC Score: 0.999967\n",
      "sklearn accuracy score value: 0.9990620172147429\n",
      "sklearn recall score value: 0.9942857142857143\n",
      "sklearn precision score value: 0.6529080675422139\n",
      "sklearn F1 score value: 0.7882219705549264\n"
     ]
    },
    {
     "data": {
      "text/html": [
       "<div>\n",
       "<style scoped>\n",
       "    .dataframe tbody tr th:only-of-type {\n",
       "        vertical-align: middle;\n",
       "    }\n",
       "\n",
       "    .dataframe tbody tr th {\n",
       "        vertical-align: top;\n",
       "    }\n",
       "\n",
       "    .dataframe thead th {\n",
       "        text-align: right;\n",
       "    }\n",
       "</style>\n",
       "<table border=\"1\" class=\"dataframe\">\n",
       "  <thead>\n",
       "    <tr style=\"text-align: right;\">\n",
       "      <th></th>\n",
       "      <th>fraud</th>\n",
       "      <th>fraud_Prob</th>\n",
       "      <th>final_predicted</th>\n",
       "    </tr>\n",
       "  </thead>\n",
       "  <tbody>\n",
       "    <tr>\n",
       "      <th>7610</th>\n",
       "      <td>0</td>\n",
       "      <td>0.000192</td>\n",
       "      <td>0</td>\n",
       "    </tr>\n",
       "    <tr>\n",
       "      <th>190214</th>\n",
       "      <td>0</td>\n",
       "      <td>0.000025</td>\n",
       "      <td>0</td>\n",
       "    </tr>\n",
       "    <tr>\n",
       "      <th>130590</th>\n",
       "      <td>0</td>\n",
       "      <td>0.000010</td>\n",
       "      <td>0</td>\n",
       "    </tr>\n",
       "    <tr>\n",
       "      <th>247916</th>\n",
       "      <td>0</td>\n",
       "      <td>0.000058</td>\n",
       "      <td>0</td>\n",
       "    </tr>\n",
       "    <tr>\n",
       "      <th>55518</th>\n",
       "      <td>0</td>\n",
       "      <td>0.000015</td>\n",
       "      <td>0</td>\n",
       "    </tr>\n",
       "  </tbody>\n",
       "</table>\n",
       "</div>"
      ],
      "text/plain": [
       "        fraud  fraud_Prob  final_predicted\n",
       "7610        0    0.000192                0\n",
       "190214      0    0.000025                0\n",
       "130590      0    0.000010                0\n",
       "247916      0    0.000058                0\n",
       "55518       0    0.000015                0"
      ]
     },
     "execution_count": 111,
     "metadata": {},
     "output_type": "execute_result"
    }
   ],
   "source": [
    "# predicting fraud with default cut-off 0.5\n",
    "cut_off_prob = best_threshold\n",
    "y_train_df = predictFraudWithProb(clf,X_train,y_train,cut_off_prob)\n",
    "y_train_df.head()"
   ]
  },
  {
   "cell_type": "code",
   "execution_count": 112,
   "metadata": {},
   "outputs": [
    {
     "name": "stdout",
     "output_type": "stream",
     "text": [
      "***SKLEARN METRICS***\n",
      "ROC_AUC Score: 0.982383\n",
      "sklearn accuracy score value: 0.9986072586402631\n",
      "sklearn recall score value: 0.8380281690140845\n",
      "sklearn precision score value: 0.5534883720930233\n",
      "sklearn F1 score value: 0.6666666666666667\n"
     ]
    },
    {
     "data": {
      "text/html": [
       "<div>\n",
       "<style scoped>\n",
       "    .dataframe tbody tr th:only-of-type {\n",
       "        vertical-align: middle;\n",
       "    }\n",
       "\n",
       "    .dataframe tbody tr th {\n",
       "        vertical-align: top;\n",
       "    }\n",
       "\n",
       "    .dataframe thead th {\n",
       "        text-align: right;\n",
       "    }\n",
       "</style>\n",
       "<table border=\"1\" class=\"dataframe\">\n",
       "  <thead>\n",
       "    <tr style=\"text-align: right;\">\n",
       "      <th></th>\n",
       "      <th>fraud</th>\n",
       "      <th>fraud_Prob</th>\n",
       "      <th>final_predicted</th>\n",
       "    </tr>\n",
       "  </thead>\n",
       "  <tbody>\n",
       "    <tr>\n",
       "      <th>49089</th>\n",
       "      <td>0</td>\n",
       "      <td>0.000056</td>\n",
       "      <td>0</td>\n",
       "    </tr>\n",
       "    <tr>\n",
       "      <th>154704</th>\n",
       "      <td>0</td>\n",
       "      <td>0.000040</td>\n",
       "      <td>0</td>\n",
       "    </tr>\n",
       "    <tr>\n",
       "      <th>67247</th>\n",
       "      <td>0</td>\n",
       "      <td>0.000024</td>\n",
       "      <td>0</td>\n",
       "    </tr>\n",
       "    <tr>\n",
       "      <th>251657</th>\n",
       "      <td>0</td>\n",
       "      <td>0.000020</td>\n",
       "      <td>0</td>\n",
       "    </tr>\n",
       "    <tr>\n",
       "      <th>201903</th>\n",
       "      <td>0</td>\n",
       "      <td>0.001589</td>\n",
       "      <td>0</td>\n",
       "    </tr>\n",
       "  </tbody>\n",
       "</table>\n",
       "</div>"
      ],
      "text/plain": [
       "        fraud  fraud_Prob  final_predicted\n",
       "49089       0    0.000056                0\n",
       "154704      0    0.000040                0\n",
       "67247       0    0.000024                0\n",
       "251657      0    0.000020                0\n",
       "201903      0    0.001589                0"
      ]
     },
     "execution_count": 112,
     "metadata": {},
     "output_type": "execute_result"
    }
   ],
   "source": [
    "#Lets see how it performs on test data.\n",
    "y_test_df= predictFraudWithProb(clf,X_test,y_test,cut_off_prob)\n",
    "y_test_df.head()"
   ]
  },
  {
   "cell_type": "code",
   "execution_count": 113,
   "metadata": {},
   "outputs": [
    {
     "name": "stdout",
     "output_type": "stream",
     "text": [
      "[[85205    96]\n",
      " [   23   119]]\n"
     ]
    }
   ],
   "source": [
    "confusion = metrics.confusion_matrix(y_test_df.fraud,y_test_df.final_predicted)\n",
    "print(confusion)"
   ]
  },
  {
   "cell_type": "markdown",
   "metadata": {},
   "source": [
    "## Model building with balancing Classes\n",
    "\n",
    "##### Perform class balancing with :\n",
    "- Random Oversampling\n",
    "- SMOTE\n",
    "- ADASYN"
   ]
  },
  {
   "cell_type": "markdown",
   "metadata": {},
   "source": [
    "## Model Building -- Balanced\n",
    "- Build different models on the balanced dataset and see the result"
   ]
  },
  {
   "cell_type": "markdown",
   "metadata": {},
   "source": [
    "### Models on balanced dataset using:\n",
    "- Logistic Regression\n",
    "- Decision Tree\n",
    "- Random Forest\n",
    "- XGBoost"
   ]
  },
  {
   "cell_type": "code",
   "execution_count": 114,
   "metadata": {},
   "outputs": [],
   "source": [
    "# Logistic Regression\n",
    "#from sklearn import linear_model #import the package\n",
    "\n",
    "#num_C = ______  #--> list of values\n",
    "#cv_num =   #--> list of values"
   ]
  },
  {
   "cell_type": "markdown",
   "metadata": {},
   "source": [
    "#### perfom cross validation on the X_train & y_train to create:\n",
    "- X_train_cv\n",
    "- X_test_cv \n",
    "- y_train_cv\n",
    "- y_test_cv "
   ]
  },
  {
   "cell_type": "markdown",
   "metadata": {},
   "source": [
    "## Random Oversampling"
   ]
  },
  {
   "cell_type": "code",
   "execution_count": 115,
   "metadata": {},
   "outputs": [
    {
     "name": "stderr",
     "output_type": "stream",
     "text": [
      "Using Theano backend.\n",
      "WARNING (theano.configdefaults): g++ not available, if using conda: `conda install m2w64-toolchain`\n",
      "WARNING (theano.configdefaults): g++ not detected ! Theano will be unable to execute optimized C-implementations (for both CPU and GPU) and will default to Python implementations. Performance will be severely degraded. To remove this warning, set Theano flags cxx to an empty string.\n",
      "WARNING (theano.tensor.blas): Using NumPy C-API based implementation for BLAS functions.\n"
     ]
    }
   ],
   "source": [
    "from imblearn import over_sampling #- \n",
    "from imblearn.over_sampling import RandomOverSampler"
   ]
  },
  {
   "cell_type": "code",
   "execution_count": 116,
   "metadata": {},
   "outputs": [],
   "source": [
    "# define oversampling strategy\n",
    "oversample = RandomOverSampler(sampling_strategy='minority')\n",
    "# fit and apply the transform\n",
    "X_train_over, y_train_over = oversample.fit_resample(X_train, y_train)"
   ]
  },
  {
   "cell_type": "code",
   "execution_count": 117,
   "metadata": {},
   "outputs": [
    {
     "data": {
      "text/plain": [
       "(199364, 29)"
      ]
     },
     "execution_count": 117,
     "metadata": {},
     "output_type": "execute_result"
    }
   ],
   "source": [
    "X_train.shape"
   ]
  },
  {
   "cell_type": "code",
   "execution_count": 118,
   "metadata": {},
   "outputs": [
    {
     "data": {
      "text/plain": [
       "(199364,)"
      ]
     },
     "execution_count": 118,
     "metadata": {},
     "output_type": "execute_result"
    }
   ],
   "source": [
    "y_train.shape"
   ]
  },
  {
   "cell_type": "code",
   "execution_count": 119,
   "metadata": {},
   "outputs": [
    {
     "data": {
      "text/plain": [
       "(398028, 29)"
      ]
     },
     "execution_count": 119,
     "metadata": {},
     "output_type": "execute_result"
    }
   ],
   "source": [
    "X_train_over.shape"
   ]
  },
  {
   "cell_type": "code",
   "execution_count": 120,
   "metadata": {},
   "outputs": [
    {
     "data": {
      "text/plain": [
       "(398028,)"
      ]
     },
     "execution_count": 120,
     "metadata": {},
     "output_type": "execute_result"
    }
   ],
   "source": [
    "y_train_over.shape"
   ]
  },
  {
   "cell_type": "code",
   "execution_count": 121,
   "metadata": {},
   "outputs": [],
   "source": [
    "X_train_over = pd.DataFrame(X_train_over, columns=X_train.columns)"
   ]
  },
  {
   "cell_type": "code",
   "execution_count": 122,
   "metadata": {},
   "outputs": [
    {
     "name": "stdout",
     "output_type": "stream",
     "text": [
      "% Fraud before oversampling: 0.1755582753155033\n",
      "% Fraud after oversampling: 50.0\n"
     ]
    }
   ],
   "source": [
    "print(\"% Fraud before oversampling:\",(np.sum(y_train))/len(y_train)*100)\n",
    "print(\"% Fraud after oversampling:\",(np.sum(y_train_over))/len(y_train_over)*100)"
   ]
  },
  {
   "cell_type": "code",
   "execution_count": 123,
   "metadata": {},
   "outputs": [],
   "source": [
    "y_train_over_df = pd.DataFrame(y_train_over)"
   ]
  },
  {
   "cell_type": "code",
   "execution_count": 124,
   "metadata": {},
   "outputs": [
    {
     "data": {
      "text/html": [
       "<div>\n",
       "<style scoped>\n",
       "    .dataframe tbody tr th:only-of-type {\n",
       "        vertical-align: middle;\n",
       "    }\n",
       "\n",
       "    .dataframe tbody tr th {\n",
       "        vertical-align: top;\n",
       "    }\n",
       "\n",
       "    .dataframe thead th {\n",
       "        text-align: right;\n",
       "    }\n",
       "</style>\n",
       "<table border=\"1\" class=\"dataframe\">\n",
       "  <thead>\n",
       "    <tr style=\"text-align: right;\">\n",
       "      <th></th>\n",
       "      <th>0</th>\n",
       "    </tr>\n",
       "  </thead>\n",
       "  <tbody>\n",
       "    <tr>\n",
       "      <th>0</th>\n",
       "      <td>0</td>\n",
       "    </tr>\n",
       "    <tr>\n",
       "      <th>1</th>\n",
       "      <td>0</td>\n",
       "    </tr>\n",
       "    <tr>\n",
       "      <th>2</th>\n",
       "      <td>0</td>\n",
       "    </tr>\n",
       "    <tr>\n",
       "      <th>3</th>\n",
       "      <td>0</td>\n",
       "    </tr>\n",
       "    <tr>\n",
       "      <th>4</th>\n",
       "      <td>0</td>\n",
       "    </tr>\n",
       "  </tbody>\n",
       "</table>\n",
       "</div>"
      ],
      "text/plain": [
       "   0\n",
       "0  0\n",
       "1  0\n",
       "2  0\n",
       "3  0\n",
       "4  0"
      ]
     },
     "execution_count": 124,
     "metadata": {},
     "output_type": "execute_result"
    }
   ],
   "source": [
    "y_train_over_df.head()"
   ]
  },
  {
   "cell_type": "markdown",
   "metadata": {},
   "source": [
    "### Logistic Regression- Oversampling"
   ]
  },
  {
   "cell_type": "code",
   "execution_count": 125,
   "metadata": {},
   "outputs": [
    {
     "name": "stdout",
     "output_type": "stream",
     "text": [
      "\n",
      "Model Report\n",
      "AUC Score (Train): 0.989925\n",
      "Accuracy : 0.951\n",
      "Recall/Sensitivity : 0.9258\n",
      "Precision: 0.975\n"
     ]
    }
   ],
   "source": [
    "log_reg_over=LogisticRegression(class_weight='balanced',C=0.05)\n",
    "modelfit(log_reg_over,X_train_over, y_train_over)"
   ]
  },
  {
   "cell_type": "code",
   "execution_count": 126,
   "metadata": {},
   "outputs": [
    {
     "name": "stdout",
     "output_type": "stream",
     "text": [
      "***SKLEARN METRICS***\n",
      "ROC_AUC Score: 0.973236\n",
      "sklearn accuracy score value: 0.9751647297028428\n",
      "sklearn recall score value: 0.8943661971830986\n",
      "sklearn precision score value: 0.05684870188003581\n",
      "sklearn F1 score value: 0.1069023569023569\n"
     ]
    }
   ],
   "source": [
    "# make predictions\n",
    "pred_probs_test = log_reg_over.predict(X_test)\n",
    "pred_proba=log_reg_over .predict_proba(X_test)[:,1]\n",
    "#Let's check the model metrices.\n",
    "getModelMetrics(y_test,pred_probs_test,pred_proba)"
   ]
  },
  {
   "cell_type": "markdown",
   "metadata": {},
   "source": [
    "### StratifiedKFold Cross Validation"
   ]
  },
  {
   "cell_type": "code",
   "execution_count": 127,
   "metadata": {},
   "outputs": [
    {
     "name": "stdout",
     "output_type": "stream",
     "text": [
      "auc_score: 0.990\n"
     ]
    }
   ],
   "source": [
    "cv = StratifiedKFold(n_splits=5,shuffle=True,random_state=42)\n",
    "scores = cross_val_score(log_reg_over,X_train_over, y_train_over_df, scoring='roc_auc', cv=cv, n_jobs=-1)\n",
    "score = np.mean(scores)\n",
    "print('auc_score: %.3f' % score)"
   ]
  },
  {
   "cell_type": "code",
   "execution_count": 128,
   "metadata": {},
   "outputs": [
    {
     "name": "stdout",
     "output_type": "stream",
     "text": [
      "1 of KFold 5\n",
      "ROC AUC score: 0.9899270615062554\n",
      "2 of KFold 5\n",
      "ROC AUC score: 0.9901742806180526\n",
      "3 of KFold 5\n",
      "ROC AUC score: 0.9897967252303252\n",
      "4 of KFold 5\n",
      "ROC AUC score: 0.9897232129171275\n",
      "5 of KFold 5\n",
      "ROC AUC score: 0.9898993245548936\n",
      "\n",
      "mean_auc_score: 0.98990\n"
     ]
    }
   ],
   "source": [
    "#perform cross validation\n",
    "\n",
    "kf = StratifiedKFold(n_splits=5,shuffle=True,random_state=42)\n",
    "pred_test_over_full =0\n",
    "cv_score =[]\n",
    "i=1\n",
    "for train_index,test_index in kf.split(X_train_over,y_train_over_df):\n",
    "    print('{} of KFold {}'.format(i,kf.n_splits))\n",
    "    X_train_over_cv,X_test_over_cv = X_train_over.loc[train_index],X_train_over.loc[test_index]\n",
    "    y_train_over_cv,y_test_over_cv = y_train_over_df.loc[train_index],y_train_over_df.loc[test_index]\n",
    "    log_reg_over.fit(X_train_over_cv,y_train_over_cv)\n",
    "    score = metrics.roc_auc_score(y_test_over_cv,log_reg_over.predict_proba(X_test_over_cv)[:,1])\n",
    "    print('ROC AUC score:',score)\n",
    "    cv_score.append(score)    \n",
    "    pred_test_over = log_reg_over.predict_proba(X_test)[:,1]\n",
    "    pred_test_over_full +=pred_test_over\n",
    "    i+=1\n",
    "    \n",
    "print('\\nmean_auc_score: %.5f' % np.mean(cv_score))    "
   ]
  },
  {
   "cell_type": "markdown",
   "metadata": {},
   "source": [
    "### Predicting on test data"
   ]
  },
  {
   "cell_type": "code",
   "execution_count": 129,
   "metadata": {},
   "outputs": [],
   "source": [
    "pred_probs_over = pred_test_over_full/5\n",
    "y_test_over_df= pd.DataFrame({'fraud':y_test, 'fraud_Prob':pred_probs_over})\n",
    "# Creating new column 'predicted' with 1 if fraud_Prob>0.1 else 0\n",
    "y_test_over_df['final_predicted'] = y_test_over_df.fraud_Prob.map( lambda x: 1 if x > 0.1 else 0)"
   ]
  },
  {
   "cell_type": "markdown",
   "metadata": {},
   "source": [
    "### Evaluation metrices"
   ]
  },
  {
   "cell_type": "code",
   "execution_count": 130,
   "metadata": {},
   "outputs": [
    {
     "name": "stdout",
     "output_type": "stream",
     "text": [
      "***SKLEARN METRICS***\n",
      "ROC_AUC Score: 0.973325\n",
      "sklearn accuracy score value: 0.8215652540290018\n",
      "sklearn recall score value: 0.9577464788732394\n",
      "sklearn precision score value: 0.008844953173777315\n",
      "sklearn F1 score value: 0.017528031962881815\n"
     ]
    }
   ],
   "source": [
    "#Let's see the metices\n",
    "#print (\"AUC Score (Train): %f\" % metrics.roc_auc_score(y_test_over, pred_probs_over))\n",
    "getModelMetrics(y_test_over_df.fraud,y_test_over_df.final_predicted,y_test_over_df.fraud_Prob)"
   ]
  },
  {
   "cell_type": "markdown",
   "metadata": {},
   "source": [
    "### Decision Tree- Over Sampling"
   ]
  },
  {
   "cell_type": "code",
   "execution_count": 131,
   "metadata": {},
   "outputs": [
    {
     "name": "stdout",
     "output_type": "stream",
     "text": [
      "\n",
      "Model Report\n",
      "AUC Score (Train): 0.979826\n",
      "Accuracy : 0.9637\n",
      "Recall/Sensitivity : 0.9348\n",
      "Precision: 0.9922\n"
     ]
    }
   ],
   "source": [
    "dt_over_sm = DecisionTreeClassifier(class_weight='balanced',\n",
    "                             max_features='auto',\n",
    "                             min_samples_split=150,\n",
    "                             min_samples_leaf=10,\n",
    "                             max_depth=8,\n",
    "                             random_state=10)\n",
    "modelfit(dt_over_sm, X_train_over, y_train_over)"
   ]
  },
  {
   "cell_type": "code",
   "execution_count": 132,
   "metadata": {},
   "outputs": [
    {
     "name": "stdout",
     "output_type": "stream",
     "text": [
      "***SKLEARN METRICS***\n",
      "ROC_AUC Score: 0.868462\n",
      "sklearn accuracy score value: 0.9913860702456608\n",
      "sklearn recall score value: 0.7746478873239436\n",
      "sklearn precision score value: 0.13513513513513514\n",
      "sklearn F1 score value: 0.2301255230125523\n"
     ]
    }
   ],
   "source": [
    "# make predictions\n",
    "pred_probs_test_over= dt_over_sm.predict(X_test)\n",
    "pred_proba_test_over=dt_over_sm.predict_proba(X_test)[:,1]\n",
    "#Let's check the model metrices.\n",
    "getModelMetrics(y_test,pred_probs_test_over,pred_proba_test_over)"
   ]
  },
  {
   "cell_type": "markdown",
   "metadata": {},
   "source": [
    "### StratifiedKFold Cross Validation"
   ]
  },
  {
   "cell_type": "code",
   "execution_count": 133,
   "metadata": {},
   "outputs": [
    {
     "name": "stdout",
     "output_type": "stream",
     "text": [
      "auc_score: 0.982\n"
     ]
    }
   ],
   "source": [
    "cv = StratifiedKFold(n_splits=5,shuffle=True,random_state=42)\n",
    "scores = cross_val_score(dt_over_sm,X_train_over, y_train_over_df, scoring='roc_auc', cv=cv, n_jobs=-1)\n",
    "score = np.mean(scores)\n",
    "print('auc_score: %.3f' % score)"
   ]
  },
  {
   "cell_type": "code",
   "execution_count": 134,
   "metadata": {},
   "outputs": [
    {
     "name": "stdout",
     "output_type": "stream",
     "text": [
      "1 of KFold 5\n",
      "ROC AUC score: 0.9793908235630513\n",
      "2 of KFold 5\n",
      "ROC AUC score: 0.9810041775292091\n",
      "3 of KFold 5\n",
      "ROC AUC score: 0.9891356193731681\n",
      "4 of KFold 5\n",
      "ROC AUC score: 0.9794469320582827\n",
      "5 of KFold 5\n",
      "ROC AUC score: 0.9803540937772116\n",
      "\n",
      "mean_auc_score: 0.98187\n"
     ]
    }
   ],
   "source": [
    "#perform cross validation\n",
    "\n",
    "kf = StratifiedKFold(n_splits=5,shuffle=True,random_state=42)\n",
    "pred_test_over_full =0\n",
    "cv_score =[]\n",
    "i=1\n",
    "for train_index,test_index in kf.split(X_train_over,y_train_over_df):\n",
    "    print('{} of KFold {}'.format(i,kf.n_splits))\n",
    "    X_train_over_cv,X_test_over_cv = X_train_over.loc[train_index],X_train_over.loc[test_index]\n",
    "    y_train_over_cv,y_test_over_cv = y_train_over_df.loc[train_index],y_train_over_df.loc[test_index]\n",
    "    dt_over_sm.fit(X_train_over_cv,y_train_over_cv)\n",
    "    score = metrics.roc_auc_score(y_test_over_cv,dt_over_sm.predict_proba(X_test_over_cv)[:,1])\n",
    "    print('ROC AUC score:',score)\n",
    "    cv_score.append(score)    \n",
    "    pred_test_over = dt_over_sm.predict_proba(X_test)[:,1]\n",
    "    pred_test_over_full +=pred_test_over\n",
    "    i+=1\n",
    "    \n",
    "print('\\nmean_auc_score: %.5f' % np.mean(cv_score))    "
   ]
  },
  {
   "cell_type": "markdown",
   "metadata": {},
   "source": [
    "### Predicting on test data"
   ]
  },
  {
   "cell_type": "code",
   "execution_count": 135,
   "metadata": {},
   "outputs": [],
   "source": [
    "pred_probs_over = pred_test_over_full/5\n",
    "y_test_over_df= pd.DataFrame({'fraud':y_test, 'fraud_Prob':pred_probs_over})\n",
    "# Creating new column 'predicted' with 1 if fraud_Prob>0.1 else 0\n",
    "y_test_over_df['final_predicted'] = y_test_over_df.fraud_Prob.map( lambda x: 1 if x > 0.1 else 0)"
   ]
  },
  {
   "cell_type": "markdown",
   "metadata": {},
   "source": [
    "### Evaluation metrices"
   ]
  },
  {
   "cell_type": "code",
   "execution_count": 136,
   "metadata": {},
   "outputs": [
    {
     "name": "stdout",
     "output_type": "stream",
     "text": [
      "***SKLEARN METRICS***\n",
      "ROC_AUC Score: 0.919280\n",
      "sklearn accuracy score value: 0.8711421649520733\n",
      "sklearn recall score value: 0.8802816901408451\n",
      "sklearn precision score value: 0.011243029321820471\n",
      "sklearn F1 score value: 0.022202486678507993\n"
     ]
    }
   ],
   "source": [
    "#Let's see the metices\n",
    "#print (\"AUC Score (Train): %f\" % metrics.roc_auc_score(y_test_over, pred_probs_over))\n",
    "getModelMetrics(y_test_over_df.fraud,y_test_over_df.final_predicted,y_test_over_df.fraud_Prob)"
   ]
  },
  {
   "cell_type": "markdown",
   "metadata": {},
   "source": [
    "### Random Forest on Over Sampling"
   ]
  },
  {
   "cell_type": "code",
   "execution_count": 137,
   "metadata": {},
   "outputs": [
    {
     "name": "stdout",
     "output_type": "stream",
     "text": [
      "\n",
      "Model Report\n",
      "AUC Score (Train): 0.999991\n",
      "Accuracy : 0.9998\n",
      "Recall/Sensitivity : 1\n",
      "Precision: 0.9997\n"
     ]
    }
   ],
   "source": [
    "rf_over_sm=RandomForestClassifier(class_weight='balanced',\n",
    "                             max_depth=15,\n",
    "                             min_samples_leaf=10, \n",
    "                             min_samples_split=150,\n",
    "                             max_features='auto',\n",
    "                             random_state=10)\n",
    "modelfit(rf_over_sm, X_train_over, y_train_over)"
   ]
  },
  {
   "cell_type": "code",
   "execution_count": 138,
   "metadata": {},
   "outputs": [
    {
     "name": "stdout",
     "output_type": "stream",
     "text": [
      "***SKLEARN METRICS***\n",
      "ROC_AUC Score: 0.921291\n",
      "sklearn accuracy score value: 0.9991456292499094\n",
      "sklearn recall score value: 0.7605633802816901\n",
      "sklearn precision score value: 0.7346938775510204\n",
      "sklearn F1 score value: 0.7474048442906575\n"
     ]
    }
   ],
   "source": [
    "# make predictions\n",
    "pred_probs_test = rf_over_sm.predict(X_test)\n",
    "pred_proba=rf_over_sm.predict_proba(X_test)[:,1]\n",
    "#Let's check the model metrices.\n",
    "getModelMetrics(y_test,pred_probs_test,pred_proba)"
   ]
  },
  {
   "cell_type": "markdown",
   "metadata": {},
   "source": [
    "### StratifiedKFold Cross Validation"
   ]
  },
  {
   "cell_type": "code",
   "execution_count": 139,
   "metadata": {},
   "outputs": [
    {
     "name": "stdout",
     "output_type": "stream",
     "text": [
      "auc_score: 1.000\n"
     ]
    }
   ],
   "source": [
    "cv = StratifiedKFold(n_splits=5,shuffle=True,random_state=42)\n",
    "scores = cross_val_score(rf_over_sm,X_train_over, y_train_over_df, scoring='roc_auc', cv=cv, n_jobs=-1)\n",
    "score = np.mean(scores)\n",
    "print('auc_score: %.3f' % score)"
   ]
  },
  {
   "cell_type": "code",
   "execution_count": 140,
   "metadata": {},
   "outputs": [
    {
     "name": "stdout",
     "output_type": "stream",
     "text": [
      "1 of KFold 5\n",
      "ROC AUC score: 0.9999588595141022\n",
      "2 of KFold 5\n",
      "ROC AUC score: 0.999999213522271\n",
      "3 of KFold 5\n",
      "ROC AUC score: 0.9999721605188749\n",
      "4 of KFold 5\n",
      "ROC AUC score: 0.999972309798155\n",
      "5 of KFold 5\n",
      "ROC AUC score: 0.999974176858632\n",
      "\n",
      "mean_auc_score: 0.99998\n"
     ]
    }
   ],
   "source": [
    "#perform cross validation\n",
    "\n",
    "kf = StratifiedKFold(n_splits=5,shuffle=True,random_state=42)\n",
    "pred_test_over_full =0\n",
    "cv_score =[]\n",
    "i=1\n",
    "for train_index,test_index in kf.split(X_train_over,y_train_over_df):\n",
    "    print('{} of KFold {}'.format(i,kf.n_splits))\n",
    "    X_train_over_cv,X_test_over_cv = X_train_over.loc[train_index],X_train_over.loc[test_index]\n",
    "    y_train_over_cv,y_test_over_cv = y_train_over_df.loc[train_index],y_train_over_df.loc[test_index]\n",
    "    rf_over_sm.fit(X_train_over_cv,y_train_over_cv)\n",
    "    score = metrics.roc_auc_score(y_test_over_cv,rf_over_sm.predict_proba(X_test_over_cv)[:,1])\n",
    "    print('ROC AUC score:',score)\n",
    "    cv_score.append(score)    \n",
    "    pred_test_over = rf_over_sm.predict_proba(X_test)[:,1]\n",
    "    pred_test_over_full +=pred_test_over\n",
    "    i+=1\n",
    "    \n",
    "print('\\nmean_auc_score: %.5f' % np.mean(cv_score))    "
   ]
  },
  {
   "cell_type": "markdown",
   "metadata": {},
   "source": [
    "### Predicting on test data"
   ]
  },
  {
   "cell_type": "code",
   "execution_count": 141,
   "metadata": {},
   "outputs": [],
   "source": [
    "pred_probs_over = pred_test_over_full/5\n",
    "y_test_over_df= pd.DataFrame({'fraud':y_test, 'fraud_Prob':pred_probs_over})\n",
    "# Creating new column 'predicted' with 1 if fraud_Prob>0.1 else 0\n",
    "y_test_over_df['final_predicted'] = y_test_over_df.fraud_Prob.map( lambda x: 1 if x > 0.1 else 0)"
   ]
  },
  {
   "cell_type": "markdown",
   "metadata": {},
   "source": [
    "### Evaluation metrices"
   ]
  },
  {
   "cell_type": "code",
   "execution_count": 142,
   "metadata": {
    "scrolled": true
   },
   "outputs": [
    {
     "name": "stdout",
     "output_type": "stream",
     "text": [
      "***SKLEARN METRICS***\n",
      "ROC_AUC Score: 0.970564\n",
      "sklearn accuracy score value: 0.9963133316948141\n",
      "sklearn recall score value: 0.8309859154929577\n",
      "sklearn precision score value: 0.2885085574572127\n",
      "sklearn F1 score value: 0.42831215970961883\n"
     ]
    }
   ],
   "source": [
    "#Let's see the metices\n",
    "#print (\"AUC Score (Train): %f\" % metrics.roc_auc_score(y_test_over, pred_probs_over))\n",
    "getModelMetrics(y_test_over_df.fraud,y_test_over_df.final_predicted,y_test_over_df.fraud_Prob)"
   ]
  },
  {
   "cell_type": "markdown",
   "metadata": {},
   "source": [
    "### XGBOOST-Oversampling"
   ]
  },
  {
   "cell_type": "code",
   "execution_count": 143,
   "metadata": {},
   "outputs": [
    {
     "name": "stdout",
     "output_type": "stream",
     "text": [
      "\n",
      "Model Report\n",
      "AUC Score (Train): 1.000000\n",
      "Accuracy : 1\n",
      "Recall/Sensitivity : 1\n",
      "Precision: 0.9999\n"
     ]
    }
   ],
   "source": [
    "modelxgb_over =XGBClassifier(silent=False, \n",
    "                      scale_pos_weight=1,\n",
    "                     learning_rate=0.15,  \n",
    "                     colsample_bytree = 0.4,\n",
    "                      subsample = 0.8,\n",
    "                      objective='binary:logistic', \n",
    "                      n_estimators=100, \n",
    "                      min_child_weight=6,\n",
    "                      reg_alpha = 0.3,\n",
    "                      max_depth=8, \n",
    "                      gamma=0.3)\n",
    "\n",
    "modelfit(modelxgb_over,X_train_over, y_train_over)"
   ]
  },
  {
   "cell_type": "code",
   "execution_count": 144,
   "metadata": {},
   "outputs": [
    {
     "name": "stdout",
     "output_type": "stream",
     "text": [
      "***SKLEARN METRICS***\n",
      "ROC_AUC Score: 0.977918\n",
      "sklearn accuracy score value: 0.9993211848834895\n",
      "sklearn recall score value: 0.8098591549295775\n",
      "sklearn precision score value: 0.7876712328767124\n",
      "sklearn F1 score value: 0.7986111111111112\n"
     ]
    }
   ],
   "source": [
    "# make predictions\n",
    "pred_probs_test = modelxgb_over.predict(X_test)\n",
    "pred_proba=modelxgb_over.predict_proba(X_test)[:,1]\n",
    "#Let's check the model metrices.\n",
    "getModelMetrics(y_test,pred_probs_test,pred_proba)"
   ]
  },
  {
   "cell_type": "markdown",
   "metadata": {},
   "source": [
    "### StratifiedKFold Cross Validation"
   ]
  },
  {
   "cell_type": "code",
   "execution_count": 145,
   "metadata": {},
   "outputs": [
    {
     "name": "stdout",
     "output_type": "stream",
     "text": [
      "auc_score: 0.99999\n"
     ]
    }
   ],
   "source": [
    "cv = StratifiedKFold(n_splits=5,shuffle=True,random_state=42)\n",
    "scores = cross_val_score(modelxgb_over,X_train_over, y_train_over_df, scoring='roc_auc', cv=cv, n_jobs=-1)\n",
    "score = np.mean(scores)\n",
    "print('auc_score: %.5f' % score)"
   ]
  },
  {
   "cell_type": "code",
   "execution_count": 146,
   "metadata": {},
   "outputs": [
    {
     "name": "stdout",
     "output_type": "stream",
     "text": [
      "1 of KFold 5\n",
      "ROC AUC score: 0.9999691424263695\n",
      "2 of KFold 5\n",
      "ROC AUC score: 0.9999970251448336\n",
      "3 of KFold 5\n",
      "ROC AUC score: 0.9999876082417511\n",
      "4 of KFold 5\n",
      "ROC AUC score: 0.9999859216699274\n",
      "5 of KFold 5\n",
      "ROC AUC score: 0.9999903970410025\n",
      "\n",
      "mean_auc_score: 0.99999\n"
     ]
    }
   ],
   "source": [
    "#perform cross validation\n",
    "\n",
    "kf = StratifiedKFold(n_splits=5,shuffle=True,random_state=42)\n",
    "pred_test_over_full =0\n",
    "cv_score =[]\n",
    "i=1\n",
    "for train_index,test_index in kf.split(X_train_over,y_train_over_df):\n",
    "    print('{} of KFold {}'.format(i,kf.n_splits))\n",
    "    X_train_over_cv,X_test_over_cv = X_train_over.loc[train_index],X_train_over.loc[test_index]\n",
    "    y_train_over_cv,y_test_over_cv = y_train_over_df.loc[train_index],y_train_over_df.loc[test_index]\n",
    "    modelxgb_over.fit(X_train_over_cv,y_train_over_cv)\n",
    "    score = metrics.roc_auc_score(y_test_over_cv,modelxgb_over.predict_proba(X_test_over_cv)[:,1])\n",
    "    print('ROC AUC score:',score)\n",
    "    cv_score.append(score)    \n",
    "    pred_test_over = modelxgb_over.predict_proba(X_test)[:,1]\n",
    "    pred_test_over_full +=pred_test_over\n",
    "    i+=1\n",
    "    \n",
    "print('\\nmean_auc_score: %.5f' % np.mean(cv_score))    "
   ]
  },
  {
   "cell_type": "markdown",
   "metadata": {},
   "source": [
    "### Predicting on test data"
   ]
  },
  {
   "cell_type": "code",
   "execution_count": 147,
   "metadata": {},
   "outputs": [],
   "source": [
    "pred_probs_over = pred_test_over_full/5\n",
    "y_test_over_df= pd.DataFrame({'fraud':y_test, 'fraud_Prob':pred_probs_over})\n",
    "# Creating new column 'predicted' with 1 if fraud_Prob>0.1 else 0\n",
    "y_test_over_df['final_predicted'] = y_test_over_df.fraud_Prob.map( lambda x: 1 if x > 0.5 else 0)"
   ]
  },
  {
   "cell_type": "markdown",
   "metadata": {},
   "source": [
    "### Evaluation metrices"
   ]
  },
  {
   "cell_type": "code",
   "execution_count": 148,
   "metadata": {
    "scrolled": true
   },
   "outputs": [
    {
     "name": "stdout",
     "output_type": "stream",
     "text": [
      "***SKLEARN METRICS***\n",
      "ROC_AUC Score: 0.983567\n",
      "sklearn accuracy score value: 0.9993094811745842\n",
      "sklearn recall score value: 0.8169014084507042\n",
      "sklearn precision score value: 0.7785234899328859\n",
      "sklearn F1 score value: 0.7972508591065293\n"
     ]
    }
   ],
   "source": [
    "#Let's see the metices\n",
    "#print (\"AUC Score (Train): %f\" % metrics.roc_auc_score(y_test_over, pred_probs_over))\n",
    "getModelMetrics(y_test_over_df.fraud,y_test_over_df.final_predicted,y_test_over_df.fraud_Prob)"
   ]
  },
  {
   "cell_type": "markdown",
   "metadata": {},
   "source": [
    "## SMOTE"
   ]
  },
  {
   "cell_type": "markdown",
   "metadata": {},
   "source": [
    "### Print the class distribution after applying SMOTE "
   ]
  },
  {
   "cell_type": "code",
   "execution_count": 149,
   "metadata": {},
   "outputs": [
    {
     "data": {
      "text/plain": [
       "<matplotlib.legend.Legend at 0x2bb8a138a90>"
      ]
     },
     "execution_count": 149,
     "metadata": {},
     "output_type": "execute_result"
    },
    {
     "data": {
      "image/png": "[encoded data removed]",
      "text/plain": [
       "<Figure size 1440x1440 with 3 Axes>"
      ]
     },
     "metadata": {
      "needs_background": "light"
     },
     "output_type": "display_data"
    }
   ],
   "source": [
    "import warnings\n",
    "warnings.filterwarnings(\"ignore\")\n",
    "from imblearn import over_sampling #-\n",
    "\n",
    "sm = over_sampling.SMOTE(random_state=0)\n",
    "X_train_smote, y_train_smote = sm.fit_resample(X_train, y_train)\n",
    "# Artificial minority samples and corresponding minority labels from SMOTE are appended\n",
    "# below X_train and y_train respectively\n",
    "# So to exclusively get the artificial minority samples from SMOTE, we do\n",
    "X_train_smote_1 = X_train_smote[X_train.shape[0]:]\n",
    "\n",
    "X_train_1 = X_train.to_numpy()[np.where(y_train==1.0)]\n",
    "X_train_0 = X_train.to_numpy()[np.where(y_train==0.0)]\n",
    "\n",
    "\n",
    "plt.rcParams['figure.figsize'] = [20, 20]\n",
    "fig = plt.figure()\n",
    "\n",
    "plt.subplot(3, 1, 1)\n",
    "plt.scatter(X_train_1[:, 0], X_train_1[:, 1], label='Actual Class-1 Examples')\n",
    "plt.legend()\n",
    "\n",
    "plt.subplot(3, 1, 2)\n",
    "plt.scatter(X_train_1[:, 0], X_train_1[:, 1], label='Actual Class-1 Examples')\n",
    "plt.scatter(X_train_smote_1[:X_train_1.shape[0], 0], X_train_smote_1[:X_train_1.shape[0], 1],\n",
    "            label='Artificial SMOTE Class-1 Examples')\n",
    "plt.legend()\n",
    "\n",
    "plt.subplot(3, 1, 3)\n",
    "plt.scatter(X_train_1[:, 0], X_train_1[:, 1], label='Actual Class-1 Examples')\n",
    "plt.scatter(X_train_0[:X_train_1.shape[0], 0], X_train_0[:X_train_1.shape[0], 1], label='Actual Class-0 Examples')\n",
    "plt.legend()"
   ]
  },
  {
   "cell_type": "code",
   "execution_count": 150,
   "metadata": {},
   "outputs": [],
   "source": [
    "#perform cross validation & then balance classes on X_train_cv & y_train_cv using SMOTE\n",
    "\n",
    "#perform hyperparameter tuning\n",
    "\n",
    "#print the evaluation result by choosing a evaluation metric\n",
    "\n",
    "#print the optimum value of hyperparameters\n"
   ]
  },
  {
   "cell_type": "code",
   "execution_count": 151,
   "metadata": {},
   "outputs": [],
   "source": [
    "X_train_smote = pd.DataFrame(X_train_smote, columns=X_train.columns)"
   ]
  },
  {
   "cell_type": "code",
   "execution_count": 152,
   "metadata": {},
   "outputs": [
    {
     "name": "stdout",
     "output_type": "stream",
     "text": [
      "% Fraud before oversampling: 0.1755582753155033\n",
      "% Fraud after oversampling: 50.0\n"
     ]
    }
   ],
   "source": [
    "print(\"% Fraud before oversampling:\",(np.sum(y_train))/len(y_train)*100)\n",
    "print(\"% Fraud after oversampling:\",(np.sum(y_train_smote))/len(y_train_smote)*100)"
   ]
  },
  {
   "cell_type": "code",
   "execution_count": 153,
   "metadata": {},
   "outputs": [],
   "source": [
    "y_train_smote_df = pd.DataFrame(y_train_smote)"
   ]
  },
  {
   "cell_type": "markdown",
   "metadata": {},
   "source": [
    "### Logistic Regression- SMOTE"
   ]
  },
  {
   "cell_type": "code",
   "execution_count": 154,
   "metadata": {},
   "outputs": [
    {
     "name": "stdout",
     "output_type": "stream",
     "text": [
      "\n",
      "Model Report\n",
      "AUC Score (Train): 0.991182\n",
      "Accuracy : 0.9505\n",
      "Recall/Sensitivity : 0.9254\n",
      "Precision: 0.9743\n"
     ]
    }
   ],
   "source": [
    "log_reg_SMOTE=LogisticRegression(class_weight='balanced',C=0.05)\n",
    "modelfit(log_reg_SMOTE,X_train_smote, y_train_smote)"
   ]
  },
  {
   "cell_type": "code",
   "execution_count": 155,
   "metadata": {},
   "outputs": [
    {
     "name": "stdout",
     "output_type": "stream",
     "text": [
      "***SKLEARN METRICS***\n",
      "ROC_AUC Score: 0.972557\n",
      "sklearn accuracy score value: 0.9746497665110073\n",
      "sklearn recall score value: 0.8873239436619719\n",
      "sklearn precision score value: 0.05536028119507909\n",
      "sklearn F1 score value: 0.10421836228287842\n"
     ]
    }
   ],
   "source": [
    "# make predictions\n",
    "pred_probs_test = log_reg_SMOTE.predict(X_test)\n",
    "pred_proba=log_reg_SMOTE .predict_proba(X_test)[:,1]\n",
    "#Let's check the model metrices.\n",
    "getModelMetrics(y_test,pred_probs_test,pred_proba)"
   ]
  },
  {
   "cell_type": "markdown",
   "metadata": {},
   "source": [
    "### StratifiedKFold Cross Validation"
   ]
  },
  {
   "cell_type": "code",
   "execution_count": 156,
   "metadata": {},
   "outputs": [
    {
     "name": "stdout",
     "output_type": "stream",
     "text": [
      "auc_score: 0.991\n"
     ]
    }
   ],
   "source": [
    "cv = StratifiedKFold(n_splits=5,shuffle=True,random_state=42)\n",
    "scores = cross_val_score(log_reg_SMOTE,X_train_smote, y_train_smote_df, scoring='roc_auc', cv=cv, n_jobs=-1)\n",
    "score = np.mean(scores)\n",
    "print('auc_score: %.3f' % score)"
   ]
  },
  {
   "cell_type": "code",
   "execution_count": 157,
   "metadata": {},
   "outputs": [
    {
     "name": "stdout",
     "output_type": "stream",
     "text": [
      "1 of KFold 5\n",
      "ROC AUC score: 0.9914291014164539\n",
      "2 of KFold 5\n",
      "ROC AUC score: 0.9913440014963931\n",
      "3 of KFold 5\n",
      "ROC AUC score: 0.9910343640782738\n",
      "4 of KFold 5\n",
      "ROC AUC score: 0.9910496760927134\n",
      "5 of KFold 5\n",
      "ROC AUC score: 0.99099189611763\n",
      "\n",
      "mean_auc_score: 0.99117\n"
     ]
    }
   ],
   "source": [
    "#perform cross validation\n",
    "\n",
    "kf = StratifiedKFold(n_splits=5,shuffle=True,random_state=42)\n",
    "pred_test_smote_full =0\n",
    "cv_score =[]\n",
    "i=1\n",
    "for train_index,test_index in kf.split(X_train_smote, y_train_smote_df):\n",
    "    print('{} of KFold {}'.format(i,kf.n_splits))\n",
    "    X_train_smote_cv,X_test_smote_cv = X_train_smote.loc[train_index],X_train_smote.loc[test_index]\n",
    "    y_train_smote_cv,y_test_smote_cv = y_train_smote_df.loc[train_index],y_train_smote_df.loc[test_index]\n",
    "    log_reg_SMOTE.fit(X_train_smote_cv,y_train_smote_cv)\n",
    "    score = metrics.roc_auc_score(y_test_smote_cv,log_reg_SMOTE.predict_proba(X_test_smote_cv)[:,1])\n",
    "    print('ROC AUC score:',score)\n",
    "    cv_score.append(score)    \n",
    "    pred_test_smote = log_reg_SMOTE.predict_proba(X_test)[:,1]\n",
    "    pred_test_smote_full +=pred_test_smote\n",
    "    i+=1\n",
    "    \n",
    "print('\\nmean_auc_score: %.5f' % np.mean(cv_score))    "
   ]
  },
  {
   "cell_type": "markdown",
   "metadata": {},
   "source": [
    "### Predicting on test data"
   ]
  },
  {
   "cell_type": "code",
   "execution_count": 158,
   "metadata": {},
   "outputs": [],
   "source": [
    "pred_probs_smote = pred_test_smote_full/5\n",
    "y_test_smote_df= pd.DataFrame({'fraud':y_test, 'fraud_Prob':pred_probs_smote})\n",
    "# Creating new column 'predicted' with 1 if fraud_Prob>0.1 else 0\n",
    "y_test_smote_df['final_predicted'] = y_test_smote_df.fraud_Prob.map( lambda x: 1 if x > 0.1 else 0)"
   ]
  },
  {
   "cell_type": "markdown",
   "metadata": {},
   "source": [
    "### Evaluation metrices"
   ]
  },
  {
   "cell_type": "code",
   "execution_count": 159,
   "metadata": {},
   "outputs": [
    {
     "name": "stdout",
     "output_type": "stream",
     "text": [
      "***SKLEARN METRICS***\n",
      "ROC_AUC Score: 0.972629\n",
      "sklearn accuracy score value: 0.8176328078368035\n",
      "sklearn recall score value: 0.9577464788732394\n",
      "sklearn precision score value: 0.008655804480651732\n",
      "sklearn F1 score value: 0.017156553551154283\n"
     ]
    }
   ],
   "source": [
    "#Let's see the metices\n",
    "#print (\"AUC Score (Train): %f\" % metrics.roc_auc_score(y_test_over, pred_probs_over))\n",
    "getModelMetrics(y_test_smote_df.fraud,y_test_smote_df.final_predicted,y_test_smote_df.fraud_Prob)"
   ]
  },
  {
   "cell_type": "markdown",
   "metadata": {},
   "source": [
    "### Decision Tree- SMOTE"
   ]
  },
  {
   "cell_type": "code",
   "execution_count": 160,
   "metadata": {},
   "outputs": [
    {
     "name": "stdout",
     "output_type": "stream",
     "text": [
      "\n",
      "Model Report\n",
      "AUC Score (Train): 0.979826\n",
      "Accuracy : 0.9637\n",
      "Recall/Sensitivity : 0.9348\n",
      "Precision: 0.9922\n"
     ]
    }
   ],
   "source": [
    "dt_SMOTE = DecisionTreeClassifier(class_weight='balanced',\n",
    "                             max_features='auto',\n",
    "                             min_samples_split=150,\n",
    "                             min_samples_leaf=10,\n",
    "                             max_depth=8,\n",
    "                             random_state=10)\n",
    "modelfit(dt_SMOTE, X_train_over, y_train_over)"
   ]
  },
  {
   "cell_type": "code",
   "execution_count": 161,
   "metadata": {},
   "outputs": [
    {
     "name": "stdout",
     "output_type": "stream",
     "text": [
      "***SKLEARN METRICS***\n",
      "ROC_AUC Score: 0.868462\n",
      "sklearn accuracy score value: 0.9913860702456608\n",
      "sklearn recall score value: 0.7746478873239436\n",
      "sklearn precision score value: 0.13513513513513514\n",
      "sklearn F1 score value: 0.2301255230125523\n"
     ]
    }
   ],
   "source": [
    "# make predictions\n",
    "pred_probs_test_over= dt_SMOTE.predict(X_test)\n",
    "pred_proba_test_over=dt_SMOTE.predict_proba(X_test)[:,1]\n",
    "#Let's check the model metrices.\n",
    "getModelMetrics(y_test,pred_probs_test_over,pred_proba_test_over)"
   ]
  },
  {
   "cell_type": "markdown",
   "metadata": {},
   "source": [
    "### StratifiedKFold Cross Validation"
   ]
  },
  {
   "cell_type": "code",
   "execution_count": 162,
   "metadata": {},
   "outputs": [
    {
     "name": "stdout",
     "output_type": "stream",
     "text": [
      "auc_score: 0.987\n"
     ]
    }
   ],
   "source": [
    "cv = StratifiedKFold(n_splits=5,shuffle=True,random_state=42)\n",
    "scores = cross_val_score(dt_SMOTE,X_train_smote, y_train_smote_df, scoring='roc_auc', cv=cv, n_jobs=-1)\n",
    "score = np.mean(scores)\n",
    "print('auc_score: %.3f' % score)"
   ]
  },
  {
   "cell_type": "code",
   "execution_count": 163,
   "metadata": {},
   "outputs": [
    {
     "name": "stdout",
     "output_type": "stream",
     "text": [
      "1 of KFold 5\n",
      "ROC AUC score: 0.9792446135028751\n",
      "2 of KFold 5\n",
      "ROC AUC score: 0.9850267800937302\n",
      "3 of KFold 5\n",
      "ROC AUC score: 0.9872399044378053\n",
      "4 of KFold 5\n",
      "ROC AUC score: 0.9900017077738998\n",
      "5 of KFold 5\n",
      "ROC AUC score: 0.9925820752400782\n",
      "\n",
      "mean_auc_score: 0.98682\n"
     ]
    }
   ],
   "source": [
    "#perform cross validation\n",
    "\n",
    "kf = StratifiedKFold(n_splits=5,shuffle=True,random_state=42)\n",
    "pred_test_smote_full =0\n",
    "cv_score =[]\n",
    "i=1\n",
    "for train_index,test_index in kf.split(X_train_smote,y_train_smote_df):\n",
    "    print('{} of KFold {}'.format(i,kf.n_splits))\n",
    "    X_train_smote_cv,X_test_smote_cv = X_train_smote.loc[train_index],X_train_smote.loc[test_index]\n",
    "    y_train_smote_cv,y_test_smote_cv = y_train_smote_df.loc[train_index],y_train_smote_df.loc[test_index]\n",
    "    dt_SMOTE.fit(X_train_smote_cv,y_train_smote_cv)\n",
    "    score = metrics.roc_auc_score(y_test_smote_cv,dt_SMOTE.predict_proba(X_test_smote_cv)[:,1])\n",
    "    print('ROC AUC score:',score)\n",
    "    cv_score.append(score)    \n",
    "    pred_test_over = dt_SMOTE.predict_proba(X_test)[:,1]\n",
    "    pred_test_over_full +=pred_test_over\n",
    "    i+=1\n",
    "    \n",
    "print('\\nmean_auc_score: %.5f' % np.mean(cv_score))    "
   ]
  },
  {
   "cell_type": "markdown",
   "metadata": {},
   "source": [
    "### Predicting on test data"
   ]
  },
  {
   "cell_type": "code",
   "execution_count": 164,
   "metadata": {},
   "outputs": [],
   "source": [
    "pred_probs_over = pred_test_over_full/5\n",
    "y_test_smote_df= pd.DataFrame({'fraud':y_test, 'fraud_Prob':pred_probs_over})\n",
    "# Creating new column 'predicted' with 1 if fraud_Prob>0.1 else 0\n",
    "y_test_smote_df['final_predicted'] = y_test_over_df.fraud_Prob.map( lambda x: 1 if x > 0.1 else 0)"
   ]
  },
  {
   "cell_type": "markdown",
   "metadata": {},
   "source": [
    "### Evaluation metrices"
   ]
  },
  {
   "cell_type": "code",
   "execution_count": 165,
   "metadata": {},
   "outputs": [
    {
     "name": "stdout",
     "output_type": "stream",
     "text": [
      "***SKLEARN METRICS***\n",
      "ROC_AUC Score: 0.955656\n",
      "sklearn accuracy score value: 0.9988881476539916\n",
      "sklearn recall score value: 0.8309859154929577\n",
      "sklearn precision score value: 0.6243386243386243\n",
      "sklearn F1 score value: 0.7129909365558912\n"
     ]
    }
   ],
   "source": [
    "#Let's see the metices\n",
    "#print (\"AUC Score (Train): %f\" % metrics.roc_auc_score(y_test_over, pred_probs_over))\n",
    "getModelMetrics(y_test_smote_df.fraud,y_test_smote_df.final_predicted,y_test_smote_df.fraud_Prob)"
   ]
  },
  {
   "cell_type": "markdown",
   "metadata": {},
   "source": [
    "### Random Forest -SMOTE"
   ]
  },
  {
   "cell_type": "code",
   "execution_count": 166,
   "metadata": {},
   "outputs": [
    {
     "name": "stdout",
     "output_type": "stream",
     "text": [
      "\n",
      "Model Report\n",
      "AUC Score (Train): 0.998492\n",
      "Accuracy : 0.9745\n",
      "Recall/Sensitivity : 0.9519\n",
      "Precision: 0.997\n"
     ]
    }
   ],
   "source": [
    "rf_SMOTE=RandomForestClassifier(class_weight='balanced',\n",
    "                             max_depth=8,\n",
    "                             min_samples_leaf=10, \n",
    "                             min_samples_split=150,\n",
    "                             max_features='auto',\n",
    "                             random_state=10)\n",
    "modelfit(rf_SMOTE, X_train_smote, y_train_smote)"
   ]
  },
  {
   "cell_type": "code",
   "execution_count": 167,
   "metadata": {},
   "outputs": [
    {
     "name": "stdout",
     "output_type": "stream",
     "text": [
      "***SKLEARN METRICS***\n",
      "ROC_AUC Score: 0.974095\n",
      "sklearn accuracy score value: 0.9962899242770034\n",
      "sklearn recall score value: 0.8098591549295775\n",
      "sklearn precision score value: 0.2839506172839506\n",
      "sklearn F1 score value: 0.42047531992687387\n"
     ]
    }
   ],
   "source": [
    "# make predictions\n",
    "pred_probs_test = rf_SMOTE.predict(X_test)\n",
    "pred_proba=rf_SMOTE.predict_proba(X_test)[:,1]\n",
    "#Let's check the model metrices.\n",
    "getModelMetrics(y_test,pred_probs_test,pred_proba)"
   ]
  },
  {
   "cell_type": "markdown",
   "metadata": {},
   "source": [
    "### StratifiedKFold Cross Validation"
   ]
  },
  {
   "cell_type": "code",
   "execution_count": 168,
   "metadata": {},
   "outputs": [
    {
     "name": "stdout",
     "output_type": "stream",
     "text": [
      "auc_score: 0.99840\n"
     ]
    }
   ],
   "source": [
    "cv = StratifiedKFold(n_splits=5,shuffle=True,random_state=42)\n",
    "scores = cross_val_score(rf_SMOTE,X_train_smote, y_train_smote_df, scoring='roc_auc', cv=cv, n_jobs=-1)\n",
    "score = np.mean(scores)\n",
    "print('auc_score: %.5f' % score)\n"
   ]
  },
  {
   "cell_type": "code",
   "execution_count": 169,
   "metadata": {},
   "outputs": [
    {
     "name": "stdout",
     "output_type": "stream",
     "text": [
      "1 of KFold 5\n",
      "ROC AUC score: 0.9985986623772357\n",
      "2 of KFold 5\n",
      "ROC AUC score: 0.9985556895118453\n",
      "3 of KFold 5\n",
      "ROC AUC score: 0.9979692545392116\n",
      "4 of KFold 5\n",
      "ROC AUC score: 0.9984999108196745\n",
      "5 of KFold 5\n",
      "ROC AUC score: 0.9983547252180035\n",
      "\n",
      "mean_auc_score: 0.99840\n"
     ]
    }
   ],
   "source": [
    "#perform cross validation\n",
    "\n",
    "kf = StratifiedKFold(n_splits=5,shuffle=True,random_state=42)\n",
    "pred_test_smote_full =0\n",
    "cv_score =[]\n",
    "i=1\n",
    "for train_index,test_index in kf.split(X_train_smote,y_train_smote_df):\n",
    "    print('{} of KFold {}'.format(i,kf.n_splits))\n",
    "    X_train_smote_cv,X_test_smote_cv = X_train_smote.loc[train_index],X_train_smote.loc[test_index]\n",
    "    y_train_smote_cv,y_test_smote_cv = y_train_smote_df.loc[train_index],y_train_smote_df.loc[test_index]\n",
    "    rf_SMOTE.fit(X_train_smote_cv,y_train_smote_cv)\n",
    "    score = metrics.roc_auc_score(y_test_smote_cv,rf_SMOTE.predict_proba(X_test_smote_cv)[:,1])\n",
    "    print('ROC AUC score:',score)\n",
    "    cv_score.append(score)    \n",
    "    pred_test_smote = rf_SMOTE.predict_proba(X_test)[:,1]\n",
    "    pred_test_smote_full +=pred_test_smote\n",
    "    i+=1\n",
    "    \n",
    "print('\\nmean_auc_score: %.5f' % np.mean(cv_score))    "
   ]
  },
  {
   "cell_type": "markdown",
   "metadata": {},
   "source": [
    "### Predicting on test data"
   ]
  },
  {
   "cell_type": "code",
   "execution_count": 170,
   "metadata": {},
   "outputs": [],
   "source": [
    "pred_probs_smote = pred_test_smote_full/5\n",
    "y_test_smote_df= pd.DataFrame({'fraud':y_test, 'fraud_Prob':pred_probs_smote})\n",
    "# Creating new column 'predicted' with 1 if fraud_Prob>0.1 else 0\n",
    "y_test_smote_df['final_predicted'] = y_test_smote_df.fraud_Prob.map( lambda x: 1 if x > 0.5 else 0)"
   ]
  },
  {
   "cell_type": "markdown",
   "metadata": {},
   "source": [
    "### Evaluation metrices"
   ]
  },
  {
   "cell_type": "code",
   "execution_count": 171,
   "metadata": {
    "scrolled": false
   },
   "outputs": [
    {
     "name": "stdout",
     "output_type": "stream",
     "text": [
      "***SKLEARN METRICS***\n",
      "ROC_AUC Score: 0.976742\n",
      "sklearn accuracy score value: 0.9967112577975961\n",
      "sklearn recall score value: 0.8169014084507042\n",
      "sklearn precision score value: 0.31266846361185985\n",
      "sklearn F1 score value: 0.4522417153996102\n"
     ]
    }
   ],
   "source": [
    "#Let's see the metices\n",
    "#print (\"AUC Score (Train): %f\" % metrics.roc_auc_score(y_test_over, pred_probs_over))\n",
    "getModelMetrics(y_test_smote_df.fraud,y_test_smote_df.final_predicted,y_test_smote_df.fraud_Prob)"
   ]
  },
  {
   "cell_type": "markdown",
   "metadata": {},
   "source": [
    "### XGBOOST-SMOTE"
   ]
  },
  {
   "cell_type": "code",
   "execution_count": 172,
   "metadata": {},
   "outputs": [
    {
     "name": "stdout",
     "output_type": "stream",
     "text": [
      "\n",
      "Model Report\n",
      "AUC Score (Train): 0.999996\n",
      "Accuracy : 0.9998\n",
      "Recall/Sensitivity : 1\n",
      "Precision: 0.9995\n"
     ]
    }
   ],
   "source": [
    "modelxgb_smote = XGBClassifier(silent=False, \n",
    "                      scale_pos_weight=1,\n",
    "                     learning_rate=0.2,  \n",
    "                     colsample_bytree = 0.5,\n",
    "                      subsample = 0.8,\n",
    "                      objective='binary:logistic', \n",
    "                      n_estimators=100, \n",
    "                      min_child_weight=6,\n",
    "                      reg_alpha = 0.3,\n",
    "                      max_depth=6, \n",
    "                      gamma=0.3)\n",
    "\n",
    "modelfit(modelxgb_smote,X_train_smote, y_train_smote)\n"
   ]
  },
  {
   "cell_type": "code",
   "execution_count": 173,
   "metadata": {},
   "outputs": [
    {
     "name": "stdout",
     "output_type": "stream",
     "text": [
      "***SKLEARN METRICS***\n",
      "ROC_AUC Score: 0.961921\n",
      "sklearn accuracy score value: 0.9985955549313578\n",
      "sklearn recall score value: 0.8309859154929577\n",
      "sklearn precision score value: 0.5514018691588785\n",
      "sklearn F1 score value: 0.6629213483146067\n"
     ]
    }
   ],
   "source": [
    "# make predictions\n",
    "pred_probs_test = modelxgb_smote.predict(X_test)\n",
    "pred_proba=modelxgb_smote.predict_proba(X_test)[:,1]\n",
    "#Let's check the model metrices.\n",
    "getModelMetrics(y_test,pred_probs_test,pred_proba)"
   ]
  },
  {
   "cell_type": "markdown",
   "metadata": {},
   "source": [
    "### StratifiedKFold Cross Validation"
   ]
  },
  {
   "cell_type": "code",
   "execution_count": 174,
   "metadata": {},
   "outputs": [
    {
     "name": "stdout",
     "output_type": "stream",
     "text": [
      "auc_score: 1.000\n"
     ]
    }
   ],
   "source": [
    "cv = StratifiedKFold(n_splits=5,shuffle=True,random_state=42)\n",
    "scores = cross_val_score(modelxgb_smote,X_train_smote, y_train_smote_df, scoring='roc_auc', cv=cv, n_jobs=-1)\n",
    "score = np.mean(scores)\n",
    "print('auc_score: %.3f' % score)\n"
   ]
  },
  {
   "cell_type": "code",
   "execution_count": 175,
   "metadata": {},
   "outputs": [
    {
     "name": "stdout",
     "output_type": "stream",
     "text": [
      "1 of KFold 5\n",
      "ROC AUC score: 0.9999721071823034\n",
      "2 of KFold 5\n",
      "ROC AUC score: 0.9999930151183383\n",
      "3 of KFold 5\n",
      "ROC AUC score: 0.9999823572720652\n",
      "4 of KFold 5\n",
      "ROC AUC score: 0.9999772540036544\n",
      "5 of KFold 5\n",
      "ROC AUC score: 0.9999827846776269\n",
      "\n",
      "mean_auc_score: 0.99998\n"
     ]
    }
   ],
   "source": [
    "#perform cross validation\n",
    "\n",
    "kf = StratifiedKFold(n_splits=5,shuffle=True,random_state=42)\n",
    "pred_test_smote_full =0\n",
    "cv_score =[]\n",
    "i=1\n",
    "for train_index,test_index in kf.split(X_train_smote,y_train_smote_df):\n",
    "    print('{} of KFold {}'.format(i,kf.n_splits))\n",
    "    X_train_smote_cv,X_test_smote_cv = X_train_smote.loc[train_index],X_train_smote.loc[test_index]\n",
    "    y_train_smote_cv,y_test_smote_cv = y_train_smote_df.loc[train_index],y_train_smote_df.loc[test_index]\n",
    "    modelxgb_smote.fit(X_train_smote_cv,y_train_smote_cv)\n",
    "    score = metrics.roc_auc_score(y_test_smote_cv,modelxgb_smote.predict_proba(X_test_smote_cv)[:,1])\n",
    "    print('ROC AUC score:',score)\n",
    "    cv_score.append(score)    \n",
    "    pred_test_smote = modelxgb_smote.predict_proba(X_test)[:,1]\n",
    "    pred_test_smote_full +=pred_test_smote\n",
    "    i+=1\n",
    "    \n",
    "print('\\nmean_auc_score: %.5f' % np.mean(cv_score))    "
   ]
  },
  {
   "cell_type": "markdown",
   "metadata": {},
   "source": [
    "### Predicting on test data"
   ]
  },
  {
   "cell_type": "code",
   "execution_count": 176,
   "metadata": {},
   "outputs": [],
   "source": [
    "pred_probs_smote = pred_test_smote_full/5\n",
    "y_test_smote_df= pd.DataFrame({'fraud':y_test, 'fraud_Prob':pred_probs_smote})\n",
    "# Creating new column 'predicted' with 1 if fraud_Prob>0.1 else 0\n",
    "y_test_smote_df['final_predicted'] = y_test_smote_df.fraud_Prob.map( lambda x: 1 if x > 0.5 else 0)"
   ]
  },
  {
   "cell_type": "markdown",
   "metadata": {},
   "source": [
    "### Evaluation metrices"
   ]
  },
  {
   "cell_type": "code",
   "execution_count": 177,
   "metadata": {
    "scrolled": true
   },
   "outputs": [
    {
     "name": "stdout",
     "output_type": "stream",
     "text": [
      "***SKLEARN METRICS***\n",
      "ROC_AUC Score: 0.971589\n",
      "sklearn accuracy score value: 0.9985721475135471\n",
      "sklearn recall score value: 0.8309859154929577\n",
      "sklearn precision score value: 0.5462962962962963\n",
      "sklearn F1 score value: 0.659217877094972\n"
     ]
    }
   ],
   "source": [
    "#Let's see the metices\n",
    "#print (\"AUC Score (Train): %f\" % metrics.roc_auc_score(y_test_over, pred_probs_over))\n",
    "getModelMetrics(y_test_smote_df.fraud,y_test_smote_df.final_predicted,y_test_smote_df.fraud_Prob)"
   ]
  },
  {
   "cell_type": "markdown",
   "metadata": {},
   "source": [
    "## ADASYN"
   ]
  },
  {
   "cell_type": "markdown",
   "metadata": {},
   "source": [
    "### Print the class distribution after applying ADASYN"
   ]
  },
  {
   "cell_type": "code",
   "execution_count": 178,
   "metadata": {},
   "outputs": [
    {
     "data": {
      "text/plain": [
       "<matplotlib.legend.Legend at 0x2bb867bf4a8>"
      ]
     },
     "execution_count": 178,
     "metadata": {},
     "output_type": "execute_result"
    },
    {
     "data": {
      "image/png": "[encoded data removed]",
      "text/plain": [
       "<Figure size 1440x1440 with 3 Axes>"
      ]
     },
     "metadata": {
      "needs_background": "light"
     },
     "output_type": "display_data"
    }
   ],
   "source": [
    "import warnings\n",
    "warnings.filterwarnings(\"ignore\")\n",
    "\n",
    "from imblearn import over_sampling\n",
    "\n",
    "ada = over_sampling.ADASYN(random_state=0)\n",
    "X_train_adasyn, y_train_adasyn = ada.fit_resample(X_train, y_train)\n",
    "# Artificial minority samples and corresponding minority labels from ADASYN are appended\n",
    "# below X_train and y_train respectively\n",
    "# So to exclusively get the artificial minority samples from ADASYN, we do\n",
    "X_train_adasyn_1 = X_train_adasyn[X_train.shape[0]:]\n",
    "\n",
    "X_train_1 = X_train.to_numpy()[np.where(y_train==1.0)]\n",
    "X_train_0 = X_train.to_numpy()[np.where(y_train==0.0)]\n",
    "\n",
    "\n",
    "\n",
    "import matplotlib.pyplot as plt\n",
    "%matplotlib inline\n",
    "plt.rcParams['figure.figsize'] = [20, 20]\n",
    "fig = plt.figure()\n",
    "\n",
    "plt.subplot(3, 1, 1)\n",
    "plt.scatter(X_train_1[:, 0], X_train_1[:, 1], label='Actual Class-1 Examples')\n",
    "plt.legend()\n",
    "\n",
    "plt.subplot(3, 1, 2)\n",
    "plt.scatter(X_train_1[:, 0], X_train_1[:, 1], label='Actual Class-1 Examples')\n",
    "plt.scatter(X_train_adasyn_1[:X_train_1.shape[0], 0], X_train_adasyn_1[:X_train_1.shape[0], 1],\n",
    "            label='Artificial ADASYN Class-1 Examples')\n",
    "plt.legend()\n",
    "\n",
    "plt.subplot(3, 1, 3)\n",
    "plt.scatter(X_train_1[:, 0], X_train_1[:, 1], label='Actual Class-1 Examples')\n",
    "plt.scatter(X_train_0[:X_train_1.shape[0], 0], X_train_0[:X_train_1.shape[0], 1], label='Actual Class-0 Examples')\n",
    "plt.legend()"
   ]
  },
  {
   "cell_type": "code",
   "execution_count": 179,
   "metadata": {},
   "outputs": [],
   "source": [
    "X_train_adasyn = pd.DataFrame(X_train_adasyn, columns=X_train.columns)"
   ]
  },
  {
   "cell_type": "code",
   "execution_count": 180,
   "metadata": {},
   "outputs": [
    {
     "name": "stdout",
     "output_type": "stream",
     "text": [
      "% Fraud before oversampling: 0.1755582753155033\n",
      "% Fraud after oversampling: 49.99874377540714\n"
     ]
    }
   ],
   "source": [
    "print(\"% Fraud before oversampling:\",(np.sum(y_train))/len(y_train)*100)\n",
    "print(\"% Fraud after oversampling:\",(np.sum(y_train_adasyn))/len(y_train_adasyn)*100)"
   ]
  },
  {
   "cell_type": "code",
   "execution_count": 181,
   "metadata": {},
   "outputs": [],
   "source": [
    "y_train_adasyn_df = pd.DataFrame(y_train_adasyn)"
   ]
  },
  {
   "cell_type": "code",
   "execution_count": 182,
   "metadata": {},
   "outputs": [
    {
     "data": {
      "text/html": [
       "<div>\n",
       "<style scoped>\n",
       "    .dataframe tbody tr th:only-of-type {\n",
       "        vertical-align: middle;\n",
       "    }\n",
       "\n",
       "    .dataframe tbody tr th {\n",
       "        vertical-align: top;\n",
       "    }\n",
       "\n",
       "    .dataframe thead th {\n",
       "        text-align: right;\n",
       "    }\n",
       "</style>\n",
       "<table border=\"1\" class=\"dataframe\">\n",
       "  <thead>\n",
       "    <tr style=\"text-align: right;\">\n",
       "      <th></th>\n",
       "      <th>0</th>\n",
       "    </tr>\n",
       "  </thead>\n",
       "  <tbody>\n",
       "    <tr>\n",
       "      <th>0</th>\n",
       "      <td>0</td>\n",
       "    </tr>\n",
       "    <tr>\n",
       "      <th>1</th>\n",
       "      <td>0</td>\n",
       "    </tr>\n",
       "    <tr>\n",
       "      <th>2</th>\n",
       "      <td>0</td>\n",
       "    </tr>\n",
       "    <tr>\n",
       "      <th>3</th>\n",
       "      <td>0</td>\n",
       "    </tr>\n",
       "    <tr>\n",
       "      <th>4</th>\n",
       "      <td>0</td>\n",
       "    </tr>\n",
       "  </tbody>\n",
       "</table>\n",
       "</div>"
      ],
      "text/plain": [
       "   0\n",
       "0  0\n",
       "1  0\n",
       "2  0\n",
       "3  0\n",
       "4  0"
      ]
     },
     "execution_count": 182,
     "metadata": {},
     "output_type": "execute_result"
    }
   ],
   "source": [
    "y_train_adasyn_df.head()"
   ]
  },
  {
   "cell_type": "markdown",
   "metadata": {},
   "source": [
    "### Logistic Regression- ADASYN"
   ]
  },
  {
   "cell_type": "code",
   "execution_count": 183,
   "metadata": {},
   "outputs": [
    {
     "name": "stdout",
     "output_type": "stream",
     "text": [
      "\n",
      "Model Report\n",
      "AUC Score (Train): 0.968692\n",
      "Accuracy : 0.8892\n",
      "Recall/Sensitivity : 0.8653\n",
      "Precision: 0.9087\n"
     ]
    }
   ],
   "source": [
    "log_reg_adasyn=LogisticRegression(class_weight='balanced',C=0.05)\n",
    "modelfit(log_reg_adasyn,X_train_adasyn, y_train_adasyn)"
   ]
  },
  {
   "cell_type": "code",
   "execution_count": 184,
   "metadata": {
    "scrolled": true
   },
   "outputs": [
    {
     "name": "stdout",
     "output_type": "stream",
     "text": [
      "***SKLEARN METRICS***\n",
      "ROC_AUC Score: 0.969439\n",
      "sklearn accuracy score value: 0.9111688494083775\n",
      "sklearn recall score value: 0.9436619718309859\n",
      "sklearn precision score value: 0.017366511145671334\n",
      "sklearn F1 score value: 0.03410537032323747\n"
     ]
    }
   ],
   "source": [
    "# make predictions\n",
    "pred_probs_test = log_reg_adasyn.predict(X_test)\n",
    "pred_proba=log_reg_adasyn .predict_proba(X_test)[:,1]\n",
    "#Let's check the model metrices.\n",
    "getModelMetrics(y_test,pred_probs_test,pred_proba)"
   ]
  },
  {
   "cell_type": "markdown",
   "metadata": {},
   "source": [
    "### StratifiedKFold Cross Validation"
   ]
  },
  {
   "cell_type": "code",
   "execution_count": 185,
   "metadata": {},
   "outputs": [
    {
     "name": "stdout",
     "output_type": "stream",
     "text": [
      "auc_score: 0.96866\n"
     ]
    }
   ],
   "source": [
    "cv = StratifiedKFold(n_splits=5,shuffle=True,random_state=42)\n",
    "scores = cross_val_score(log_reg_adasyn,X_train_adasyn, y_train_adasyn_df, scoring='roc_auc', cv=cv, n_jobs=-1)\n",
    "score = np.mean(scores)\n",
    "print('auc_score: %.5f' % score)"
   ]
  },
  {
   "cell_type": "code",
   "execution_count": 186,
   "metadata": {},
   "outputs": [
    {
     "name": "stdout",
     "output_type": "stream",
     "text": [
      "1 of KFold 5\n",
      "ROC AUC score: 0.9627987696317508\n",
      "2 of KFold 5\n",
      "ROC AUC score: 0.9644754315660389\n",
      "3 of KFold 5\n",
      "ROC AUC score: 0.96332452453582\n",
      "4 of KFold 5\n",
      "ROC AUC score: 0.9628722859545586\n",
      "5 of KFold 5\n",
      "ROC AUC score: 0.9636734802094488\n",
      "\n",
      "mean_auc_score: 0.96343\n"
     ]
    }
   ],
   "source": [
    "#perform cross validation\n",
    "\n",
    "kf = StratifiedKFold(n_splits=5,shuffle=True,random_state=42)\n",
    "pred_test_adasyn_full =0\n",
    "cv_score =[]\n",
    "i=1\n",
    "for train_index,test_index in kf.split(X_train_adasyn,y_train_adasyn_df):\n",
    "    print('{} of KFold {}'.format(i,kf.n_splits))\n",
    "    X_train_adasyn_cv,X_test_adasyn_cv = X_train_adasyn.loc[train_index],X_train_adasyn.loc[test_index]\n",
    "    y_train_adasyn_cv,y_test_adasyn_cv = y_train_adasyn_df.loc[train_index],y_train_adasyn_df.loc[test_index]\n",
    "    log_reg_adasyn.fit(X_train_adasyn_cv,y_train_adasyn_cv)\n",
    "    score = metrics.roc_auc_score(y_test_adasyn_cv,log_reg_over.predict_proba(X_test_adasyn_cv)[:,1])\n",
    "    print('ROC AUC score:',score)\n",
    "    cv_score.append(score)    \n",
    "    pred_test_adasyn = log_reg_adasyn.predict_proba(X_test)[:,1]\n",
    "    pred_test_adasyn_full +=pred_test_adasyn\n",
    "    i+=1\n",
    "    \n",
    "print('\\nmean_auc_score: %.5f' % np.mean(cv_score))    "
   ]
  },
  {
   "cell_type": "markdown",
   "metadata": {},
   "source": [
    "### Predicting on test data"
   ]
  },
  {
   "cell_type": "code",
   "execution_count": 187,
   "metadata": {},
   "outputs": [],
   "source": [
    "pred_probs_adasyn = pred_test_adasyn_full/5\n",
    "y_test_adasyn_df= pd.DataFrame({'fraud':y_test, 'fraud_Prob':pred_probs_adasyn})\n",
    "# Creating new column 'predicted' with 1 if fraud_Prob>0.1 else 0\n",
    "y_test_adasyn_df['final_predicted'] = y_test_adasyn_df.fraud_Prob.map( lambda x: 1 if x > 0.5 else 0)"
   ]
  },
  {
   "cell_type": "markdown",
   "metadata": {},
   "source": [
    "### Evaluation metrices"
   ]
  },
  {
   "cell_type": "code",
   "execution_count": 188,
   "metadata": {},
   "outputs": [
    {
     "name": "stdout",
     "output_type": "stream",
     "text": [
      "***SKLEARN METRICS***\n",
      "ROC_AUC Score: 0.969436\n",
      "sklearn accuracy score value: 0.6235033882237281\n",
      "sklearn recall score value: 0.971830985915493\n",
      "sklearn precision score value: 0.004272049035693279\n",
      "sklearn F1 score value: 0.00850670365233472\n"
     ]
    }
   ],
   "source": [
    "#Let's see the metices\n",
    "#print (\"AUC Score (Train): %f\" % metrics.roc_auc_score(y_test_over, pred_probs_over))\n",
    "getModelMetrics(y_test_adasyn_df.fraud,y_test_adasyn_df.final_predicted,y_test_adasyn_df.fraud_Prob)"
   ]
  },
  {
   "cell_type": "markdown",
   "metadata": {},
   "source": [
    "### Decision Tree- ADASYN"
   ]
  },
  {
   "cell_type": "code",
   "execution_count": 189,
   "metadata": {},
   "outputs": [
    {
     "name": "stdout",
     "output_type": "stream",
     "text": [
      "\n",
      "Model Report\n",
      "AUC Score (Train): 0.958110\n",
      "Accuracy : 0.89\n",
      "Recall/Sensitivity : 0.8113\n",
      "Precision: 0.9629\n"
     ]
    }
   ],
   "source": [
    "dt_adasyn = DecisionTreeClassifier(class_weight='balanced',\n",
    "                             max_features='auto',\n",
    "                             min_samples_split=150,\n",
    "                             min_samples_leaf=10,\n",
    "                             max_depth=8,\n",
    "                             random_state=10)\n",
    "modelfit(dt_adasyn, X_train_adasyn, y_train_adasyn)"
   ]
  },
  {
   "cell_type": "code",
   "execution_count": 190,
   "metadata": {},
   "outputs": [
    {
     "name": "stdout",
     "output_type": "stream",
     "text": [
      "***SKLEARN METRICS***\n",
      "ROC_AUC Score: 0.900446\n",
      "sklearn accuracy score value: 0.966726355582084\n",
      "sklearn recall score value: 0.823943661971831\n",
      "sklearn precision score value: 0.03986371379897785\n",
      "sklearn F1 score value: 0.07604809879753005\n"
     ]
    }
   ],
   "source": [
    "# make predictions\n",
    "pred_test= dt_adasyn.predict(X_test)\n",
    "pred_proba_test=dt_adasyn.predict_proba(X_test)[:,1]\n",
    "#Let's check the model metrices.\n",
    "getModelMetrics(y_test,pred_test,pred_proba_test)"
   ]
  },
  {
   "cell_type": "markdown",
   "metadata": {},
   "source": [
    "### StratifiedKFold Cross Validation"
   ]
  },
  {
   "cell_type": "code",
   "execution_count": 191,
   "metadata": {},
   "outputs": [
    {
     "name": "stdout",
     "output_type": "stream",
     "text": [
      "auc_score: 0.97096\n"
     ]
    }
   ],
   "source": [
    "cv = StratifiedKFold(n_splits=5,shuffle=True,random_state=42)\n",
    "scores = cross_val_score(dt_adasyn,X_train_adasyn, y_train_adasyn_df, scoring='roc_auc', cv=cv, n_jobs=-1)\n",
    "score = np.mean(scores)\n",
    "print('auc_score: %.5f' % score)\n"
   ]
  },
  {
   "cell_type": "code",
   "execution_count": 192,
   "metadata": {},
   "outputs": [
    {
     "name": "stdout",
     "output_type": "stream",
     "text": [
      "1 of KFold 5\n",
      "ROC AUC score: 0.9762825391978183\n",
      "2 of KFold 5\n",
      "ROC AUC score: 0.9793558203172508\n",
      "3 of KFold 5\n",
      "ROC AUC score: 0.9687662833649335\n",
      "4 of KFold 5\n",
      "ROC AUC score: 0.9534770303125824\n",
      "5 of KFold 5\n",
      "ROC AUC score: 0.9769217608316947\n",
      "\n",
      "mean_auc_score: 0.97096\n"
     ]
    }
   ],
   "source": [
    "#perform cross validation\n",
    "\n",
    "kf = StratifiedKFold(n_splits=5,shuffle=True,random_state=42)\n",
    "pred_test_adasyn_full =0\n",
    "cv_score =[]\n",
    "i=1\n",
    "for train_index,test_index in kf.split(X_train_adasyn,y_train_adasyn_df):\n",
    "    print('{} of KFold {}'.format(i,kf.n_splits))\n",
    "    X_train_adasyn_cv,X_test_adasyn_cv = X_train_adasyn.loc[train_index],X_train_adasyn.loc[test_index]\n",
    "    y_train_adasyn_cv,y_test_adasyn_cv = y_train_adasyn_df.loc[train_index],y_train_adasyn_df.loc[test_index]\n",
    "    dt_adasyn.fit(X_train_adasyn_cv,y_train_adasyn_cv)\n",
    "    score = metrics.roc_auc_score(y_test_adasyn_cv,dt_adasyn.predict_proba(X_test_adasyn_cv)[:,1])\n",
    "    print('ROC AUC score:',score)\n",
    "    cv_score.append(score)    \n",
    "    pred_test_adasyn = dt_adasyn.predict_proba(X_test)[:,1]\n",
    "    pred_test_adasyn_full +=pred_test_adasyn\n",
    "    i+=1\n",
    "    \n",
    "print('\\nmean_auc_score: %.5f' % np.mean(cv_score))    "
   ]
  },
  {
   "cell_type": "markdown",
   "metadata": {},
   "source": [
    "### Predicting on test data"
   ]
  },
  {
   "cell_type": "code",
   "execution_count": 193,
   "metadata": {},
   "outputs": [],
   "source": [
    "pred_probs_adasyn = pred_test_adasyn_full/5\n",
    "y_test_adasyn_df= pd.DataFrame({'fraud':y_test, 'fraud_Prob':pred_probs_adasyn})\n",
    "# Creating new column 'predicted' with 1 if fraud_Prob>0.1 else 0\n",
    "y_test_adasyn_df['final_predicted'] = y_test_adasyn_df.fraud_Prob.map( lambda x: 1 if x > 0.5 else 0)"
   ]
  },
  {
   "cell_type": "markdown",
   "metadata": {},
   "source": [
    "### Evaluation metrices"
   ]
  },
  {
   "cell_type": "code",
   "execution_count": 194,
   "metadata": {},
   "outputs": [
    {
     "name": "stdout",
     "output_type": "stream",
     "text": [
      "***SKLEARN METRICS***\n",
      "ROC_AUC Score: 0.956229\n",
      "sklearn accuracy score value: 0.6717226689137787\n",
      "sklearn recall score value: 0.9577464788732394\n",
      "sklearn precision score value: 0.0048262890805209555\n",
      "sklearn F1 score value: 0.009604180643338865\n"
     ]
    }
   ],
   "source": [
    "#Let's see the metices\n",
    "#print (\"AUC Score (Train): %f\" % metrics.roc_auc_score(y_test_over, pred_probs_over))\n",
    "getModelMetrics(y_test_adasyn_df.fraud,y_test_adasyn_df.final_predicted,y_test_adasyn_df.fraud_Prob)"
   ]
  },
  {
   "cell_type": "markdown",
   "metadata": {},
   "source": [
    "### Random Forest -ADASYN"
   ]
  },
  {
   "cell_type": "code",
   "execution_count": 195,
   "metadata": {},
   "outputs": [
    {
     "name": "stdout",
     "output_type": "stream",
     "text": [
      "\n",
      "Model Report\n",
      "AUC Score (Train): 0.997438\n",
      "Accuracy : 0.9773\n",
      "Recall/Sensitivity : 0.9762\n",
      "Precision: 0.9782\n"
     ]
    }
   ],
   "source": [
    "rf_adasyn=RandomForestClassifier(class_weight='balanced',\n",
    "                             max_depth=8,\n",
    "                             min_samples_leaf=10, \n",
    "                             min_samples_split=150,\n",
    "                             max_features='auto',\n",
    "                             random_state=10)\n",
    "modelfit(rf_adasyn, X_train_adasyn, y_train_adasyn)"
   ]
  },
  {
   "cell_type": "code",
   "execution_count": 196,
   "metadata": {},
   "outputs": [
    {
     "name": "stdout",
     "output_type": "stream",
     "text": [
      "***SKLEARN METRICS***\n",
      "ROC_AUC Score: 0.941441\n",
      "sklearn accuracy score value: 0.9763819154289994\n",
      "sklearn recall score value: 0.8380281690140845\n",
      "sklearn precision score value: 0.056291390728476824\n",
      "sklearn F1 score value: 0.10549645390070923\n"
     ]
    }
   ],
   "source": [
    "# make predictions\n",
    "pred_test= rf_adasyn.predict(X_test)\n",
    "pred_proba_test=dt_adasyn.predict_proba(X_test)[:,1]\n",
    "#Let's check the model metrices.\n",
    "getModelMetrics(y_test,pred_test,pred_proba_test)"
   ]
  },
  {
   "cell_type": "markdown",
   "metadata": {},
   "source": [
    "### StratifiedKFold Cross Validation"
   ]
  },
  {
   "cell_type": "code",
   "execution_count": 197,
   "metadata": {},
   "outputs": [
    {
     "name": "stdout",
     "output_type": "stream",
     "text": [
      "auc_score: 0.99698\n"
     ]
    }
   ],
   "source": [
    "cv = StratifiedKFold(n_splits=5,shuffle=True,random_state=42)\n",
    "scores = cross_val_score(rf_adasyn,X_train_adasyn, y_train_adasyn_df, scoring='roc_auc', cv=cv, n_jobs=-1)\n",
    "score = np.mean(scores)\n",
    "print('auc_score: %.5f' % score)\n"
   ]
  },
  {
   "cell_type": "code",
   "execution_count": 198,
   "metadata": {},
   "outputs": [
    {
     "name": "stdout",
     "output_type": "stream",
     "text": [
      "1 of KFold 5\n",
      "ROC AUC score: 0.997002778444145\n",
      "2 of KFold 5\n",
      "ROC AUC score: 0.9970004858031732\n",
      "3 of KFold 5\n",
      "ROC AUC score: 0.9964774944404514\n",
      "4 of KFold 5\n",
      "ROC AUC score: 0.9970468262506758\n",
      "5 of KFold 5\n",
      "ROC AUC score: 0.9973791824177921\n",
      "\n",
      "mean_auc_score: 0.99698\n"
     ]
    }
   ],
   "source": [
    "#perform cross validation\n",
    "\n",
    "kf = StratifiedKFold(n_splits=5,shuffle=True,random_state=42)\n",
    "pred_test_adasyn_full =0\n",
    "cv_score =[]\n",
    "i=1\n",
    "for train_index,test_index in kf.split(X_train_adasyn,y_train_adasyn_df):\n",
    "    print('{} of KFold {}'.format(i,kf.n_splits))\n",
    "    X_train_adasyn_cv,X_test_adasyn_cv = X_train_adasyn.loc[train_index],X_train_adasyn.loc[test_index]\n",
    "    y_train_adasyn_cv,y_test_adasyn_cv = y_train_adasyn_df.loc[train_index],y_train_adasyn_df.loc[test_index]\n",
    "    rf_adasyn.fit(X_train_adasyn_cv,y_train_adasyn_cv)\n",
    "    score = metrics.roc_auc_score(y_test_adasyn_cv,rf_adasyn.predict_proba(X_test_adasyn_cv)[:,1])\n",
    "    print('ROC AUC score:',score)\n",
    "    cv_score.append(score)    \n",
    "    pred_test_adasyn = rf_adasyn.predict_proba(X_test)[:,1]\n",
    "    pred_test_adasyn_full +=pred_test_adasyn\n",
    "    i+=1\n",
    "    \n",
    "print('\\nmean_auc_score: %.5f' % np.mean(cv_score))    "
   ]
  },
  {
   "cell_type": "markdown",
   "metadata": {},
   "source": [
    "### Predicting on test data"
   ]
  },
  {
   "cell_type": "code",
   "execution_count": 199,
   "metadata": {},
   "outputs": [],
   "source": [
    "pred_probs_adasyn = pred_test_adasyn_full/5\n",
    "y_test_adasyn_df= pd.DataFrame({'fraud':y_test, 'fraud_Prob':pred_probs_adasyn})\n",
    "# Creating new column 'predicted' with 1 if fraud_Prob>0.1 else 0\n",
    "y_test_adasyn_df['final_predicted'] = y_test_adasyn_df.fraud_Prob.map( lambda x: 1 if x > 0.5 else 0)"
   ]
  },
  {
   "cell_type": "markdown",
   "metadata": {},
   "source": [
    "### Evaluation metrices"
   ]
  },
  {
   "cell_type": "code",
   "execution_count": 200,
   "metadata": {},
   "outputs": [
    {
     "name": "stdout",
     "output_type": "stream",
     "text": [
      "***SKLEARN METRICS***\n",
      "ROC_AUC Score: 0.968720\n",
      "sklearn accuracy score value: 0.665051554837728\n",
      "sklearn recall score value: 0.9647887323943662\n",
      "sklearn precision score value: 0.004765051650377378\n",
      "sklearn F1 score value: 0.009483265842937735\n"
     ]
    }
   ],
   "source": [
    "#Let's see the metices\n",
    "#print (\"AUC Score (Train): %f\" % metrics.roc_auc_score(y_test_over, pred_probs_over))\n",
    "getModelMetrics(y_test_adasyn_df.fraud,y_test_adasyn_df.final_predicted,y_test_adasyn_df.fraud_Prob)"
   ]
  },
  {
   "cell_type": "markdown",
   "metadata": {},
   "source": [
    "### XGBOOST-ADASYN"
   ]
  },
  {
   "cell_type": "code",
   "execution_count": 201,
   "metadata": {},
   "outputs": [
    {
     "name": "stdout",
     "output_type": "stream",
     "text": [
      "\n",
      "Model Report\n",
      "AUC Score (Train): 0.999996\n",
      "Accuracy : 0.9998\n",
      "Recall/Sensitivity : 1\n",
      "Precision: 0.9996\n"
     ]
    }
   ],
   "source": [
    "modelxgb_adasyn = XGBClassifier(silent=False, \n",
    "                      scale_pos_weight=1,\n",
    "                     learning_rate=0.15,  \n",
    "                     colsample_bytree = 0.4,\n",
    "                      subsample = 0.8,\n",
    "                      objective='binary:logistic', \n",
    "                      n_estimators=100, \n",
    "                      min_child_weight=6,\n",
    "                      reg_alpha = 0.3,\n",
    "                      max_depth=8, \n",
    "                      gamma=0.3)\n",
    "\n",
    "modelfit(modelxgb_adasyn,X_train_adasyn, y_train_adasyn)"
   ]
  },
  {
   "cell_type": "code",
   "execution_count": 202,
   "metadata": {},
   "outputs": [
    {
     "name": "stdout",
     "output_type": "stream",
     "text": [
      "***SKLEARN METRICS***\n",
      "ROC_AUC Score: 0.966319\n",
      "sklearn accuracy score value: 0.9985838512224524\n",
      "sklearn recall score value: 0.8098591549295775\n",
      "sklearn precision score value: 0.5502392344497608\n",
      "sklearn F1 score value: 0.6552706552706552\n"
     ]
    }
   ],
   "source": [
    "# make predictions\n",
    "pred_test= modelxgb_adasyn.predict(X_test)\n",
    "pred_proba_test=modelxgb_adasyn.predict_proba(X_test)[:,1]\n",
    "#Let's check the model metrices.\n",
    "getModelMetrics(y_test,pred_test,pred_proba_test)"
   ]
  },
  {
   "cell_type": "markdown",
   "metadata": {},
   "source": [
    "### StratifiedKFold Cross Validation"
   ]
  },
  {
   "cell_type": "code",
   "execution_count": 203,
   "metadata": {},
   "outputs": [
    {
     "name": "stdout",
     "output_type": "stream",
     "text": [
      "auc_score: 0.99997\n"
     ]
    }
   ],
   "source": [
    "cv = StratifiedKFold(n_splits=5,shuffle=True,random_state=42)\n",
    "scores = cross_val_score(modelxgb_adasyn,X_train_adasyn, y_train_adasyn_df, scoring='roc_auc', cv=cv, n_jobs=-1)\n",
    "score = np.mean(scores)\n",
    "print('auc_score: %.5f' % score)\n"
   ]
  },
  {
   "cell_type": "code",
   "execution_count": 204,
   "metadata": {},
   "outputs": [
    {
     "name": "stdout",
     "output_type": "stream",
     "text": [
      "1 of KFold 5\n",
      "ROC AUC score: 0.9999507085347271\n",
      "2 of KFold 5\n",
      "ROC AUC score: 0.9999842879607862\n",
      "3 of KFold 5\n",
      "ROC AUC score: 0.999975106665926\n",
      "4 of KFold 5\n",
      "ROC AUC score: 0.9999715850128477\n",
      "5 of KFold 5\n",
      "ROC AUC score: 0.9999662216160952\n",
      "\n",
      "mean_auc_score: 0.99997\n"
     ]
    }
   ],
   "source": [
    "#perform cross validation\n",
    "\n",
    "kf = StratifiedKFold(n_splits=5,shuffle=True,random_state=42)\n",
    "pred_test_adasyn_full =0\n",
    "cv_score =[]\n",
    "i=1\n",
    "for train_index,test_index in kf.split(X_train_adasyn,y_train_adasyn_df):\n",
    "    print('{} of KFold {}'.format(i,kf.n_splits))\n",
    "    X_train_adasyn_cv,X_test_adasyn_cv = X_train_adasyn.loc[train_index],X_train_adasyn.loc[test_index]\n",
    "    y_train_adasyn_cv,y_test_adasyn_cv = y_train_adasyn_df.loc[train_index],y_train_adasyn_df.loc[test_index]\n",
    "    modelxgb_adasyn.fit(X_train_adasyn_cv,y_train_adasyn_cv)\n",
    "    score = metrics.roc_auc_score(y_test_adasyn_cv,modelxgb_adasyn.predict_proba(X_test_adasyn_cv)[:,1])\n",
    "    print('ROC AUC score:',score)\n",
    "    cv_score.append(score)    \n",
    "    pred_test_adasyn = modelxgb_adasyn.predict_proba(X_test)[:,1]\n",
    "    pred_test_adasyn_full +=pred_test_adasyn\n",
    "    i+=1\n",
    "    \n",
    "print('\\nmean_auc_score: %.5f' % np.mean(cv_score))    "
   ]
  },
  {
   "cell_type": "markdown",
   "metadata": {},
   "source": [
    "### Predicting on test data"
   ]
  },
  {
   "cell_type": "code",
   "execution_count": 205,
   "metadata": {},
   "outputs": [],
   "source": [
    "pred_probs_adasyn = pred_test_adasyn_full/5\n",
    "y_test_adasyn_df= pd.DataFrame({'fraud':y_test, 'fraud_Prob':pred_probs_adasyn})\n",
    "# Creating new column 'predicted' with 1 if fraud_Prob>0.1 else 0\n",
    "y_test_adasyn_df['final_predicted'] = y_test_adasyn_df.fraud_Prob.map( lambda x: 1 if x > 0.5 else 0)"
   ]
  },
  {
   "cell_type": "markdown",
   "metadata": {},
   "source": [
    "### Evaluation metrices"
   ]
  },
  {
   "cell_type": "code",
   "execution_count": 206,
   "metadata": {},
   "outputs": [
    {
     "name": "stdout",
     "output_type": "stream",
     "text": [
      "***SKLEARN METRICS***\n",
      "ROC_AUC Score: 0.968616\n",
      "sklearn accuracy score value: 0.9944992568144845\n",
      "sklearn recall score value: 0.8450704225352113\n",
      "sklearn precision score value: 0.2112676056338028\n",
      "sklearn F1 score value: 0.33802816901408456\n"
     ]
    }
   ],
   "source": [
    "#Let's see the metices\n",
    "#print (\"AUC Score (Train): %f\" % metrics.roc_auc_score(y_test_over, pred_probs_over))\n",
    "getModelMetrics(y_test_adasyn_df.fraud,y_test_adasyn_df.final_predicted,y_test_adasyn_df.fraud_Prob)"
   ]
  },
  {
   "cell_type": "markdown",
   "metadata": {},
   "source": [
    "### Select the oversampling method which shows the best result on a model\n",
    "- Apply the best hyperparameter on the model\n",
    "- Predict on the test dataset"
   ]
  },
  {
   "cell_type": "raw",
   "metadata": {},
   "source": [
    "mean_AUC_SCORE\t      OverSampling\t\t   SMOTE \t\t         ADASYN\t\n",
    "\t                  TRAIN\tTEST\t    TRAIN\tTEST\t         TRAIN\tTEST\n",
    "Logistic Regression\t0.99003\t0.972806\t0.99117\t0.972629\t0.96865\t0.969528\n",
    "Decision Tree\t    0.9844\t0.925239\t0.98682\t0.956777\t0.97096\t0.956229\n",
    "Random Forest\t    0.99998\t0.9592\t    0.9984\t0.976742\t0.99698\t0.96872\n",
    "XGBoost\t            0.9999\t0.9845\t    0.9991\t0.972219\t0.99762\t0.968616\n"
   ]
  },
  {
   "cell_type": "markdown",
   "metadata": {},
   "source": [
    "### perform the best oversampling method on X_train & y_train\n"
   ]
  },
  {
   "cell_type": "raw",
   "metadata": {},
   "source": [
    "from imblearn import over_sampling \n",
    "sm = over_sampling.SMOTE(random_state=0)\n",
    "X_train_bal_sm, y_train_bal_sm = sm.fit_resample(X_train, y_train)\n",
    "X_train_bal_sm = pd.DataFrame(X_train_bal_sm, columns=X_train.columns)\n",
    "y_train_bal_sm_df = pd.DataFrame(y_train_bal_sm)"
   ]
  },
  {
   "cell_type": "raw",
   "metadata": {},
   "source": [
    "### HYPER PARAMETER TUNING on RANDOM FOREST-SMOTE BALANCED DATASET"
   ]
  },
  {
   "cell_type": "raw",
   "metadata": {},
   "source": [
    "# Create the parameter grid based on the results of random search \n",
    "param_grid = {\n",
    "    'max_depth': range(5,25,3),\n",
    "    'min_samples_leaf': range(10, 200, 20),\n",
    "    'min_samples_split': range(10, 400, 20),\n",
    "    'max_features': [8,10,15]\n",
    "}"
   ]
  },
  {
   "cell_type": "raw",
   "metadata": {},
   "source": [
    "# Create a based model\n",
    "model = \n",
    "# Instantiate the grid search model\n",
    "grid_search_rf = RandomSearchCV(estimator = model, param_distribution = param_grid, \n",
    "                          cv = 3, n_jobs = 4,verbose = 1,scoring=\"roc_auc\")"
   ]
  },
  {
   "cell_type": "raw",
   "metadata": {},
   "source": [
    "# Fit the grid search to the data\n",
    "grid_search_rf.fit(X_train_bal_sm, y_train_bal_sm)"
   ]
  },
  {
   "cell_type": "raw",
   "metadata": {},
   "source": [
    "# printing the optimal accuracy score and hyperparameters\n",
    "print('We can get recall of',grid_search_rf.best_score_,'using',grid_search_rf.best_params_)"
   ]
  },
  {
   "cell_type": "raw",
   "metadata": {},
   "source": [
    "# model with the best hyperparameters\n",
    "rf_smote_hpt = RandomForestClassifier(class_weight='balanced',\n",
    "                             max_depth=20,\n",
    "                             min_samples_leaf=10, \n",
    "                             min_samples_split=10,\n",
    "                             max_features=15,\n",
    "                             random_state=10)"
   ]
  },
  {
   "cell_type": "markdown",
   "metadata": {},
   "source": [
    "### XGBOOST with Random oversampling performed best on the dataset with \n",
    "#### Training accuracy -0.999\n",
    "#### Test accuracy - 0.9845\n"
   ]
  },
  {
   "cell_type": "code",
   "execution_count": 207,
   "metadata": {},
   "outputs": [],
   "source": [
    "from imblearn import over_sampling #- \n",
    "from imblearn.over_sampling import RandomOverSampler\n",
    "sm = RandomOverSampler(sampling_strategy='minority')\n",
    "# fit and apply the transform\n",
    "X_train_bal_sm, y_train_bal_sm = sm.fit_resample(X_train, y_train)\n",
    "X_train_bal_sm = pd.DataFrame(X_train_bal_sm, columns=X_train.columns)\n",
    "y_train_bal_sm_df = pd.DataFrame(y_train_bal_sm)\n",
    "\n"
   ]
  },
  {
   "cell_type": "markdown",
   "metadata": {},
   "source": [
    "### HYper parameter Tuning on XGBOOST Random Sampling"
   ]
  },
  {
   "cell_type": "code",
   "execution_count": 208,
   "metadata": {},
   "outputs": [],
   "source": [
    "# Create the parameter grid based on the results of random search \n",
    "param_grid = {\n",
    "    'learning_rate' : [0.05, 0.10, 0.15, 0.20, 0.25, 0.30 ] ,\n",
    "    'max_depth':range(3,10,3),\n",
    "     'min_child_weight':[1,4,6,8,10,12],\n",
    "     'subsample' :[i/10.0 for i in range(4,10)],\n",
    "     'reg_alpha':[0, 0.001, 0.005, 0.01, 0.05],\n",
    "     'gamma':[i/10.0 for i in range(1,5)],\n",
    "     #'n_estimators' : [100,120,150]\n",
    "     'colsample_bytree' : [ 0.3, 0.4, 0.5 , 0.7 ]}\n",
    "# Create a based model\n",
    "model = XGBClassifier(silent=False, \n",
    "                      scale_pos_weight=1,\n",
    "                      learning_rate=0.01,  \n",
    "                      colsample_bytree = 0.4,\n",
    "                      subsample = 0.8,\n",
    "                      objective='binary:logistic', \n",
    "                      n_estimators=100, \n",
    "                      min_child_weight=6,\n",
    "                      reg_alpha = 0.3,\n",
    "                      max_depth=4, \n",
    "                      gamma=10)\n",
    "\n",
    "# Instantiate the grid search model\n",
    "grid_search = RandomizedSearchCV(estimator = model, param_distributions = param_grid, \n",
    "                            cv = 3, n_jobs = 4,verbose = 1,scoring=\"roc_auc\")"
   ]
  },
  {
   "cell_type": "code",
   "execution_count": 209,
   "metadata": {
    "scrolled": true
   },
   "outputs": [
    {
     "name": "stdout",
     "output_type": "stream",
     "text": [
      "Fitting 3 folds for each of 10 candidates, totalling 30 fits\n"
     ]
    },
    {
     "name": "stderr",
     "output_type": "stream",
     "text": [
      "[Parallel(n_jobs=4)]: Using backend LokyBackend with 4 concurrent workers.\n",
      "[Parallel(n_jobs=4)]: Done  30 out of  30 | elapsed:  9.4min finished\n"
     ]
    },
    {
     "data": {
      "text/plain": [
       "RandomizedSearchCV(cv=3, error_score='raise-deprecating',\n",
       "          estimator=XGBClassifier(base_score=0.5, booster='gbtree', colsample_bylevel=1,\n",
       "       colsample_bynode=1, colsample_bytree=0.4, gamma=10,\n",
       "       learning_rate=0.01, max_delta_step=0, max_depth=4,\n",
       "       min_child_weight=6, missing=None, n_estimators=100, n_jobs=1,\n",
       "       nthread=None, objective='binary:logistic', random_state=0,\n",
       "       reg_alpha=0.3, reg_lambda=1, scale_pos_weight=1, seed=None,\n",
       "       silent=False, subsample=0.8, verbosity=1),\n",
       "          fit_params=None, iid='warn', n_iter=10, n_jobs=4,\n",
       "          param_distributions={'learning_rate': [0.05, 0.1, 0.15, 0.2, 0.25, 0.3], 'max_depth': range(3, 10, 3), 'min_child_weight': [1, 4, 6, 8, 10, 12], 'subsample': [0.4, 0.5, 0.6, 0.7, 0.8, 0.9], 'reg_alpha': [0, 0.001, 0.005, 0.01, 0.05], 'gamma': [0.1, 0.2, 0.3, 0.4], 'colsample_bytree': [0.3, 0.4, 0.5, 0.7]},\n",
       "          pre_dispatch='2*n_jobs', random_state=None, refit=True,\n",
       "          return_train_score='warn', scoring='roc_auc', verbose=1)"
      ]
     },
     "execution_count": 209,
     "metadata": {},
     "output_type": "execute_result"
    }
   ],
   "source": [
    "# Fit the grid search to the data\n",
    "grid_search.fit(X_train_bal_sm, y_train_bal_sm)"
   ]
  },
  {
   "cell_type": "code",
   "execution_count": 210,
   "metadata": {},
   "outputs": [
    {
     "name": "stdout",
     "output_type": "stream",
     "text": [
      "We can get score of 0.9999881034138055 using {'subsample': 0.5, 'reg_alpha': 0.005, 'min_child_weight': 4, 'max_depth': 9, 'learning_rate': 0.15, 'gamma': 0.1, 'colsample_bytree': 0.3}\n"
     ]
    }
   ],
   "source": [
    "# printing the optimal accuracy score and hyperparameters\n",
    "print('We can get score of',grid_search.best_score_,'using',grid_search.best_params_)"
   ]
  },
  {
   "cell_type": "code",
   "execution_count": 211,
   "metadata": {},
   "outputs": [],
   "source": [
    "learning_rate_best=grid_search.best_params_.get('learning_rate')\n",
    "max_depth_best=grid_search.best_params_.get('max_depth')\n",
    "min_child_weight_best=grid_search.best_params_.get('min_child_weight')\n",
    "subsample_best=grid_search.best_params_.get('subsample')\n",
    "reg_alpha_best=grid_search.best_params_.get('reg_alpha')\n",
    "#n_estimators_best=grid_search.best_params_.get('n_estimators')\n",
    "gamma_best=grid_search.best_params_.get('gamma')\n",
    "colsample_bytree_best=grid_search.best_params_.get('colsample_bytree')\n",
    "\n"
   ]
  },
  {
   "cell_type": "code",
   "execution_count": 212,
   "metadata": {},
   "outputs": [],
   "source": [
    "final_model = XGBClassifier(silent=False, \n",
    "                      scale_pos_weight=1,\n",
    "                     learning_rate=learning_rate_best,  \n",
    "                     colsample_bytree = colsample_bytree_best,\n",
    "                      subsample =subsample_best,\n",
    "                      objective='binary:logistic', \n",
    "                      n_estimators=100,#n_estimators_best, \n",
    "                      min_child_weight=min_child_weight_best,\n",
    "                      reg_alpha = reg_alpha_best,\n",
    "                      max_depth=max_depth_best, \n",
    "                      gamma=gamma_best)\n"
   ]
  },
  {
   "cell_type": "code",
   "execution_count": null,
   "metadata": {},
   "outputs": [],
   "source": []
  },
  {
   "cell_type": "markdown",
   "metadata": {},
   "source": [
    "#### Random Forest on SMOTE balanced dataset with best hyper parameters"
   ]
  },
  {
   "cell_type": "code",
   "execution_count": 213,
   "metadata": {},
   "outputs": [
    {
     "data": {
      "text/plain": [
       "XGBClassifier(base_score=0.5, booster='gbtree', colsample_bylevel=1,\n",
       "       colsample_bynode=1, colsample_bytree=0.3, gamma=0.1,\n",
       "       learning_rate=0.15, max_delta_step=0, max_depth=9,\n",
       "       min_child_weight=4, missing=None, n_estimators=120, n_jobs=1,\n",
       "       nthread=None, objective='binary:logistic', random_state=0,\n",
       "       reg_alpha=0.005, reg_lambda=1, scale_pos_weight=1, seed=None,\n",
       "       silent=False, subsample=0.5, verbosity=1)"
      ]
     },
     "execution_count": 213,
     "metadata": {},
     "output_type": "execute_result"
    }
   ],
   "source": [
    "# perform the best oversampling method on X_train & y_train\n",
    "\n",
    "clf = final_model  #initialise the model with optimum hyperparameters\n",
    "clf.fit(X_train_bal_sm,y_train_bal_sm) # fit on the balanced dataset\n"
   ]
  },
  {
   "cell_type": "markdown",
   "metadata": {},
   "source": [
    "### TRAINING ACCURACY"
   ]
  },
  {
   "cell_type": "code",
   "execution_count": 214,
   "metadata": {},
   "outputs": [],
   "source": [
    "# make predictions\n",
    "pred_train = clf.predict(X_train_bal_sm)\n",
    "pred_proba_train=clf.predict_proba(X_train_bal_sm)[:,1]"
   ]
  },
  {
   "cell_type": "code",
   "execution_count": 215,
   "metadata": {},
   "outputs": [
    {
     "name": "stdout",
     "output_type": "stream",
     "text": [
      "***SKLEARN METRICS***\n",
      "ROC_AUC Score: 1.000000\n",
      "sklearn accuracy score value: 0.9999547770508608\n",
      "sklearn recall score value: 1.0\n",
      "sklearn precision score value: 0.9999095622814422\n",
      "sklearn F1 score value: 0.9999547790958834\n"
     ]
    }
   ],
   "source": [
    "#print the evaluation score on the X_test by choosing the best evaluation metric.\n",
    "getModelMetrics(y_train_bal_sm,pred_train,pred_proba_train)"
   ]
  },
  {
   "cell_type": "markdown",
   "metadata": {},
   "source": [
    "### TEST ACCURACY"
   ]
  },
  {
   "cell_type": "code",
   "execution_count": 216,
   "metadata": {},
   "outputs": [],
   "source": [
    "# make predictions\n",
    "pred_test = clf.predict(X_test)\n",
    "pred_proba_test=clf.predict_proba(X_test)[:,1]"
   ]
  },
  {
   "cell_type": "code",
   "execution_count": 217,
   "metadata": {},
   "outputs": [
    {
     "name": "stdout",
     "output_type": "stream",
     "text": [
      "***SKLEARN METRICS***\n",
      "ROC_AUC Score: 0.978409\n",
      "sklearn accuracy score value: 0.9993328885923949\n",
      "sklearn recall score value: 0.8028169014084507\n",
      "sklearn precision score value: 0.7972027972027972\n",
      "sklearn F1 score value: 0.8\n"
     ]
    }
   ],
   "source": [
    "#print the evaluation score on the X_test by choosing the best evaluation metric.\n",
    "getModelMetrics(y_test,pred_test,pred_proba_test)"
   ]
  },
  {
   "cell_type": "markdown",
   "metadata": {},
   "source": [
    "### predict with kfold"
   ]
  },
  {
   "cell_type": "code",
   "execution_count": 218,
   "metadata": {},
   "outputs": [
    {
     "name": "stdout",
     "output_type": "stream",
     "text": [
      "1 of KFold 5\n",
      "ROC AUC score: 0.9999693210565439\n",
      "2 of KFold 5\n",
      "ROC AUC score: 0.9999975780778116\n",
      "3 of KFold 5\n",
      "ROC AUC score: 0.9999868722601843\n",
      "4 of KFold 5\n",
      "ROC AUC score: 0.9999868085087794\n",
      "5 of KFold 5\n",
      "ROC AUC score: 0.9999879364918555\n",
      "\n",
      "mean_auc_score: 0.99999\n"
     ]
    }
   ],
   "source": [
    "#perform cross validation\n",
    "#clf=rf_smote_hpt\n",
    "kf = StratifiedKFold(n_splits=5,shuffle=True,random_state=42)\n",
    "pred_prob_final_full =0\n",
    "cv_score =[]\n",
    "i=1\n",
    "for train_index,test_index in kf.split(X_train_bal_sm,y_train_bal_sm_df):\n",
    "    print('{} of KFold {}'.format(i,kf.n_splits))\n",
    "    X_train_bal_sm_cv,X_test_bal_sm_cv = X_train_bal_sm.loc[train_index],X_train_bal_sm.loc[test_index]\n",
    "    y_train_bal_sm_cv,y_test_bal_sm_cv = y_train_bal_sm_df.loc[train_index],y_train_bal_sm_df.loc[test_index]\n",
    "    clf.fit(X_train_bal_sm_cv,y_train_bal_sm_cv)\n",
    "    score = metrics.roc_auc_score(y_test_bal_sm_cv,clf.predict_proba(X_test_bal_sm_cv)[:,1])\n",
    "    print('ROC AUC score:',score)\n",
    "    cv_score.append(score)    \n",
    "    pred_prob_final = clf.predict_proba(X_test)[:,1]\n",
    "    pred_prob_final_full +=pred_prob_final\n",
    "    i+=1\n",
    "    \n",
    "print('\\nmean_auc_score: %.5f' % np.mean(cv_score))    "
   ]
  },
  {
   "cell_type": "markdown",
   "metadata": {},
   "source": [
    "### Predicting on test data"
   ]
  },
  {
   "cell_type": "code",
   "execution_count": 219,
   "metadata": {},
   "outputs": [],
   "source": [
    "pred_test_final = pred_prob_final_full/5\n",
    "y_test_final_df= pd.DataFrame({'fraud':y_test, 'fraud_Prob':pred_test_final})\n",
    "# Creating new column 'predicted' with 1 if fraud_Prob>0.1 else 0\n",
    "y_test_final_df['final_predicted'] = y_test_final_df.fraud_Prob.map( lambda x: 1 if x > 0.5 else 0)"
   ]
  },
  {
   "cell_type": "markdown",
   "metadata": {},
   "source": [
    "### Evaluation metrices"
   ]
  },
  {
   "cell_type": "code",
   "execution_count": 220,
   "metadata": {},
   "outputs": [
    {
     "name": "stdout",
     "output_type": "stream",
     "text": [
      "***SKLEARN METRICS***\n",
      "ROC_AUC Score: 0.981122\n",
      "sklearn accuracy score value: 0.9993328885923949\n",
      "sklearn recall score value: 0.8169014084507042\n",
      "sklearn precision score value: 0.7891156462585034\n",
      "sklearn F1 score value: 0.8027681660899654\n"
     ]
    }
   ],
   "source": [
    "#Let's see the metices\n",
    "#print (\"AUC Score (Train): %f\" % metrics.roc_auc_score(y_test_over, pred_probs_over))\n",
    "getModelMetrics(y_test_final_df.fraud,y_test_final_df.final_predicted,y_test_final_df.fraud_Prob)"
   ]
  },
  {
   "cell_type": "markdown",
   "metadata": {},
   "source": [
    "### Print the important features of the best model to understand the dataset"
   ]
  },
  {
   "cell_type": "code",
   "execution_count": 221,
   "metadata": {},
   "outputs": [
    {
     "name": "stdout",
     "output_type": "stream",
     "text": [
      "Top var = 14\n",
      "2nd Top var = 11\n",
      "3rd Top var = 10\n"
     ]
    },
    {
     "data": {
      "text/plain": [
       "<matplotlib.legend.Legend at 0x2bb82403a58>"
      ]
     },
     "execution_count": 221,
     "metadata": {},
     "output_type": "execute_result"
    },
    {
     "data": {
      "image/png": "[encoded data removed]",
      "text/plain": [
       "<Figure size 1440x1440 with 1 Axes>"
      ]
     },
     "metadata": {
      "needs_background": "light"
     },
     "output_type": "display_data"
    }
   ],
   "source": [
    "var_imp = []\n",
    "for i in clf.feature_importances_:\n",
    "    var_imp.append(i)\n",
    "print('Top var =', var_imp.index(np.sort(clf.feature_importances_)[-1])+1)\n",
    "print('2nd Top var =', var_imp.index(np.sort(clf.feature_importances_)[-2])+1)\n",
    "print('3rd Top var =', var_imp.index(np.sort(clf.feature_importances_)[-3])+1)\n",
    "\n",
    "# Variable on Index-13 and Index-9 seems to be the top 2 variables\n",
    "top_var_index = var_imp.index(np.sort(clf.feature_importances_)[-1])\n",
    "second_top_var_index = var_imp.index(np.sort(clf.feature_importances_)[-2])\n",
    "\n",
    "X_train_1 = X_train.to_numpy()[np.where(y_train==1.0)]\n",
    "X_train_0 = X_train.to_numpy()[np.where(y_train==0.0)]\n",
    "\n",
    "np.random.shuffle(X_train_0)\n",
    "\n",
    "import matplotlib.pyplot as plt\n",
    "%matplotlib inline\n",
    "plt.rcParams['figure.figsize'] = [20, 20]\n",
    "\n",
    "plt.scatter(X_train_1[:, top_var_index], X_train_1[:, second_top_var_index], label='Actual Class-1 Examples')\n",
    "plt.scatter(X_train_0[:X_train_1.shape[0], top_var_index], X_train_0[:X_train_1.shape[0], second_top_var_index],\n",
    "            label='Actual Class-0 Examples')\n",
    "plt.legend()"
   ]
  },
  {
   "cell_type": "code",
   "execution_count": null,
   "metadata": {},
   "outputs": [],
   "source": []
  },
  {
   "cell_type": "markdown",
   "metadata": {},
   "source": [
    "### DRAW ROC CURVE with best model"
   ]
  },
  {
   "cell_type": "markdown",
   "metadata": {},
   "source": [
    "#### Print the FPR,TPR & select the best threshold from the roc curve"
   ]
  },
  {
   "cell_type": "code",
   "execution_count": 222,
   "metadata": {},
   "outputs": [
    {
     "name": "stdout",
     "output_type": "stream",
     "text": [
      "Train auc = 0.9999998702993035\n",
      "0.99695826\n"
     ]
    }
   ],
   "source": [
    "print('Train auc =', metrics.roc_auc_score(y_train_bal_sm,pred_proba_train))\n",
    "fpr, tpr, thresholds = metrics.roc_curve(y_train_bal_sm,pred_proba_train)\n",
    "best_threshold = thresholds[np.argmax(tpr-fpr)]\n",
    "print(best_threshold)"
   ]
  },
  {
   "cell_type": "markdown",
   "metadata": {},
   "source": [
    "#### TRAINING ACCURACY AND METRICS"
   ]
  },
  {
   "cell_type": "code",
   "execution_count": 223,
   "metadata": {},
   "outputs": [
    {
     "name": "stdout",
     "output_type": "stream",
     "text": [
      "***SKLEARN METRICS***\n",
      "ROC_AUC Score: 0.999997\n",
      "sklearn accuracy score value: 0.9999447275066076\n",
      "sklearn recall score value: 1.0\n",
      "sklearn precision score value: 0.9998894672320585\n",
      "sklearn F1 score value: 0.9999447305614872\n"
     ]
    },
    {
     "data": {
      "text/html": [
       "<div>\n",
       "<style scoped>\n",
       "    .dataframe tbody tr th:only-of-type {\n",
       "        vertical-align: middle;\n",
       "    }\n",
       "\n",
       "    .dataframe tbody tr th {\n",
       "        vertical-align: top;\n",
       "    }\n",
       "\n",
       "    .dataframe thead th {\n",
       "        text-align: right;\n",
       "    }\n",
       "</style>\n",
       "<table border=\"1\" class=\"dataframe\">\n",
       "  <thead>\n",
       "    <tr style=\"text-align: right;\">\n",
       "      <th></th>\n",
       "      <th>fraud</th>\n",
       "      <th>fraud_Prob</th>\n",
       "      <th>final_predicted</th>\n",
       "    </tr>\n",
       "  </thead>\n",
       "  <tbody>\n",
       "    <tr>\n",
       "      <th>0</th>\n",
       "      <td>0</td>\n",
       "      <td>0.000513</td>\n",
       "      <td>0</td>\n",
       "    </tr>\n",
       "    <tr>\n",
       "      <th>1</th>\n",
       "      <td>0</td>\n",
       "      <td>0.000033</td>\n",
       "      <td>0</td>\n",
       "    </tr>\n",
       "    <tr>\n",
       "      <th>2</th>\n",
       "      <td>0</td>\n",
       "      <td>0.000010</td>\n",
       "      <td>0</td>\n",
       "    </tr>\n",
       "    <tr>\n",
       "      <th>3</th>\n",
       "      <td>0</td>\n",
       "      <td>0.000188</td>\n",
       "      <td>0</td>\n",
       "    </tr>\n",
       "    <tr>\n",
       "      <th>4</th>\n",
       "      <td>0</td>\n",
       "      <td>0.000027</td>\n",
       "      <td>0</td>\n",
       "    </tr>\n",
       "  </tbody>\n",
       "</table>\n",
       "</div>"
      ],
      "text/plain": [
       "   fraud  fraud_Prob  final_predicted\n",
       "0      0    0.000513                0\n",
       "1      0    0.000033                0\n",
       "2      0    0.000010                0\n",
       "3      0    0.000188                0\n",
       "4      0    0.000027                0"
      ]
     },
     "execution_count": 223,
     "metadata": {},
     "output_type": "execute_result"
    }
   ],
   "source": [
    "cut_off_prob=0.5\n",
    "y_train_df = predictFraudWithProb(clf,X_train_bal_sm,y_train_bal_sm,cut_off_prob)\n",
    "y_train_df.head()"
   ]
  },
  {
   "cell_type": "code",
   "execution_count": 224,
   "metadata": {},
   "outputs": [
    {
     "data": {
      "image/png": "[encoded data removed]",
      "text/plain": [
       "<Figure size 432x432 with 1 Axes>"
      ]
     },
     "metadata": {
      "needs_background": "light"
     },
     "output_type": "display_data"
    },
    {
     "data": {
      "text/plain": [
       "(array([0.        , 0.        , 0.        , ..., 0.99998995, 0.99999498,\n",
       "        1.        ]),\n",
       " array([0.        , 0.00281387, 0.00579356, ..., 1.        , 1.        ,\n",
       "        1.        ]),\n",
       " array([1.9999973e+00, 9.9999726e-01, 9.9999690e-01, ..., 1.5462050e-06,\n",
       "        1.4521514e-06, 1.3975942e-06], dtype=float32))"
      ]
     },
     "execution_count": 224,
     "metadata": {},
     "output_type": "execute_result"
    }
   ],
   "source": [
    "draw_roc(y_train_df.fraud, y_train_df.fraud_Prob)"
   ]
  },
  {
   "cell_type": "code",
   "execution_count": 225,
   "metadata": {},
   "outputs": [
    {
     "name": "stdout",
     "output_type": "stream",
     "text": [
      "     prob  accuracy  sensi     speci\n",
      "0.0   0.0  0.500000    1.0  0.000000\n",
      "0.1   0.1  0.999809    1.0  0.999618\n",
      "0.2   0.2  0.999897    1.0  0.999794\n",
      "0.3   0.3  0.999912    1.0  0.999824\n",
      "0.4   0.4  0.999927    1.0  0.999854\n",
      "0.5   0.5  0.999945    1.0  0.999889\n",
      "0.6   0.6  0.999945    1.0  0.999889\n",
      "0.7   0.7  0.999952    1.0  0.999905\n",
      "0.8   0.8  0.999965    1.0  0.999930\n",
      "0.9   0.9  0.999970    1.0  0.999940\n"
     ]
    },
    {
     "data": {
      "image/png": "[encoded data removed]",
      "text/plain": [
       "<Figure size 1440x1440 with 1 Axes>"
      ]
     },
     "metadata": {
      "needs_background": "light"
     },
     "output_type": "display_data"
    }
   ],
   "source": [
    "# finding cut-off with the right balance of the metrices\n",
    "# sensitivity vs specificity trade-off\n",
    "findOptimalCutoff(y_train_df)"
   ]
  },
  {
   "cell_type": "code",
   "execution_count": 226,
   "metadata": {},
   "outputs": [
    {
     "name": "stdout",
     "output_type": "stream",
     "text": [
      "Best threshold 0.99695826\n",
      "***SKLEARN METRICS***\n",
      "ROC_AUC Score: 0.999997\n",
      "sklearn accuracy score value: 0.9999899504557468\n",
      "sklearn recall score value: 1.0\n",
      "sklearn precision score value: 0.9999799013154589\n",
      "sklearn F1 score value: 0.9999899505567391\n"
     ]
    },
    {
     "data": {
      "text/html": [
       "<div>\n",
       "<style scoped>\n",
       "    .dataframe tbody tr th:only-of-type {\n",
       "        vertical-align: middle;\n",
       "    }\n",
       "\n",
       "    .dataframe tbody tr th {\n",
       "        vertical-align: top;\n",
       "    }\n",
       "\n",
       "    .dataframe thead th {\n",
       "        text-align: right;\n",
       "    }\n",
       "</style>\n",
       "<table border=\"1\" class=\"dataframe\">\n",
       "  <thead>\n",
       "    <tr style=\"text-align: right;\">\n",
       "      <th></th>\n",
       "      <th>fraud</th>\n",
       "      <th>fraud_Prob</th>\n",
       "      <th>final_predicted</th>\n",
       "    </tr>\n",
       "  </thead>\n",
       "  <tbody>\n",
       "    <tr>\n",
       "      <th>0</th>\n",
       "      <td>0</td>\n",
       "      <td>0.000513</td>\n",
       "      <td>0</td>\n",
       "    </tr>\n",
       "    <tr>\n",
       "      <th>1</th>\n",
       "      <td>0</td>\n",
       "      <td>0.000033</td>\n",
       "      <td>0</td>\n",
       "    </tr>\n",
       "    <tr>\n",
       "      <th>2</th>\n",
       "      <td>0</td>\n",
       "      <td>0.000010</td>\n",
       "      <td>0</td>\n",
       "    </tr>\n",
       "    <tr>\n",
       "      <th>3</th>\n",
       "      <td>0</td>\n",
       "      <td>0.000188</td>\n",
       "      <td>0</td>\n",
       "    </tr>\n",
       "    <tr>\n",
       "      <th>4</th>\n",
       "      <td>0</td>\n",
       "      <td>0.000027</td>\n",
       "      <td>0</td>\n",
       "    </tr>\n",
       "  </tbody>\n",
       "</table>\n",
       "</div>"
      ],
      "text/plain": [
       "   fraud  fraud_Prob  final_predicted\n",
       "0      0    0.000513                0\n",
       "1      0    0.000033                0\n",
       "2      0    0.000010                0\n",
       "3      0    0.000188                0\n",
       "4      0    0.000027                0"
      ]
     },
     "execution_count": 226,
     "metadata": {},
     "output_type": "execute_result"
    }
   ],
   "source": [
    "# predicting with the choosen cut-off on train\n",
    "cut_off_prob = best_threshold\n",
    "print(\"Best threshold\" ,best_threshold)\n",
    "y_train_pred=predictFraudWithProb(clf,X_train_bal_sm,y_train_bal_sm,cut_off_prob)\n",
    "y_train_pred.head()"
   ]
  },
  {
   "cell_type": "code",
   "execution_count": 255,
   "metadata": {},
   "outputs": [
    {
     "name": "stdout",
     "output_type": "stream",
     "text": [
      "***SKLEARN METRICS***\n",
      "ROC_AUC Score: 0.978714\n",
      "sklearn accuracy score value: 0.9993562960102056\n",
      "sklearn recall score value: 0.6619718309859155\n",
      "sklearn precision score value: 0.9306930693069307\n",
      "sklearn F1 score value: 0.7736625514403292\n"
     ]
    },
    {
     "data": {
      "text/html": [
       "<div>\n",
       "<style scoped>\n",
       "    .dataframe tbody tr th:only-of-type {\n",
       "        vertical-align: middle;\n",
       "    }\n",
       "\n",
       "    .dataframe tbody tr th {\n",
       "        vertical-align: top;\n",
       "    }\n",
       "\n",
       "    .dataframe thead th {\n",
       "        text-align: right;\n",
       "    }\n",
       "</style>\n",
       "<table border=\"1\" class=\"dataframe\">\n",
       "  <thead>\n",
       "    <tr style=\"text-align: right;\">\n",
       "      <th></th>\n",
       "      <th>fraud</th>\n",
       "      <th>fraud_Prob</th>\n",
       "      <th>final_predicted</th>\n",
       "    </tr>\n",
       "  </thead>\n",
       "  <tbody>\n",
       "    <tr>\n",
       "      <th>49089</th>\n",
       "      <td>0</td>\n",
       "      <td>0.000057</td>\n",
       "      <td>0</td>\n",
       "    </tr>\n",
       "    <tr>\n",
       "      <th>154704</th>\n",
       "      <td>0</td>\n",
       "      <td>0.000027</td>\n",
       "      <td>0</td>\n",
       "    </tr>\n",
       "    <tr>\n",
       "      <th>67247</th>\n",
       "      <td>0</td>\n",
       "      <td>0.000030</td>\n",
       "      <td>0</td>\n",
       "    </tr>\n",
       "    <tr>\n",
       "      <th>251657</th>\n",
       "      <td>0</td>\n",
       "      <td>0.000026</td>\n",
       "      <td>0</td>\n",
       "    </tr>\n",
       "    <tr>\n",
       "      <th>201903</th>\n",
       "      <td>0</td>\n",
       "      <td>0.002865</td>\n",
       "      <td>0</td>\n",
       "    </tr>\n",
       "  </tbody>\n",
       "</table>\n",
       "</div>"
      ],
      "text/plain": [
       "        fraud  fraud_Prob  final_predicted\n",
       "49089       0    0.000057                0\n",
       "154704      0    0.000027                0\n",
       "67247       0    0.000030                0\n",
       "251657      0    0.000026                0\n",
       "201903      0    0.002865                0"
      ]
     },
     "execution_count": 255,
     "metadata": {},
     "output_type": "execute_result"
    }
   ],
   "source": [
    "# predicting with the training threshold on test\n",
    "y_test_pred=predictFraudWithProb(clf,X_test,y_test,best_threshold)\n",
    "y_test_pred.head()"
   ]
  },
  {
   "cell_type": "code",
   "execution_count": 256,
   "metadata": {
    "scrolled": false
   },
   "outputs": [
    {
     "name": "stdout",
     "output_type": "stream",
     "text": [
      "***SKLEARN METRICS***\n",
      "ROC_AUC Score: 0.978714\n",
      "sklearn accuracy score value: 0.9993562960102056\n",
      "sklearn recall score value: 0.6619718309859155\n",
      "sklearn precision score value: 0.9306930693069307\n",
      "sklearn F1 score value: 0.7736625514403292\n"
     ]
    }
   ],
   "source": [
    "#Let's see the metices\n",
    "#print (\"AUC Score (Train): %f\" % metrics.roc_auc_score(y_test_over, pred_probs_over))\n",
    "getModelMetrics(y_test_pred.fraud,y_test_pred.final_predicted,y_test_pred.fraud_Prob)"
   ]
  },
  {
   "cell_type": "markdown",
   "metadata": {},
   "source": [
    "#### Recall  Not good  for test data at this threshold"
   ]
  },
  {
   "cell_type": "markdown",
   "metadata": {},
   "source": [
    "### Predicting on test data with cutoff- 0.5"
   ]
  },
  {
   "cell_type": "code",
   "execution_count": 257,
   "metadata": {},
   "outputs": [],
   "source": [
    "pred_probs_final = pred_prob_final_full/5\n",
    "y_test_final_df= pd.DataFrame({'fraud':y_test, 'fraud_Prob':pred_probs_final})\n",
    "# Creating new column 'predicted' with 1 if fraud_Prob>0.1 else 0\n",
    "y_test_final_df['final_predicted'] = y_test_final_df.fraud_Prob.map( lambda x: 1 if x > 0.5 else 0)"
   ]
  },
  {
   "cell_type": "code",
   "execution_count": 258,
   "metadata": {},
   "outputs": [
    {
     "data": {
      "text/plain": [
       "(85443,)"
      ]
     },
     "execution_count": 258,
     "metadata": {},
     "output_type": "execute_result"
    }
   ],
   "source": [
    "pred_probs_final.shape"
   ]
  },
  {
   "cell_type": "code",
   "execution_count": 259,
   "metadata": {},
   "outputs": [
    {
     "data": {
      "text/plain": [
       "(85443, 29)"
      ]
     },
     "execution_count": 259,
     "metadata": {},
     "output_type": "execute_result"
    }
   ],
   "source": [
    "X_test.shape"
   ]
  },
  {
   "cell_type": "code",
   "execution_count": 260,
   "metadata": {},
   "outputs": [
    {
     "data": {
      "text/plain": [
       "(85443,)"
      ]
     },
     "execution_count": 260,
     "metadata": {},
     "output_type": "execute_result"
    }
   ],
   "source": [
    "y_test.shape"
   ]
  },
  {
   "cell_type": "markdown",
   "metadata": {},
   "source": [
    "### Evaluation metrices"
   ]
  },
  {
   "cell_type": "code",
   "execution_count": 261,
   "metadata": {
    "scrolled": false
   },
   "outputs": [
    {
     "name": "stdout",
     "output_type": "stream",
     "text": [
      "***SKLEARN METRICS***\n",
      "ROC_AUC Score: 0.981122\n",
      "sklearn accuracy score value: 0.9993328885923949\n",
      "sklearn recall score value: 0.8169014084507042\n",
      "sklearn precision score value: 0.7891156462585034\n",
      "sklearn F1 score value: 0.8027681660899654\n"
     ]
    }
   ],
   "source": [
    "#Let's see the metices\n",
    "#print (\"AUC Score (Train): %f\" % metrics.roc_auc_score(y_test_over, pred_probs_over))\n",
    "getModelMetrics(y_test_final_df.fraud,y_test_final_df.final_predicted,y_test_final_df.fraud_Prob)"
   ]
  },
  {
   "cell_type": "code",
   "execution_count": 262,
   "metadata": {},
   "outputs": [
    {
     "name": "stdout",
     "output_type": "stream",
     "text": [
      "[[85270    31]\n",
      " [   26   116]]\n"
     ]
    }
   ],
   "source": [
    "confusion = metrics.confusion_matrix(y_test_final_df.fraud,y_test_final_df.final_predicted)\n",
    "print(confusion)\n",
    "\n",
    "TP = confusion[1,1] # true positive \n",
    "TN = confusion[0,0] # true negatives\n",
    "FP = confusion[0,1] # false positives\n",
    "FN = confusion[1,0] # false negatives\n"
   ]
  },
  {
   "cell_type": "markdown",
   "metadata": {},
   "source": [
    "## Cost-Benefit Analysis"
   ]
  },
  {
   "cell_type": "raw",
   "metadata": {},
   "source": [
    "\n",
    "After finding the best evaluation score on the test data, you have to find how much cost you are saving from the final predictive model.\n",
    "\n",
    "From your confusion matrix, find total fraud predictions that the model has made (TP + FP).\n",
    "For all the predictions, the bank has to call to verify whether the prediction was right or not. (Take ₹ 10/call for the bank)\n",
    "The savings will be the total amount of correct predictions made: TP x Cost of each transaction which is correctly predicted.\n",
    "The loss will be the total amount of incorrect predictions made: FN x Cost of each transaction which is incorrectly predicted.\n",
    "So the total savings= (TP x cost of each transaction (correct predictions) -[ (TP+FP) x 10 + FN x Cost of all transactions (incorrect predictions)] )\n"
   ]
  },
  {
   "cell_type": "code",
   "execution_count": 263,
   "metadata": {},
   "outputs": [
    {
     "name": "stdout",
     "output_type": "stream",
     "text": [
      "[[85270    31]\n",
      " [   26   116]]\n"
     ]
    }
   ],
   "source": [
    "confusion = metrics.confusion_matrix(y_test_final_df.fraud,y_test_final_df.final_predicted)\n",
    "print(confusion)\n",
    "\n",
    "TP = confusion[1,1] # true positive \n",
    "TN = confusion[0,0] # true negatives\n",
    "FP = confusion[0,1] # false positives\n",
    "FN = confusion[1,0] # false negatives\n"
   ]
  },
  {
   "cell_type": "code",
   "execution_count": 264,
   "metadata": {},
   "outputs": [
    {
     "name": "stdout",
     "output_type": "stream",
     "text": [
      "Total fraud predictions (TP + FP): 147\n"
     ]
    }
   ],
   "source": [
    "print(\"Total fraud predictions (TP + FP):\", TP+FP)"
   ]
  },
  {
   "cell_type": "markdown",
   "metadata": {},
   "source": [
    "#### total savings= (TP x cost of each transaction (correct predictions) -[ (TP+FP) x 10 + FN x Cost of all transactions (incorrect predictions)] "
   ]
  },
  {
   "cell_type": "markdown",
   "metadata": {
    "scrolled": true
   },
   "source": [
    "#### Final dataset"
   ]
  },
  {
   "cell_type": "code",
   "execution_count": 235,
   "metadata": {},
   "outputs": [
    {
     "data": {
      "text/html": [
       "<div>\n",
       "<style scoped>\n",
       "    .dataframe tbody tr th:only-of-type {\n",
       "        vertical-align: middle;\n",
       "    }\n",
       "\n",
       "    .dataframe tbody tr th {\n",
       "        vertical-align: top;\n",
       "    }\n",
       "\n",
       "    .dataframe thead th {\n",
       "        text-align: right;\n",
       "    }\n",
       "</style>\n",
       "<table border=\"1\" class=\"dataframe\">\n",
       "  <thead>\n",
       "    <tr style=\"text-align: right;\">\n",
       "      <th></th>\n",
       "      <th>fraud</th>\n",
       "      <th>fraud_Prob</th>\n",
       "      <th>final_predicted</th>\n",
       "    </tr>\n",
       "  </thead>\n",
       "  <tbody>\n",
       "    <tr>\n",
       "      <th>49089</th>\n",
       "      <td>0</td>\n",
       "      <td>0.000061</td>\n",
       "      <td>0</td>\n",
       "    </tr>\n",
       "    <tr>\n",
       "      <th>154704</th>\n",
       "      <td>0</td>\n",
       "      <td>0.000069</td>\n",
       "      <td>0</td>\n",
       "    </tr>\n",
       "    <tr>\n",
       "      <th>67247</th>\n",
       "      <td>0</td>\n",
       "      <td>0.000042</td>\n",
       "      <td>0</td>\n",
       "    </tr>\n",
       "    <tr>\n",
       "      <th>251657</th>\n",
       "      <td>0</td>\n",
       "      <td>0.000037</td>\n",
       "      <td>0</td>\n",
       "    </tr>\n",
       "    <tr>\n",
       "      <th>201903</th>\n",
       "      <td>0</td>\n",
       "      <td>0.003993</td>\n",
       "      <td>0</td>\n",
       "    </tr>\n",
       "  </tbody>\n",
       "</table>\n",
       "</div>"
      ],
      "text/plain": [
       "        fraud  fraud_Prob  final_predicted\n",
       "49089       0    0.000061                0\n",
       "154704      0    0.000069                0\n",
       "67247       0    0.000042                0\n",
       "251657      0    0.000037                0\n",
       "201903      0    0.003993                0"
      ]
     },
     "execution_count": 235,
     "metadata": {},
     "output_type": "execute_result"
    }
   ],
   "source": [
    "y_test_final_df.head()"
   ]
  },
  {
   "cell_type": "code",
   "execution_count": 236,
   "metadata": {},
   "outputs": [],
   "source": [
    "y_test_final_df['Amount']=test_amount_df"
   ]
  },
  {
   "cell_type": "code",
   "execution_count": 237,
   "metadata": {},
   "outputs": [
    {
     "data": {
      "text/html": [
       "<div>\n",
       "<style scoped>\n",
       "    .dataframe tbody tr th:only-of-type {\n",
       "        vertical-align: middle;\n",
       "    }\n",
       "\n",
       "    .dataframe tbody tr th {\n",
       "        vertical-align: top;\n",
       "    }\n",
       "\n",
       "    .dataframe thead th {\n",
       "        text-align: right;\n",
       "    }\n",
       "</style>\n",
       "<table border=\"1\" class=\"dataframe\">\n",
       "  <thead>\n",
       "    <tr style=\"text-align: right;\">\n",
       "      <th></th>\n",
       "      <th>fraud</th>\n",
       "      <th>fraud_Prob</th>\n",
       "      <th>final_predicted</th>\n",
       "      <th>Amount</th>\n",
       "    </tr>\n",
       "  </thead>\n",
       "  <tbody>\n",
       "    <tr>\n",
       "      <th>count</th>\n",
       "      <td>85443.000000</td>\n",
       "      <td>85443.000000</td>\n",
       "      <td>85443.000000</td>\n",
       "      <td>85443.000000</td>\n",
       "    </tr>\n",
       "    <tr>\n",
       "      <th>mean</th>\n",
       "      <td>0.001662</td>\n",
       "      <td>0.001930</td>\n",
       "      <td>0.001720</td>\n",
       "      <td>87.028563</td>\n",
       "    </tr>\n",
       "    <tr>\n",
       "      <th>std</th>\n",
       "      <td>0.040733</td>\n",
       "      <td>0.040080</td>\n",
       "      <td>0.041443</td>\n",
       "      <td>250.746101</td>\n",
       "    </tr>\n",
       "    <tr>\n",
       "      <th>min</th>\n",
       "      <td>0.000000</td>\n",
       "      <td>0.000002</td>\n",
       "      <td>0.000000</td>\n",
       "      <td>0.000000</td>\n",
       "    </tr>\n",
       "    <tr>\n",
       "      <th>25%</th>\n",
       "      <td>0.000000</td>\n",
       "      <td>0.000022</td>\n",
       "      <td>0.000000</td>\n",
       "      <td>5.520000</td>\n",
       "    </tr>\n",
       "    <tr>\n",
       "      <th>50%</th>\n",
       "      <td>0.000000</td>\n",
       "      <td>0.000043</td>\n",
       "      <td>0.000000</td>\n",
       "      <td>21.900000</td>\n",
       "    </tr>\n",
       "    <tr>\n",
       "      <th>75%</th>\n",
       "      <td>0.000000</td>\n",
       "      <td>0.000100</td>\n",
       "      <td>0.000000</td>\n",
       "      <td>76.070000</td>\n",
       "    </tr>\n",
       "    <tr>\n",
       "      <th>max</th>\n",
       "      <td>1.000000</td>\n",
       "      <td>0.999995</td>\n",
       "      <td>1.000000</td>\n",
       "      <td>25691.160000</td>\n",
       "    </tr>\n",
       "  </tbody>\n",
       "</table>\n",
       "</div>"
      ],
      "text/plain": [
       "              fraud    fraud_Prob  final_predicted        Amount\n",
       "count  85443.000000  85443.000000     85443.000000  85443.000000\n",
       "mean       0.001662      0.001930         0.001720     87.028563\n",
       "std        0.040733      0.040080         0.041443    250.746101\n",
       "min        0.000000      0.000002         0.000000      0.000000\n",
       "25%        0.000000      0.000022         0.000000      5.520000\n",
       "50%        0.000000      0.000043         0.000000     21.900000\n",
       "75%        0.000000      0.000100         0.000000     76.070000\n",
       "max        1.000000      0.999995         1.000000  25691.160000"
      ]
     },
     "execution_count": 237,
     "metadata": {},
     "output_type": "execute_result"
    }
   ],
   "source": [
    "y_test_final_df.describe()"
   ]
  },
  {
   "cell_type": "code",
   "execution_count": 238,
   "metadata": {},
   "outputs": [
    {
     "data": {
      "text/plain": [
       "(142, 4)"
      ]
     },
     "execution_count": 238,
     "metadata": {},
     "output_type": "execute_result"
    }
   ],
   "source": [
    "y_test_final_df[y_test_final_df.fraud==1].shape"
   ]
  },
  {
   "cell_type": "code",
   "execution_count": 239,
   "metadata": {},
   "outputs": [
    {
     "data": {
      "text/plain": [
       "142"
      ]
     },
     "execution_count": 239,
     "metadata": {},
     "output_type": "execute_result"
    }
   ],
   "source": [
    "y_test.sum()"
   ]
  },
  {
   "cell_type": "code",
   "execution_count": 240,
   "metadata": {},
   "outputs": [
    {
     "data": {
      "text/plain": [
       "(147, 4)"
      ]
     },
     "execution_count": 240,
     "metadata": {},
     "output_type": "execute_result"
    }
   ],
   "source": [
    "y_test_final_df[y_test_final_df.final_predicted==1].shape"
   ]
  },
  {
   "cell_type": "markdown",
   "metadata": {},
   "source": [
    "#### TOTAL OR ACTUAL FRAUD"
   ]
  },
  {
   "cell_type": "code",
   "execution_count": 241,
   "metadata": {},
   "outputs": [],
   "source": [
    "Total_fraud=y_test_final_df[(y_test_final_df.fraud==1)]"
   ]
  },
  {
   "cell_type": "code",
   "execution_count": 242,
   "metadata": {},
   "outputs": [
    {
     "data": {
      "text/plain": [
       "(142, 4)"
      ]
     },
     "execution_count": 242,
     "metadata": {},
     "output_type": "execute_result"
    }
   ],
   "source": [
    "Total_fraud.shape"
   ]
  },
  {
   "cell_type": "code",
   "execution_count": 243,
   "metadata": {},
   "outputs": [
    {
     "name": "stdout",
     "output_type": "stream",
     "text": [
      "15991.82\n"
     ]
    }
   ],
   "source": [
    "Total_fraud_Amt=np.sum(Total_fraud.Amount)\n",
    "print(Total_fraud_Amt)"
   ]
  },
  {
   "cell_type": "markdown",
   "metadata": {},
   "source": [
    "#### CORRECTLY PREDICTED FRAUDS ie. TP"
   ]
  },
  {
   "cell_type": "code",
   "execution_count": 244,
   "metadata": {},
   "outputs": [],
   "source": [
    "Correct_pred_fraud=y_test_final_df[(y_test_final_df.fraud==1) & (y_test_final_df.final_predicted==1)]"
   ]
  },
  {
   "cell_type": "code",
   "execution_count": 245,
   "metadata": {},
   "outputs": [
    {
     "data": {
      "text/plain": [
       "(116, 4)"
      ]
     },
     "execution_count": 245,
     "metadata": {},
     "output_type": "execute_result"
    }
   ],
   "source": [
    "Correct_pred_fraud.shape"
   ]
  },
  {
   "cell_type": "code",
   "execution_count": 246,
   "metadata": {},
   "outputs": [
    {
     "name": "stdout",
     "output_type": "stream",
     "text": [
      "11951.68\n"
     ]
    }
   ],
   "source": [
    "Correct_pred_fraud_Amt=np.sum(Correct_pred_fraud.Amount)\n",
    "print(Correct_pred_fraud_Amt)"
   ]
  },
  {
   "cell_type": "markdown",
   "metadata": {},
   "source": [
    "#### MISSED OUT FRAUDS - FN"
   ]
  },
  {
   "cell_type": "code",
   "execution_count": 247,
   "metadata": {},
   "outputs": [],
   "source": [
    "Missed_fraud= y_test_final_df[(y_test_final_df.fraud==1) & (y_test_final_df.final_predicted==0)]"
   ]
  },
  {
   "cell_type": "code",
   "execution_count": 248,
   "metadata": {},
   "outputs": [
    {
     "data": {
      "text/plain": [
       "(26, 4)"
      ]
     },
     "execution_count": 248,
     "metadata": {},
     "output_type": "execute_result"
    }
   ],
   "source": [
    "Missed_fraud.shape"
   ]
  },
  {
   "cell_type": "code",
   "execution_count": 249,
   "metadata": {},
   "outputs": [
    {
     "name": "stdout",
     "output_type": "stream",
     "text": [
      "4040.14\n"
     ]
    }
   ],
   "source": [
    "Missed_fraud_Amt=np.sum(Missed_fraud.Amount)\n",
    "print(Missed_fraud_Amt)"
   ]
  },
  {
   "cell_type": "markdown",
   "metadata": {},
   "source": [
    "#### COST FOR CALL VERIFICATION on TP + FP"
   ]
  },
  {
   "cell_type": "code",
   "execution_count": 250,
   "metadata": {
    "scrolled": true
   },
   "outputs": [
    {
     "name": "stdout",
     "output_type": "stream",
     "text": [
      "1470\n"
     ]
    }
   ],
   "source": [
    "Call_cost=(TP + FP)*10\n",
    "print(Call_cost)"
   ]
  },
  {
   "cell_type": "markdown",
   "metadata": {},
   "source": [
    "#### SAVINGS"
   ]
  },
  {
   "cell_type": "code",
   "execution_count": 251,
   "metadata": {},
   "outputs": [
    {
     "name": "stdout",
     "output_type": "stream",
     "text": [
      "6441.540000000001\n"
     ]
    }
   ],
   "source": [
    "Savings=  Correct_pred_fraud_Amt -(Call_cost + Missed_fraud_Amt )\n",
    "print(Savings) "
   ]
  },
  {
   "cell_type": "code",
   "execution_count": 252,
   "metadata": {},
   "outputs": [
    {
     "name": "stdout",
     "output_type": "stream",
     "text": [
      "Model could save Rs. 6441.540000000001\n"
     ]
    }
   ],
   "source": [
    "print(\"Model could save Rs.\",Savings)"
   ]
  },
  {
   "cell_type": "code",
   "execution_count": null,
   "metadata": {},
   "outputs": [],
   "source": []
  },
  {
   "cell_type": "code",
   "execution_count": null,
   "metadata": {},
   "outputs": [],
   "source": []
  }
 ],
 "metadata": {
  "kernelspec": {
   "display_name": "Python 3",
   "language": "python",
   "name": "python3"
  },
  "language_info": {
   "codemirror_mode": {
    "name": "ipython",
    "version": 3
   },
   "file_extension": ".py",
   "mimetype": "text/x-python",
   "name": "python",
   "nbconvert_exporter": "python",
   "pygments_lexer": "ipython3",
   "version": "3.7.3"
  }
 },
 "nbformat": 4,
 "nbformat_minor": 2
}
